{
 "cells": [
  {
   "cell_type": "code",
   "execution_count": 12,
   "metadata": {},
   "outputs": [],
   "source": [
    "# dependencies\n",
    "import pandas as pd\n",
    "import numpy as np\n",
    "import matplotlib.pyplot as mp"
   ]
  },
  {
   "cell_type": "code",
   "execution_count": 13,
   "metadata": {},
   "outputs": [],
   "source": [
    "db_file = \"./journal-database/database100_preprocessed.xlsx\""
   ]
  },
  {
   "cell_type": "code",
   "execution_count": 14,
   "metadata": {},
   "outputs": [],
   "source": [
    "topics = {\n",
    "  \"mk\": \"Musculoskeletal Radiology\",\n",
    "  \"ct\": \"Computed Tomography\",\n",
    "  \"br\": \"Breast Imaging\",\n",
    "  \"gu\": \"Geritourinary Radiology\",\n",
    "  \"us\": \"Ultrasound\",\n",
    "  \"ch\": \"Chest Radiology\",\n",
    "  \"ir\": \"Interventional Radiology\",\n",
    "}"
   ]
  },
  {
   "cell_type": "markdown",
   "metadata": {},
   "source": [
    "Section 2"
   ]
  },
  {
   "cell_type": "code",
   "execution_count": 15,
   "metadata": {},
   "outputs": [],
   "source": [
    "def levenshtein_distance(a, b):\n",
    "    '''\n",
    "    Code from https://www.educative.io/answers/the-levenshtein-distance-algorithm\n",
    "    Calculate the levenshtein distance between two strings\n",
    "    params:\n",
    "    a: string\n",
    "    b: string\n",
    "    returns:\n",
    "    levenshtein dinstace of a and b (integer)\n",
    "    '''\n",
    "    # Declaring array 'D' with rows = len(a) + 1 and columns = len(b) + 1:\n",
    "    D = [[0 for i in range(len(b) + 1)] for j in range(len(a) + 1)]\n",
    "\n",
    "    # Initialising first row:\n",
    "    for i in range(len(a) + 1):\n",
    "        D[i][0] = i\n",
    "\n",
    "    # Initialising first column:\n",
    "    for j in range(len(b) + 1):\n",
    "        D[0][j] = j\n",
    "\n",
    "    for i in range(1, len(a) + 1):\n",
    "        for j in range(1, len(b) + 1):\n",
    "            if a[i - 1] == b[j - 1]:\n",
    "                D[i][j] = D[i - 1][j - 1]\n",
    "            else:\n",
    "                # Adding 1 to account for the cost of operation\n",
    "                insertion = 1 + D[i][j - 1]\n",
    "                deletion = 1 + D[i - 1][j]\n",
    "                replacement = 1 + D[i - 1][j - 1]\n",
    "\n",
    "                # Choosing the best option:\n",
    "                D[i][j] = min(insertion, deletion, replacement)\n",
    "\n",
    "    LD = D[len(a)][len(b)]\n",
    "    return LD"
   ]
  },
  {
   "cell_type": "markdown",
   "metadata": {},
   "source": [
    "Topic: Musculoskeletal Radiology"
   ]
  },
  {
   "cell_type": "code",
   "execution_count": 16,
   "metadata": {},
   "outputs": [
    {
     "name": "stdout",
     "output_type": "stream",
     "text": [
      "mean:  82.19\n",
      "standard deviation:  24.592964441075416\n",
      "mean on lenghts:  96.58\n"
     ]
    },
    {
     "data": {
      "image/png": "[encoded data removed]",
      "text/plain": [
       "<Figure size 1440x72 with 1 Axes>"
      ]
     },
     "metadata": {
      "needs_background": "light"
     },
     "output_type": "display_data"
    }
   ],
   "source": [
    "topic = topics[\"mk\"] # fetch topic\n",
    "\n",
    "mk_sheet = pd.read_excel(db_file, sheet_name=\"mk\")\n",
    "titleLDs = []\n",
    "titleLens = []\n",
    "\n",
    "# title levenshtein distances\n",
    "for title in mk_sheet.title:\n",
    "    titleLDs.append(levenshtein_distance(title, topic.lower()))\n",
    "    titleLens.append(len(title))\n",
    "\n",
    "# means and SDs\n",
    "print(\"mean: \", np.mean(titleLDs))\n",
    "print(\"standard deviation: \", np.std(titleLDs))\n",
    "print(\"mean on lenghts: \", np.mean(titleLens))\n",
    "\n",
    "# visualize in 1D graph\n",
    "fig, ax = mp.subplots(ncols=1, nrows=1, figsize=(20, 1))\n",
    "ax.set_title(\"Topic x Title Levenshtein Distances (\" + topic + \")\")\n",
    "ax.plot(titleLDs, np.zeros_like(titleLDs) + 0, 'x')\n",
    "mp.xlim([0, 175])\n",
    "mp.show()\n"
   ]
  },
  {
   "cell_type": "markdown",
   "metadata": {},
   "source": [
    "Topic: Computed Tomography"
   ]
  },
  {
   "cell_type": "code",
   "execution_count": 17,
   "metadata": {},
   "outputs": [
    {
     "name": "stdout",
     "output_type": "stream",
     "text": [
      "mean:  79.69791666666667\n",
      "standard deviation:  25.941087017696894\n",
      "mean on lenghts:  91.25\n"
     ]
    },
    {
     "data": {
      "image/png": "[encoded data removed]",
      "text/plain": [
       "<Figure size 1440x72 with 1 Axes>"
      ]
     },
     "metadata": {
      "needs_background": "light"
     },
     "output_type": "display_data"
    }
   ],
   "source": [
    "topic = topics[\"ct\"] # fetch topic\n",
    "\n",
    "mk_sheet = pd.read_excel(db_file, sheet_name=\"ct\")\n",
    "titleLDs = []\n",
    "titleLens = []\n",
    "\n",
    "# title levenshtein distances\n",
    "for title in mk_sheet.title:\n",
    "    titleLDs.append(levenshtein_distance(title, topic.lower()))\n",
    "    titleLens.append(len(title))\n",
    "\n",
    "# means and SDs\n",
    "print(\"mean: \", np.mean(titleLDs))\n",
    "print(\"standard deviation: \", np.std(titleLDs))\n",
    "print(\"mean on lenghts: \", np.mean(titleLens))\n",
    "\n",
    "# visualize in 1D graph\n",
    "fig, ax = mp.subplots(ncols=1, nrows=1, figsize=(20, 1))\n",
    "ax.set_title(\"Topic x Title Levenshtein Distances (\" + topic + \")\")\n",
    "ax.plot(titleLDs, np.zeros_like(titleLDs) + 0, 'x')\n",
    "mp.xlim([0, 175])\n",
    "mp.show()\n",
    "\n"
   ]
  },
  {
   "cell_type": "markdown",
   "metadata": {},
   "source": [
    "Topic: Breast Imaging"
   ]
  },
  {
   "cell_type": "code",
   "execution_count": 18,
   "metadata": {},
   "outputs": [
    {
     "name": "stdout",
     "output_type": "stream",
     "text": [
      "mean:  84.98979591836735\n",
      "standard deviation:  28.428749065474875\n",
      "mean on lenghts:  97.26530612244898\n"
     ]
    },
    {
     "data": {
      "image/png": "[encoded data removed]",
      "text/plain": [
       "<Figure size 1440x72 with 1 Axes>"
      ]
     },
     "metadata": {
      "needs_background": "light"
     },
     "output_type": "display_data"
    }
   ],
   "source": [
    "topic = topics[\"br\"] # fetch topic\n",
    "\n",
    "mk_sheet = pd.read_excel(db_file, sheet_name=\"br\")\n",
    "titleLDs = []\n",
    "titleLens = []\n",
    "\n",
    "# title levenshtein distances\n",
    "for title in mk_sheet.title:\n",
    "    titleLDs.append(levenshtein_distance(title, topic.lower()))\n",
    "    titleLens.append(len(title))\n",
    "\n",
    "# means and SDs\n",
    "print(\"mean: \", np.mean(titleLDs))\n",
    "print(\"standard deviation: \", np.std(titleLDs))\n",
    "print(\"mean on lenghts: \", np.mean(titleLens))\n",
    "\n",
    "# visualize in 1D graph\n",
    "fig, ax = mp.subplots(ncols=1, nrows=1, figsize=(20, 1))\n",
    "ax.set_title(\"Topic x Title Levenshtein Distances (\" + topic + \")\")\n",
    "ax.plot(titleLDs, np.zeros_like(titleLDs) + 0, 'x')\n",
    "mp.xlim([0, 175])\n",
    "mp.show()\n"
   ]
  },
  {
   "cell_type": "markdown",
   "metadata": {},
   "source": [
    "Topic: Geritourinary Radiology"
   ]
  },
  {
   "cell_type": "code",
   "execution_count": 19,
   "metadata": {},
   "outputs": [
    {
     "name": "stdout",
     "output_type": "stream",
     "text": [
      "mean:  85.4040404040404\n",
      "standard deviation:  23.904658770789062\n",
      "mean on lenghts:  100.34343434343434\n"
     ]
    },
    {
     "data": {
      "image/png": "[encoded data removed]",
      "text/plain": [
       "<Figure size 1440x72 with 1 Axes>"
      ]
     },
     "metadata": {
      "needs_background": "light"
     },
     "output_type": "display_data"
    }
   ],
   "source": [
    "topic = topics[\"gu\"] # fetch topic\n",
    "\n",
    "mk_sheet = pd.read_excel(db_file, sheet_name=\"gu\")\n",
    "titleLDs = []\n",
    "titleLens = []\n",
    "\n",
    "# title levenshtein distances\n",
    "for title in mk_sheet.title:\n",
    "    titleLDs.append(levenshtein_distance(title, topic.lower()))\n",
    "    titleLens.append(len(title))\n",
    "\n",
    "# means and SDs\n",
    "print(\"mean: \", np.mean(titleLDs))\n",
    "print(\"standard deviation: \", np.std(titleLDs))\n",
    "print(\"mean on lenghts: \", np.mean(titleLens))\n",
    "\n",
    "# visualize in 1D graph\n",
    "fig, ax = mp.subplots(ncols=1, nrows=1, figsize=(20, 1))\n",
    "ax.set_title(\"Topic x Title Levenshtein Distances (\" + topic + \")\")\n",
    "ax.plot(titleLDs, np.zeros_like(titleLDs) + 0, 'x')\n",
    "mp.xlim([0, 175])\n",
    "mp.show()\n"
   ]
  },
  {
   "cell_type": "markdown",
   "metadata": {},
   "source": [
    "Topic: Safety and Quality"
   ]
  },
  {
   "cell_type": "code",
   "execution_count": 20,
   "metadata": {},
   "outputs": [
    {
     "name": "stdout",
     "output_type": "stream",
     "text": [
      "mean:  87.47916666666667\n",
      "standard deviation:  29.10755170006956\n",
      "mean on lenghts:  95.32291666666667\n"
     ]
    },
    {
     "data": {
      "image/png": "[encoded data removed]",
      "text/plain": [
       "<Figure size 1440x72 with 1 Axes>"
      ]
     },
     "metadata": {
      "needs_background": "light"
     },
     "output_type": "display_data"
    }
   ],
   "source": [
    "topic = topics[\"us\"] # fetch topic\n",
    "\n",
    "mk_sheet = pd.read_excel(db_file, sheet_name=\"us\")\n",
    "titleLDs = []\n",
    "titleLens = []\n",
    "\n",
    "# title levenshtein distances\n",
    "for title in mk_sheet.title:\n",
    "    titleLDs.append(levenshtein_distance(title, topic.lower()))\n",
    "    titleLens.append(len(title))\n",
    "\n",
    "# means and SDs\n",
    "print(\"mean: \", np.mean(titleLDs))\n",
    "print(\"standard deviation: \", np.std(titleLDs))\n",
    "print(\"mean on lenghts: \", np.mean(titleLens))\n",
    "\n",
    "# visualize in 1D graph\n",
    "fig, ax = mp.subplots(ncols=1, nrows=1, figsize=(20, 1))\n",
    "ax.set_title(\"Topic x Title Levenshtein Distances (\" + topic + \")\")\n",
    "ax.plot(titleLDs, np.zeros_like(titleLDs) + 0, 'x')\n",
    "mp.xlim([0, 175])\n",
    "mp.show()\n"
   ]
  },
  {
   "cell_type": "markdown",
   "metadata": {},
   "source": [
    "Topic: Chest Radiology"
   ]
  },
  {
   "cell_type": "code",
   "execution_count": 21,
   "metadata": {},
   "outputs": [
    {
     "name": "stdout",
     "output_type": "stream",
     "text": [
      "mean:  80.64646464646465\n",
      "standard deviation:  25.64375724189171\n",
      "mean on lenghts:  91.58585858585859\n"
     ]
    },
    {
     "data": {
      "image/png": "[encoded data removed]",
      "text/plain": [
       "<Figure size 1440x72 with 1 Axes>"
      ]
     },
     "metadata": {
      "needs_background": "light"
     },
     "output_type": "display_data"
    }
   ],
   "source": [
    "topic = topics[\"ch\"] # fetch topic\n",
    "\n",
    "mk_sheet = pd.read_excel(db_file, sheet_name=\"ch\")\n",
    "titleLDs = []\n",
    "titleLens = []\n",
    "\n",
    "# title levenshtein distances\n",
    "for title in mk_sheet.title:\n",
    "    titleLDs.append(levenshtein_distance(title, topic.lower()))\n",
    "    titleLens.append(len(title))\n",
    "\n",
    "# means and SDs\n",
    "print(\"mean: \", np.mean(titleLDs))\n",
    "print(\"standard deviation: \", np.std(titleLDs))\n",
    "print(\"mean on lenghts: \", np.mean(titleLens))\n",
    "\n",
    "# visualize in 1D graph\n",
    "fig, ax = mp.subplots(ncols=1, nrows=1, figsize=(20, 1))\n",
    "ax.set_title(\"Topic x Title Levenshtein Distances (\" + topic + \")\")\n",
    "ax.plot(titleLDs, np.zeros_like(titleLDs) + 0, 'x')\n",
    "mp.xlim([0, 175])\n",
    "mp.show()\n"
   ]
  },
  {
   "cell_type": "markdown",
   "metadata": {},
   "source": [
    "Topic: Interventional Radiology"
   ]
  },
  {
   "cell_type": "code",
   "execution_count": 22,
   "metadata": {},
   "outputs": [
    {
     "name": "stdout",
     "output_type": "stream",
     "text": [
      "mean:  95.35416666666667\n",
      "standard deviation:  26.81960537813502\n",
      "mean on lenghts:  112.83333333333333\n"
     ]
    },
    {
     "data": {
      "image/png": "[encoded data removed]",
      "text/plain": [
       "<Figure size 1440x72 with 1 Axes>"
      ]
     },
     "metadata": {
      "needs_background": "light"
     },
     "output_type": "display_data"
    }
   ],
   "source": [
    "topic = topics[\"ir\"] # fetch topic\n",
    "\n",
    "mk_sheet = pd.read_excel(db_file, sheet_name=\"ir\")\n",
    "titleLDs = []\n",
    "titleLens = []\n",
    "\n",
    "# title levenshtein distances\n",
    "for title in mk_sheet.title:\n",
    "    titleLDs.append(levenshtein_distance(title, topic.lower()))\n",
    "    titleLens.append(len(title))\n",
    "\n",
    "# means and SDs\n",
    "print(\"mean: \", np.mean(titleLDs))\n",
    "print(\"standard deviation: \", np.std(titleLDs))\n",
    "print(\"mean on lenghts: \", np.mean(titleLens))\n",
    "\n",
    "# visualize in 1D graph\n",
    "fig, ax = mp.subplots(ncols=1, nrows=1, figsize=(20, 1))\n",
    "ax.set_title(\"Topic x Title Levenshtein Distances (\" + topic + \")\")\n",
    "ax.plot(titleLDs, np.zeros_like(titleLDs) + 0, 'x')\n",
    "mp.xlim([0, 175])\n",
    "mp.show()\n"
   ]
  }
 ],
 "metadata": {
  "kernelspec": {
   "display_name": "Python 3.9.6 64-bit",
   "language": "python",
   "name": "python3"
  },
  "language_info": {
   "codemirror_mode": {
    "name": "ipython",
    "version": 3
   },
   "file_extension": ".py",
   "mimetype": "text/x-python",
   "name": "python",
   "nbconvert_exporter": "python",
   "pygments_lexer": "ipython3",
   "version": "3.9.6"
  },
  "vscode": {
   "interpreter": {
    "hash": "4fbfea1dd5a17f80dff8df3ba641602c59e31ce1a55b82aea18e6894ff3c71a7"
   }
  }
 },
 "nbformat": 4,
 "nbformat_minor": 2
}
