{
 "cells": [
  {
   "cell_type": "code",
   "execution_count": null,
   "metadata": {},
   "outputs": [],
   "source": [
    "# dependencies\n",
    "import pandas as pd\n",
    "from fuzzywuzzy import fuzz\n",
    "import numpy as np\n",
    "import matplotlib.pyplot as mp"
   ]
  },
  {
   "cell_type": "code",
   "execution_count": null,
   "metadata": {},
   "outputs": [],
   "source": [
    "db_name = \"database.xlsx\""
   ]
  },
  {
   "cell_type": "code",
   "execution_count": null,
   "metadata": {},
   "outputs": [],
   "source": [
    "topics = {\n",
    "  \"mk\": \"Musculoskeletal Radiology\",\n",
    "  \"ct\": \"Computed Tomography\",\n",
    "  \"er\": \"Emergency Radiology\",\n",
    "  \"bq\": \"Biomarkers and Quantative imaging\",\n",
    "  \"sq\": \"Safety and Quality\",\n",
    "  \"pr\": \"Professionalism\",\n",
    "  \"nm\": \"Nuclear Medicine\",\n",
    "  \"ch\": \"Chest Radiology\",\n",
    "  \"br\": \"Breast Imaging\",\n",
    "  \"gu\": \"Geritourinary Radiology\"\n",
    "}"
   ]
  },
  {
   "cell_type": "markdown",
   "metadata": {},
   "source": [
    "Section 2"
   ]
  },
  {
   "cell_type": "code",
   "execution_count": null,
   "metadata": {},
   "outputs": [],
   "source": [
    "# Declaring the strings 'a' and 'b':\n",
    "a = \"junk\"\n",
    "b = \"clunky\"\n",
    "def levenshtein_distance(a, b):\n",
    "    '''\n",
    "    Code from https://www.educative.io/answers/the-levenshtein-distance-algorithm\n",
    "    Calculate the levenshtein distance between two strings\n",
    "    params:\n",
    "    a: string\n",
    "    b: string\n",
    "    returns:\n",
    "    levenshtein dinstace of a and b (integer)\n",
    "    '''\n",
    "    # Declaring array 'D' with rows = len(a) + 1 and columns = len(b) + 1:\n",
    "    D = [[0 for i in range(len(b) + 1)] for j in range(len(a) + 1)]\n",
    "\n",
    "    # Initialising first row:\n",
    "    for i in range(len(a) + 1):\n",
    "        D[i][0] = i\n",
    "\n",
    "    # Initialising first column:\n",
    "    for j in range(len(b) + 1):\n",
    "        D[0][j] = j\n",
    "\n",
    "    for i in range(1, len(a) + 1):\n",
    "        for j in range(1, len(b) + 1):\n",
    "            if a[i - 1] == b[j - 1]:\n",
    "                D[i][j] = D[i - 1][j - 1]\n",
    "            else:\n",
    "                # Adding 1 to account for the cost of operation\n",
    "                insertion = 1 + D[i][j - 1]\n",
    "                deletion = 1 + D[i - 1][j]\n",
    "                replacement = 1 + D[i - 1][j - 1]\n",
    "\n",
    "                # Choosing the best option:\n",
    "                D[i][j] = min(insertion, deletion, replacement)\n",
    "\n",
    "    LD = D[len(a)][len(b)]\n",
    "    return LD"
   ]
  },
  {
   "cell_type": "markdown",
   "metadata": {},
   "source": [
    "Topic: Musculoskeletal Radiology"
   ]
  },
  {
   "cell_type": "code",
   "execution_count": null,
   "metadata": {},
   "outputs": [],
   "source": [
    "topic = topics[\"mk\"] # fetch topic\n",
    "\n",
    "mk_sheet = pd.read_excel(db_name, sheet_name=\"mk\")\n",
    "titleLDs, abstractLDs = [], []\n",
    "\n",
    "# title levenshtein distances\n",
    "for title in mk_sheet.title:\n",
    "    titleLDs.append(levenshtein_distance(title.lower(), topic.lower()))\n",
    "\n",
    "# abstract levenshtein distances\n",
    "for abstract in mk_sheet.abstract:\n",
    "    abstractLDs.append(levenshtein_distance(topic.lower(), abstract.lower()))\n",
    "\n",
    "# means and SDs\n",
    "print(\"title mean: \", np.mean(titleLDs))\n",
    "print(\"title sd: \", np.std(titleLDs))\n",
    "\n",
    "print(\"abstract mean: \", np.mean(abstractLDs))\n",
    "print(\"abstract sd: \", np.std(abstractLDs))\n",
    "\n",
    "# visualize in 1D graph\n",
    "fig, ax = mp.subplots(ncols=1, nrows=2, figsize=(20, 7))\n",
    "ax[0].set_title(\"title levenshtein distances\")\n",
    "ax[1].set_title(\"abstract levenshtein distances\")\n",
    "#mp.xlim([0,])\n",
    "ax[0].plot(titleLDs, np.zeros_like(titleLDs) + 0, 'x')\n",
    "ax[1].plot(abstractLDs, np.zeros_like(abstractLDs) + 0, 'x')\n",
    "mp.show()\n",
    "\n"
   ]
  },
  {
   "cell_type": "markdown",
   "metadata": {},
   "source": [
    "Topic: Computed Tomography"
   ]
  },
  {
   "cell_type": "code",
   "execution_count": null,
   "metadata": {},
   "outputs": [],
   "source": [
    "topic = topics[\"ct\"] # fetch topic\n",
    "\n",
    "mk_sheet = pd.read_excel(db_name, sheet_name=\"ct\")\n",
    "titleLDs, abstractLDs = [], []\n",
    "\n",
    "# title levenshtein distances\n",
    "for title in mk_sheet.title:\n",
    "    titleLDs.append(levenshtein_distance(title.lower(), topic.lower()))\n",
    "\n",
    "# abstract levenshtein distances\n",
    "for abstract in mk_sheet.abstract:\n",
    "    abstractLDs.append(levenshtein_distance(topic.lower(), abstract.lower()))\n",
    "\n",
    "# means and SDs\n",
    "print(\"title mean: \", np.mean(titleLDs))\n",
    "print(\"title sd: \", np.std(titleLDs))\n",
    "\n",
    "print(\"abstract mean: \", np.mean(abstractLDs))\n",
    "print(\"abstract sd: \", np.std(abstractLDs))\n",
    "\n",
    "# visualize in 1D graph\n",
    "fig, ax = mp.subplots(ncols=1, nrows=2, figsize=(20, 7))\n",
    "ax[0].set_title(\"title levenshtein distances\")\n",
    "ax[1].set_title(\"abstract levenshtein distances\")\n",
    "ax[0].plot(titleLDs, np.zeros_like(titleLDs) + 0, 'x')\n",
    "ax[1].plot(abstractLDs, np.zeros_like(abstractLDs) + 0, 'x')\n",
    "mp.show()"
   ]
  },
  {
   "cell_type": "markdown",
   "metadata": {},
   "source": [
    "Topic: Emergency Radiology"
   ]
  },
  {
   "cell_type": "code",
   "execution_count": null,
   "metadata": {},
   "outputs": [],
   "source": [
    "topic = topics[\"er\"] # fetch topic\n",
    "\n",
    "mk_sheet = pd.read_excel(db_name, sheet_name=\"er\")\n",
    "titleLDs, abstractLDs = [], []\n",
    "\n",
    "# title levenshtein distances\n",
    "for title in mk_sheet.title:\n",
    "    titleLDs.append(levenshtein_distance(title.lower(), topic.lower()))\n",
    "\n",
    "# abstract levenshtein distances\n",
    "for abstract in mk_sheet.abstract:\n",
    "    abstractLDs.append(levenshtein_distance(topic.lower(), abstract.lower()))\n",
    "\n",
    "# means and SDs\n",
    "print(\"title mean: \", np.mean(titleLDs))\n",
    "print(\"title sd: \", np.std(titleLDs))\n",
    "\n",
    "print(\"abstract mean: \", np.mean(abstractLDs))\n",
    "print(\"abstract sd: \", np.std(abstractLDs))\n",
    "\n",
    "# visualize in 1D graph\n",
    "fig, ax = mp.subplots(ncols=1, nrows=2, figsize=(20, 7))\n",
    "ax[0].set_title(\"title levenshtein distances\")\n",
    "ax[1].set_title(\"abstract levenshtein distances\")\n",
    "ax[0].plot(titleLDs, np.zeros_like(titleLDs) + 0, 'x')\n",
    "ax[1].plot(abstractLDs, np.zeros_like(abstractLDs) + 0, 'x')\n",
    "mp.show()"
   ]
  },
  {
   "cell_type": "markdown",
   "metadata": {},
   "source": [
    "Topic: Biomarkers and Quantative imaging"
   ]
  },
  {
   "cell_type": "code",
   "execution_count": null,
   "metadata": {},
   "outputs": [],
   "source": [
    "topic = topics[\"bq\"] # fetch topic\n",
    "\n",
    "mk_sheet = pd.read_excel(db_name, sheet_name=\"bq\")\n",
    "titleLDs, abstractLDs = [], []\n",
    "\n",
    "# title levenshtein distances\n",
    "for title in mk_sheet.title:\n",
    "    titleLDs.append(levenshtein_distance(title.lower(), topic.lower()))\n",
    "\n",
    "# abstract levenshtein distances\n",
    "for abstract in mk_sheet.abstract:\n",
    "    abstractLDs.append(levenshtein_distance(topic.lower(), abstract.lower()))\n",
    "\n",
    "# means and SDs\n",
    "print(\"title mean: \", np.mean(titleLDs))\n",
    "print(\"title sd: \", np.std(titleLDs))\n",
    "\n",
    "print(\"abstract mean: \", np.mean(abstractLDs))\n",
    "print(\"abstract sd: \", np.std(abstractLDs))\n",
    "\n",
    "# visualize in 1D graph\n",
    "fig, ax = mp.subplots(ncols=1, nrows=2, figsize=(20, 7))\n",
    "ax[0].set_title(\"title levenshtein distances\")\n",
    "ax[1].set_title(\"abstract levenshtein distances\")\n",
    "ax[0].plot(titleLDs, np.zeros_like(titleLDs) + 0, 'x')\n",
    "ax[1].plot(abstractLDs, np.zeros_like(abstractLDs) + 0, 'x')\n",
    "mp.show()"
   ]
  },
  {
   "cell_type": "markdown",
   "metadata": {},
   "source": [
    "Topic: Safety and Quality"
   ]
  },
  {
   "cell_type": "code",
   "execution_count": null,
   "metadata": {},
   "outputs": [],
   "source": [
    "topic = topics[\"sq\"] # fetch topic\n",
    "\n",
    "mk_sheet = pd.read_excel(db_name, sheet_name=\"sq\")\n",
    "titleLDs, abstractLDs = [], []\n",
    "\n",
    "# title levenshtein distances\n",
    "for title in mk_sheet.title:\n",
    "    titleLDs.append(levenshtein_distance(title.lower(), topic.lower()))\n",
    "\n",
    "# abstract levenshtein distances\n",
    "for abstract in mk_sheet.abstract:\n",
    "    abstractLDs.append(levenshtein_distance(topic.lower(), abstract.lower()))\n",
    "\n",
    "# means and SDs\n",
    "print(\"title mean: \", np.mean(titleLDs))\n",
    "print(\"title sd: \", np.std(titleLDs))\n",
    "\n",
    "print(\"abstract mean: \", np.mean(abstractLDs))\n",
    "print(\"abstract sd: \", np.std(abstractLDs))\n",
    "\n",
    "# visualize in 1D graph\n",
    "fig, ax = mp.subplots(ncols=1, nrows=2, figsize=(20, 7))\n",
    "ax[0].set_title(\"title levenshtein distances\")\n",
    "ax[1].set_title(\"abstract levenshtein distances\")\n",
    "ax[0].plot(titleLDs, np.zeros_like(titleLDs) + 0, 'x')\n",
    "ax[1].plot(abstractLDs, np.zeros_like(abstractLDs) + 0, 'x')\n",
    "mp.show()"
   ]
  },
  {
   "cell_type": "markdown",
   "metadata": {},
   "source": [
    "Topic: Professionalism"
   ]
  },
  {
   "cell_type": "code",
   "execution_count": null,
   "metadata": {},
   "outputs": [],
   "source": [
    "topic = topics[\"pr\"] # fetch topic\n",
    "\n",
    "mk_sheet = pd.read_excel(db_name, sheet_name=\"pr\")\n",
    "titleLDs, abstractLDs = [], []\n",
    "\n",
    "# title levenshtein distances\n",
    "for title in mk_sheet.title:\n",
    "    titleLDs.append(levenshtein_distance(title.lower(), topic.lower()))\n",
    "\n",
    "# abstract levenshtein distances\n",
    "for abstract in mk_sheet.abstract:\n",
    "    abstractLDs.append(levenshtein_distance(topic.lower(), abstract.lower()))\n",
    "\n",
    "# means and SDs\n",
    "print(\"title mean: \", np.mean(titleLDs))\n",
    "print(\"title sd: \", np.std(titleLDs))\n",
    "\n",
    "print(\"abstract mean: \", np.mean(abstractLDs))\n",
    "print(\"abstract sd: \", np.std(abstractLDs))\n",
    "\n",
    "# visualize in 1D graph\n",
    "fig, ax = mp.subplots(ncols=1, nrows=2, figsize=(20, 7))\n",
    "ax[0].set_title(\"title levenshtein distances\")\n",
    "ax[1].set_title(\"abstract levenshtein distances\")\n",
    "ax[0].plot(titleLDs, np.zeros_like(titleLDs) + 0, 'x')\n",
    "ax[1].plot(abstractLDs, np.zeros_like(abstractLDs) + 0, 'x')\n",
    "mp.show()"
   ]
  },
  {
   "cell_type": "markdown",
   "metadata": {},
   "source": [
    "Topic: Nuclear Medicine"
   ]
  },
  {
   "cell_type": "code",
   "execution_count": null,
   "metadata": {},
   "outputs": [],
   "source": [
    "topic = topics[\"nm\"] # fetch topic\n",
    "\n",
    "mk_sheet = pd.read_excel(db_name, sheet_name=\"nm\")\n",
    "titleLDs, abstractLDs = [], []\n",
    "\n",
    "# title levenshtein distances\n",
    "for title in mk_sheet.title:\n",
    "    titleLDs.append(levenshtein_distance(title.lower(), topic.lower()))\n",
    "\n",
    "# abstract levenshtein distances\n",
    "for abstract in mk_sheet.abstract:\n",
    "    abstractLDs.append(levenshtein_distance(topic.lower(), abstract.lower()))\n",
    "\n",
    "# means and SDs\n",
    "print(\"title mean: \", np.mean(titleLDs))\n",
    "print(\"title sd: \", np.std(titleLDs))\n",
    "\n",
    "print(\"abstract mean: \", np.mean(abstractLDs))\n",
    "print(\"abstract sd: \", np.std(abstractLDs))\n",
    "\n",
    "# visualize in 1D graph\n",
    "fig, ax = mp.subplots(ncols=1, nrows=2, figsize=(20, 7))\n",
    "ax[0].set_title(\"title levenshtein distances\")\n",
    "ax[1].set_title(\"abstract levenshtein distances\")\n",
    "ax[0].plot(titleLDs, np.zeros_like(titleLDs) + 0, 'x')\n",
    "ax[1].plot(abstractLDs, np.zeros_like(abstractLDs) + 0, 'x')\n",
    "mp.show()"
   ]
  },
  {
   "cell_type": "markdown",
   "metadata": {},
   "source": [
    "Topic: Chest Radiology"
   ]
  },
  {
   "cell_type": "code",
   "execution_count": null,
   "metadata": {},
   "outputs": [],
   "source": [
    "topic = topics[\"ch\"] # fetch topic\n",
    "\n",
    "mk_sheet = pd.read_excel(db_name, sheet_name=\"ch\")\n",
    "titleLDs, abstractLDs = [], []\n",
    "\n",
    "# title levenshtein distances\n",
    "for title in mk_sheet.title:\n",
    "    titleLDs.append(levenshtein_distance(title.lower(), topic.lower()))\n",
    "\n",
    "# abstract levenshtein distances\n",
    "for abstract in mk_sheet.abstract:\n",
    "    abstractLDs.append(levenshtein_distance(topic.lower(), abstract.lower()))\n",
    "\n",
    "# means and SDs\n",
    "print(\"title mean: \", np.mean(titleLDs))\n",
    "print(\"title sd: \", np.std(titleLDs))\n",
    "\n",
    "print(\"abstract mean: \", np.mean(abstractLDs))\n",
    "print(\"abstract sd: \", np.std(abstractLDs))\n",
    "\n",
    "# visualize in 1D graph\n",
    "fig, ax = mp.subplots(ncols=1, nrows=2, figsize=(20, 7))\n",
    "ax[0].set_title(\"title levenshtein distances\")\n",
    "ax[1].set_title(\"abstract levenshtein distances\")\n",
    "ax[0].plot(titleLDs, np.zeros_like(titleLDs) + 0, 'x')\n",
    "ax[1].plot(abstractLDs, np.zeros_like(abstractLDs) + 0, 'x')\n",
    "mp.show()"
   ]
  },
  {
   "cell_type": "markdown",
   "metadata": {},
   "source": [
    "Topic: Breast Imaging"
   ]
  },
  {
   "cell_type": "code",
   "execution_count": null,
   "metadata": {},
   "outputs": [],
   "source": [
    "topic = topics[\"br\"] # fetch topic\n",
    "\n",
    "mk_sheet = pd.read_excel(db_name, sheet_name=\"br\")\n",
    "titleLDs, abstractLDs = [], []\n",
    "\n",
    "# title levenshtein distances\n",
    "for title in mk_sheet.title:\n",
    "    titleLDs.append(levenshtein_distance(title.lower(), topic.lower()))\n",
    "\n",
    "# abstract levenshtein distances\n",
    "for abstract in mk_sheet.abstract:\n",
    "    abstractLDs.append(levenshtein_distance(topic.lower(), abstract.lower()))\n",
    "\n",
    "# means and SDs\n",
    "print(\"title mean: \", np.mean(titleLDs))\n",
    "print(\"title sd: \", np.std(titleLDs))\n",
    "\n",
    "print(\"abstract mean: \", np.mean(abstractLDs))\n",
    "print(\"abstract sd: \", np.std(abstractLDs))\n",
    "\n",
    "# visualize in 1D graph\n",
    "fig, ax = mp.subplots(ncols=1, nrows=2, figsize=(20, 7))\n",
    "ax[0].set_title(\"title levenshtein distances\")\n",
    "ax[1].set_title(\"abstract levenshtein distances\")\n",
    "ax[0].plot(titleLDs, np.zeros_like(titleLDs) + 0, 'x')\n",
    "ax[1].plot(abstractLDs, np.zeros_like(abstractLDs) + 0, 'x')\n",
    "mp.show()"
   ]
  },
  {
   "cell_type": "markdown",
   "metadata": {},
   "source": [
    "Topic: Geritourinary Radiology"
   ]
  },
  {
   "cell_type": "code",
   "execution_count": null,
   "metadata": {},
   "outputs": [],
   "source": [
    "topic = topics[\"gu\"] # fetch topic\n",
    "\n",
    "mk_sheet = pd.read_excel(db_name, sheet_name=\"gu\")\n",
    "titleLDs, abstractLDs = [], []\n",
    "\n",
    "# title levenshtein distances\n",
    "for title in mk_sheet.title:\n",
    "    titleLDs.append(levenshtein_distance(title.lower(), topic.lower()))\n",
    "\n",
    "# abstract levenshtein distances\n",
    "for abstract in mk_sheet.abstract:\n",
    "    abstractLDs.append(levenshtein_distance(topic.lower(), abstract.lower()))\n",
    "\n",
    "# means and SDs\n",
    "print(\"title mean: \", np.mean(titleLDs))\n",
    "print(\"title sd: \", np.std(titleLDs))\n",
    "\n",
    "print(\"abstract mean: \", np.mean(abstractLDs))\n",
    "print(\"abstract sd: \", np.std(abstractLDs))\n",
    "\n",
    "# visualize in 1D graph\n",
    "fig, ax = mp.subplots(ncols=1, nrows=2, figsize=(20, 7))\n",
    "ax[0].set_title(\"title levenshtein distances\")\n",
    "ax[1].set_title(\"abstract levenshtein distances\")\n",
    "ax[0].plot(titleLDs, np.zeros_like(titleLDs) + 0, 'x')\n",
    "ax[1].plot(abstractLDs, np.zeros_like(abstractLDs) + 0, 'x')\n",
    "mp.show()"
   ]
  }
 ],
 "metadata": {
  "kernelspec": {
   "display_name": "Python 3.10.7 64-bit",
   "language": "python",
   "name": "python3"
  },
  "language_info": {
   "codemirror_mode": {
    "name": "ipython",
    "version": 3
   },
   "file_extension": ".py",
   "mimetype": "text/x-python",
   "name": "python",
   "nbconvert_exporter": "python",
   "pygments_lexer": "ipython3",
   "version": "3.10.7"
  },
  "orig_nbformat": 4,
  "vscode": {
   "interpreter": {
    "hash": "26de051ba29f2982a8de78e945f0abaf191376122a1563185a90213a26c5da77"
   }
  }
 },
 "nbformat": 4,
 "nbformat_minor": 2
}
