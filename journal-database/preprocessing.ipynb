{
 "cells": [
  {
   "cell_type": "markdown",
   "metadata": {},
   "source": [
    "Preprocess the data"
   ]
  },
  {
   "cell_type": "code",
   "execution_count": null,
   "metadata": {},
   "outputs": [],
   "source": [
    "import re\n",
    "import nltk\n",
    "import xlsxwriter\n",
    "import pandas as pd\n",
    "from nltk.stem import WordNetLemmatizer\n",
    "from nltk.corpus import stopwords\n",
    "\n",
    "stemmer = WordNetLemmatizer()\n",
    "nltk.download('stopwords')\n",
    "nltk.download('wordnet')\n",
    "nltk.download('punkt')\n",
    "nltk.download('omw-1.4')\n",
    "en_stop = set(stopwords.words('english'))\n",
    "\n",
    "def preprocess_text(document):\n",
    "    \"\"\"\n",
    "    preprocess text, remove numbers, punctuation, uppercase etc.\n",
    "\n",
    "    Code gotten from and more specific documentation:\n",
    "    https://stackabuse.com/python-for-nlp-working-with-facebook-fasttext-library/\n",
    "    \"\"\"\n",
    "    # Remove all the special characters\n",
    "    document = re.sub(r'\\W', ' ', str(document))\n",
    "\n",
    "    # remove all single characters\n",
    "    document = re.sub(r'\\s+[a-zA-Z]\\s+', ' ', document)\n",
    "\n",
    "    # Remove single characters from the start\n",
    "    document = re.sub(r'\\^[a-zA-Z]\\s+', ' ', document)\n",
    "\n",
    "    # Substituting multiple spaces with single space\n",
    "    document = re.sub(r'\\s+', ' ', document, flags=re.I)\n",
    "\n",
    "    # Removing prefixed 'b'\n",
    "    document = re.sub(r'^b\\s+', '', document)\n",
    "\n",
    "    # Converting to Lowercase\n",
    "    document = document.lower()\n",
    "\n",
    "    # Lemmatization\n",
    "    tokens = document.split()\n",
    "    tokens = [stemmer.lemmatize(word) for word in tokens]\n",
    "    tokens = [word for word in tokens if word not in en_stop]\n",
    "    tokens = [word for word in tokens if len(word) > 3]\n",
    "\n",
    "    preprocessed_text = ' '.join(tokens)\n",
    "\n",
    "    return preprocessed_text"
   ]
  },
  {
   "cell_type": "code",
   "execution_count": null,
   "metadata": {},
   "outputs": [],
   "source": [
    "# raw data\n",
    "raw_data = \"database100.xlsx\"\n",
    "\n",
    "# create workbook for the preprocessed database\n",
    "workbook = xlsxwriter.Workbook(\"database100_preprocessed.xlsx\")\n",
    "\n",
    "topics = {\n",
    "  \"mk\": \"Musculoskeletal Radiology\",\n",
    "  \"ct\": \"Computed Tomography\",\n",
    "  \"br\": \"Breast Imaging\",\n",
    "  \"gu\": \"Geritourinary Radiology\",\n",
    "  \"us\": \"Ultrasound\",\n",
    "  \"ch\": \"Chest Radiology\",\n",
    "  \"ir\": \"Interventional Radiology\",\n",
    "}"
   ]
  },
  {
   "cell_type": "code",
   "execution_count": null,
   "metadata": {},
   "outputs": [],
   "source": [
    "# preprocess the data\n",
    "\n",
    "for topic in topics:\n",
    "    sheet = pd.read_excel(raw_data, sheet_name=topic) # open correct sheet from raw data\n",
    "    \n",
    "    worksheet = workbook.add_worksheet(topic)\n",
    "\n",
    "    worksheet.write(0, 0, 'title')\n",
    "    worksheet.write(0, 1, 'authors')\n",
    "    worksheet.write(0, 2, 'abstract')\n",
    "    for i, title in enumerate(sheet.title):\n",
    "        worksheet.write(i+1, 0, preprocess_text(title))\n",
    "    for j, author in enumerate(sheet.authors):\n",
    "        worksheet.write(j+1, 1, author)\n",
    "    for k, abstract in enumerate(sheet.abstract):\n",
    "        worksheet.write(k+1, 2, preprocess_text(abstract))\n",
    "\n",
    "workbook.close()\n"
   ]
  }
 ],
 "metadata": {
  "kernelspec": {
   "display_name": "Python 3 (ipykernel)",
   "language": "python",
   "name": "python3"
  },
  "language_info": {
   "codemirror_mode": {
    "name": "ipython",
    "version": 3
   },
   "file_extension": ".py",
   "mimetype": "text/x-python",
   "name": "python",
   "nbconvert_exporter": "python",
   "pygments_lexer": "ipython3",
   "version": "3.8.10"
  },
  "vscode": {
   "interpreter": {
    "hash": "c47e19fa6775d3cdc924788ab6c939d3ea38ea8e1afeead3182c988de8926052"
   }
  }
 },
 "nbformat": 4,
 "nbformat_minor": 2
}
