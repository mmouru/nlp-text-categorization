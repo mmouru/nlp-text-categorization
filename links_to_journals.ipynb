{
 "cells": [
  {
   "cell_type": "code",
   "execution_count": 1,
   "id": "02ef2e8f",
   "metadata": {},
   "outputs": [],
   "source": [
    "import requests as req\n",
    "import bs4\n",
    "import xlsxwriter"
   ]
  },
  {
   "cell_type": "code",
   "execution_count": 2,
   "id": "e5a481f6",
   "metadata": {},
   "outputs": [],
   "source": [
    "# abbrevations explained in categories.txt\n",
    "categories = [\"mk\", \"ct\", \"br\", \"gu\", \"er\", \"bq\", \"sq\", \"pr\", \"nm\", \"ch\"]\n"
   ]
  },
  {
   "cell_type": "code",
   "execution_count": 3,
   "id": "81719822",
   "metadata": {},
   "outputs": [],
   "source": [
    "# create one excel db for all category links to journals\n",
    "workbook = xlsxwriter.Workbook(\"journal_links_db.xlsx\")\n",
    "for category in categories:\n",
    "    res = req.get('https://pubs.rsna.org/topic/subspecialty/{}?SeriesKey=radiology&sortBy=Ppub&startPage=0&pageSize=100'.format(category))\n",
    "    soup = bs4.BeautifulSoup(res.content, 'html.parser')\n",
    "    # create new worksheet for different categories\n",
    "    worksheet = workbook.add_worksheet(category)\n",
    "    worksheet.write(0, 0, 'link')\n",
    "    row = 1\n",
    "    for item in soup.find_all(class_='search-item__doi-link pull-left'):\n",
    "        worksheet.write(row, 0, item.get_text())\n",
    "        row += 1\n",
    "\n",
    "workbook.close()"
   ]
  },
  {
   "cell_type": "code",
   "execution_count": null,
   "id": "3fa4a273",
   "metadata": {},
   "outputs": [],
   "source": []
  }
 ],
 "metadata": {
  "kernelspec": {
   "display_name": "Python 3 (ipykernel)",
   "language": "python",
   "name": "python3"
  },
  "language_info": {
   "codemirror_mode": {
    "name": "ipython",
    "version": 3
   },
   "file_extension": ".py",
   "mimetype": "text/x-python",
   "name": "python",
   "nbconvert_exporter": "python",
   "pygments_lexer": "ipython3",
   "version": "3.9.13"
  }
 },
 "nbformat": 4,
 "nbformat_minor": 5
}
