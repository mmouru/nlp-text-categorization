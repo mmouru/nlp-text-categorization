{
 "cells": [
  {
   "cell_type": "code",
   "execution_count": 1,
   "id": "422f1d39",
   "metadata": {},
   "outputs": [],
   "source": [
    "import pandas as pd\n",
    "import requests as req\n",
    "import bs4\n",
    "import xlsxwriter\n",
    "import time"
   ]
  },
  {
   "cell_type": "code",
   "execution_count": 2,
   "id": "25dd8b37",
   "metadata": {},
   "outputs": [],
   "source": [
    "file_name = 'journal_links_db.xlsx'\n",
    "xlsx = pd.ExcelFile(file_name)\n",
    "sheet_names = xlsx.sheet_names\n",
    "# print(sheet_names)\n",
    "# ['mk', 'ct', 'br', 'gu', 'er', 'bq', 'sq', 'pr', 'nm', 'ch']"
   ]
  },
  {
   "cell_type": "code",
   "execution_count": 3,
   "id": "23b246a0",
   "metadata": {},
   "outputs": [],
   "source": [
    "def get_abstract(soup):\n",
    "    try:\n",
    "        abstract_header = soup.find(class_='sectionInfo abstractSectionHeading')\n",
    "        abstract = abstract_header.find_next_sibling('p')\n",
    "        return abstract.get_text()\n",
    "    except:\n",
    "        print('err')\n",
    "        return 'err'\n",
    "\n",
    "def get_authors(soup):\n",
    "    try:\n",
    "        names = \"\"\n",
    "        authors_class = soup.find(class_='rlist--inline loa hidden-xs loa-accordion')\n",
    "        authors = authors_class.findChildren(\"a\")\n",
    "        for author in authors:\n",
    "            name = author.get_text()\n",
    "            if name:\n",
    "                #add names to list and remove whitespace\n",
    "                names += (name.strip()) + \",\"\n",
    "        print(names)\n",
    "        return names[:-1] # remove last comma \n",
    "    except:\n",
    "        print('err')\n",
    "        return 'err'\n",
    "\n",
    "def get_title(soup):\n",
    "    try:\n",
    "        title = soup.find(class_='citation__title')\n",
    "        print(title)\n",
    "        return title.get_text()\n",
    "    except:\n",
    "        print('err')\n",
    "        return 'err'"
   ]
  },
  {
   "cell_type": "code",
   "execution_count": 4,
   "id": "eb0e2d6d",
   "metadata": {},
   "outputs": [],
   "source": [
    "# create workbook for the database\n",
    "# if creating new one remove old or name otherwise e.g. \"database2.xlsx\"\n",
    "workbook = xlsxwriter.Workbook(\"database.xlsx\")"
   ]
  },
  {
   "cell_type": "code",
   "execution_count": 5,
   "id": "e653ad03",
   "metadata": {},
   "outputs": [
    {
     "name": "stdout",
     "output_type": "stream",
     "text": [
      "CATEGORY############################################mk\n",
      "0 https://doi.org/10.1148/radiol.211818\n",
      "<h1 class=\"citation__title\"><a href=\"/doi/full/10.1148/radiol.211818\" title=\"Dual-Energy CT for Detecting Painful Knee Prosthesis Loosening\">Dual-Energy CT for Detecting Painful Knee Prosthesis Loosening</a></h1>\n",
      "Giovanni Foti,Chiara Longo,Mirko D’Onofrio,Simone Natali,Gianluca Piovan,Eugenio Oliboni,Venanzio Iacono,Massimo Guerriero,Claudio Zorzi,\n"
     ]
    },
    {
     "ename": "KeyboardInterrupt",
     "evalue": "",
     "output_type": "error",
     "traceback": [
      "\u001b[1;31m---------------------------------------------------------------------------\u001b[0m",
      "\u001b[1;31mKeyboardInterrupt\u001b[0m                         Traceback (most recent call last)",
      "Cell \u001b[1;32mIn [5], line 21\u001b[0m\n\u001b[0;32m     19\u001b[0m         worksheet\u001b[39m.\u001b[39mwrite(i \u001b[39m+\u001b[39m \u001b[39m1\u001b[39m, \u001b[39m1\u001b[39m, get_authors(article_soup))\n\u001b[0;32m     20\u001b[0m         worksheet\u001b[39m.\u001b[39mwrite(i \u001b[39m+\u001b[39m \u001b[39m1\u001b[39m, \u001b[39m2\u001b[39m, get_abstract(article_soup))\n\u001b[1;32m---> 21\u001b[0m         time\u001b[39m.\u001b[39;49msleep(\u001b[39m30\u001b[39;49m)\n\u001b[0;32m     22\u001b[0m workbook\u001b[39m.\u001b[39mclose()\n",
      "\u001b[1;31mKeyboardInterrupt\u001b[0m: "
     ]
    }
   ],
   "source": [
    "# script to write all journal info to database\n",
    "# different categories will be written on different sheets named 'mk', 'ct', ...\n",
    "for category in sheet_names:\n",
    "    print(\"CATEGORY############################################\" + category)\n",
    "    # some pandas-excel-xlsx magic here... ¯\\_(ツ)_/¯\n",
    "    df = pd.read_excel(file_name, sheet_name=category)\n",
    "    worksheet = workbook.add_worksheet(category)\n",
    "    worksheet.write(0, 0, 'title')\n",
    "    worksheet.write(0, 1, 'authors')\n",
    "    worksheet.write(0, 2, 'abstract')\n",
    "    for i in range(0, 9): # reading links from pandas_tables starts at index 0, if want to run all change range to (0,99)\n",
    "        link = df.iloc[i].values[0]\n",
    "        print(str(i) + \" \" + link)\n",
    "        # get article\n",
    "        response = req.get(link)\n",
    "        article_soup = bs4.BeautifulSoup(response.content, 'html.parser')\n",
    "        # we have to increment i by 0 so we can have headers in index 0\n",
    "        worksheet.write(i + 1, 0, get_title(article_soup))\n",
    "        worksheet.write(i + 1, 1, get_authors(article_soup))\n",
    "        worksheet.write(i + 1, 2, get_abstract(article_soup))\n",
    "        time.sleep(30)\n",
    "workbook.close()"
   ]
  }
 ],
 "metadata": {
  "kernelspec": {
   "display_name": "Python 3.10.7 64-bit",
   "language": "python",
   "name": "python3"
  },
  "language_info": {
   "codemirror_mode": {
    "name": "ipython",
    "version": 3
   },
   "file_extension": ".py",
   "mimetype": "text/x-python",
   "name": "python",
   "nbconvert_exporter": "python",
   "pygments_lexer": "ipython3",
   "version": "3.10.7"
  },
  "vscode": {
   "interpreter": {
    "hash": "26de051ba29f2982a8de78e945f0abaf191376122a1563185a90213a26c5da77"
   }
  }
 },
 "nbformat": 4,
 "nbformat_minor": 5
}
