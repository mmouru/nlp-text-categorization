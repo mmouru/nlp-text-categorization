{
 "cells": [
  {
   "cell_type": "code",
   "execution_count": 20,
   "id": "83334385",
   "metadata": {},
   "outputs": [],
   "source": [
    "from gensim.test.utils import common_texts\n",
    "from gensim.models import Word2Vec, KeyedVectors\n",
    "import numpy as np\n",
    "import pandas as pd\n",
    "import time\n",
    "from sklearn import decomposition\n",
    "import gensim.downloader as api"
   ]
  },
  {
   "cell_type": "code",
   "execution_count": 22,
   "id": "ee902de5",
   "metadata": {},
   "outputs": [],
   "source": [
    "# model is trained on text8 corpus AND IS SAVED in repository\n",
    "# take the model in use in next cell\n",
    "\n",
    "#corpus = api.load('text8')\n",
    "model = Word2Vec(sentences=dataset, vector_size=100, window=5, min_count=1, workers=4)\n",
    "\n",
    "model.save(\"wikipedia.model\")\n",
    "# https://github.com/RaRe-Technologies/gensim-data\n",
    "#\n",
    "#GLOVE https://nlp.stanford.edu/pubs/glove.pdf\n",
    "#dataset = api.load(\"wiki-english-20171001\") "
   ]
  },
  {
   "cell_type": "code",
   "execution_count": 23,
   "id": "afcb89e0",
   "metadata": {},
   "outputs": [
    {
     "name": "stdout",
     "output_type": "stream",
     "text": [
      "3\n"
     ]
    }
   ],
   "source": [
    "#model = Word2Vec.load(\"trained_model.model\")\n",
    "vocab_len = len(model.wv)\n",
    "print(vocab_len)"
   ]
  },
  {
   "cell_type": "code",
   "execution_count": 13,
   "id": "4ab6a536",
   "metadata": {},
   "outputs": [],
   "source": [
    "model = Word2Vec(sentences=sentences, vector_size=100, window=5, min_count=1, workers=4)\n",
    "model.save('model_with_own_corpus.model')"
   ]
  },
  {
   "cell_type": "code",
   "execution_count": 5,
   "id": "32d1b047",
   "metadata": {},
   "outputs": [],
   "source": [
    "model = KeyedVectors.load_word2vec_format('GoogleNews-vectors-negative300.bin', binary=True)"
   ]
  },
  {
   "cell_type": "code",
   "execution_count": 24,
   "id": "bc26a30f",
   "metadata": {},
   "outputs": [],
   "source": [
    "topics = {\n",
    "  \"mk\": \"musculoskeletal radiology\",\n",
    "  \"ct\": \"computed tomography\",\n",
    "  \"br\": \"breast imaging\",\n",
    "  \"gu\": \"geritourinary radiology\",\n",
    "  \"us\": \"ultrasound\",\n",
    "  \"ch\": \"chest radiology\",\n",
    "  \"ir\": \"interventional radiology\",\n",
    "}\n",
    "\n",
    "#test abstract\n",
    "t_abstract = 'dual energy generally better diagnostic performance interreader reproducibility identify loosening tibial femoral component painful total knee prosthesis compared single energy radiography'"
   ]
  },
  {
   "cell_type": "code",
   "execution_count": 25,
   "id": "879b0f95",
   "metadata": {},
   "outputs": [
    {
     "name": "stdout",
     "output_type": "stream",
     "text": [
      "1375\n"
     ]
    }
   ],
   "source": [
    "## TRAIN OWN MODEL GET ALL SENTENCES IN 700 ARTICLES\n",
    "sentences = []\n",
    "for topic in topics:\n",
    "    sentences.append(topics[topic].split(\" \"))\n",
    "    array_of_abstracts = np.array(pd.read_excel(\"database100_preprocessed.xlsx\", sheet_name=topic).abstract)\n",
    "    for abstract in array_of_abstracts:\n",
    "        sentences.append(abstract.split(\" \"))\n",
    "    array_of_titles = np.array(pd.read_excel(\"database100_preprocessed.xlsx\", sheet_name=topic).title)\n",
    "    for title in array_of_titles:\n",
    "        sentences.append(title.split(\" \"))\n",
    "\n",
    "print(len(sentences))"
   ]
  },
  {
   "cell_type": "code",
   "execution_count": 132,
   "id": "4f03d234",
   "metadata": {},
   "outputs": [
    {
     "name": "stdout",
     "output_type": "stream",
     "text": [
      "1375\n",
      "254369\n"
     ]
    }
   ],
   "source": [
    "model.build_vocab(sentences, update=True)\n",
    "vocab_len = len(model.wv)\n",
    "print(vocab_len)\n",
    "\n",
    "start = time.time()\n",
    "model.train(\n",
    "    sentences,\n",
    "    total_examples=model.corpus_count,\n",
    "    epochs=1001,\n",
    "    report_delay=1,\n",
    "    compute_loss = True\n",
    ")\n",
    "end = time.time()-\n",
    "model.save('trained_wikipedia_model.model')"
   ]
  },
  {
   "cell_type": "code",
   "execution_count": 27,
   "id": "361343d3",
   "metadata": {},
   "outputs": [
    {
     "ename": "KeyError",
     "evalue": "\"Key 'geritourinary' not present\"",
     "output_type": "error",
     "traceback": [
      "\u001b[0;31m---------------------------------------------------------------------------\u001b[0m",
      "\u001b[0;31mKeyError\u001b[0m                                  Traceback (most recent call last)",
      "Cell \u001b[0;32mIn [27], line 1\u001b[0m\n\u001b[0;32m----> 1\u001b[0m \u001b[38;5;28mprint\u001b[39m(\u001b[43mmodel\u001b[49m\u001b[38;5;241;43m.\u001b[39;49m\u001b[43mwv\u001b[49m\u001b[43m[\u001b[49m\u001b[38;5;124;43m'\u001b[39;49m\u001b[38;5;124;43mgeritourinary\u001b[39;49m\u001b[38;5;124;43m'\u001b[39;49m\u001b[43m]\u001b[49m)\n",
      "File \u001b[0;32m~/projects/venv/lib/python3.8/site-packages/gensim/models/keyedvectors.py:404\u001b[0m, in \u001b[0;36mKeyedVectors.__getitem__\u001b[0;34m(self, key_or_keys)\u001b[0m\n\u001b[1;32m    390\u001b[0m \u001b[38;5;124;03m\"\"\"Get vector representation of `key_or_keys`.\u001b[39;00m\n\u001b[1;32m    391\u001b[0m \n\u001b[1;32m    392\u001b[0m \u001b[38;5;124;03mParameters\u001b[39;00m\n\u001b[0;32m   (...)\u001b[0m\n\u001b[1;32m    401\u001b[0m \n\u001b[1;32m    402\u001b[0m \u001b[38;5;124;03m\"\"\"\u001b[39;00m\n\u001b[1;32m    403\u001b[0m \u001b[38;5;28;01mif\u001b[39;00m \u001b[38;5;28misinstance\u001b[39m(key_or_keys, _KEY_TYPES):\n\u001b[0;32m--> 404\u001b[0m     \u001b[38;5;28;01mreturn\u001b[39;00m \u001b[38;5;28;43mself\u001b[39;49m\u001b[38;5;241;43m.\u001b[39;49m\u001b[43mget_vector\u001b[49m\u001b[43m(\u001b[49m\u001b[43mkey_or_keys\u001b[49m\u001b[43m)\u001b[49m\n\u001b[1;32m    406\u001b[0m \u001b[38;5;28;01mreturn\u001b[39;00m vstack([\u001b[38;5;28mself\u001b[39m\u001b[38;5;241m.\u001b[39mget_vector(key) \u001b[38;5;28;01mfor\u001b[39;00m key \u001b[38;5;129;01min\u001b[39;00m key_or_keys])\n",
      "File \u001b[0;32m~/projects/venv/lib/python3.8/site-packages/gensim/models/keyedvectors.py:447\u001b[0m, in \u001b[0;36mKeyedVectors.get_vector\u001b[0;34m(self, key, norm)\u001b[0m\n\u001b[1;32m    423\u001b[0m \u001b[38;5;28;01mdef\u001b[39;00m \u001b[38;5;21mget_vector\u001b[39m(\u001b[38;5;28mself\u001b[39m, key, norm\u001b[38;5;241m=\u001b[39m\u001b[38;5;28;01mFalse\u001b[39;00m):\n\u001b[1;32m    424\u001b[0m     \u001b[38;5;124;03m\"\"\"Get the key's vector, as a 1D numpy array.\u001b[39;00m\n\u001b[1;32m    425\u001b[0m \n\u001b[1;32m    426\u001b[0m \u001b[38;5;124;03m    Parameters\u001b[39;00m\n\u001b[0;32m   (...)\u001b[0m\n\u001b[1;32m    445\u001b[0m \n\u001b[1;32m    446\u001b[0m \u001b[38;5;124;03m    \"\"\"\u001b[39;00m\n\u001b[0;32m--> 447\u001b[0m     index \u001b[38;5;241m=\u001b[39m \u001b[38;5;28;43mself\u001b[39;49m\u001b[38;5;241;43m.\u001b[39;49m\u001b[43mget_index\u001b[49m\u001b[43m(\u001b[49m\u001b[43mkey\u001b[49m\u001b[43m)\u001b[49m\n\u001b[1;32m    448\u001b[0m     \u001b[38;5;28;01mif\u001b[39;00m norm:\n\u001b[1;32m    449\u001b[0m         \u001b[38;5;28mself\u001b[39m\u001b[38;5;241m.\u001b[39mfill_norms()\n",
      "File \u001b[0;32m~/projects/venv/lib/python3.8/site-packages/gensim/models/keyedvectors.py:421\u001b[0m, in \u001b[0;36mKeyedVectors.get_index\u001b[0;34m(self, key, default)\u001b[0m\n\u001b[1;32m    419\u001b[0m     \u001b[38;5;28;01mreturn\u001b[39;00m default\n\u001b[1;32m    420\u001b[0m \u001b[38;5;28;01melse\u001b[39;00m:\n\u001b[0;32m--> 421\u001b[0m     \u001b[38;5;28;01mraise\u001b[39;00m \u001b[38;5;167;01mKeyError\u001b[39;00m(\u001b[38;5;124mf\u001b[39m\u001b[38;5;124m\"\u001b[39m\u001b[38;5;124mKey \u001b[39m\u001b[38;5;124m'\u001b[39m\u001b[38;5;132;01m{\u001b[39;00mkey\u001b[38;5;132;01m}\u001b[39;00m\u001b[38;5;124m'\u001b[39m\u001b[38;5;124m not present\u001b[39m\u001b[38;5;124m\"\u001b[39m)\n",
      "\u001b[0;31mKeyError\u001b[0m: \"Key 'geritourinary' not present\""
     ]
    }
   ],
   "source": [
    "print(model.wv['geritourinary'])"
   ]
  },
  {
   "cell_type": "code",
   "execution_count": null,
   "id": "20c1f0c7",
   "metadata": {},
   "outputs": [],
   "source": []
  }
 ],
 "metadata": {
  "kernelspec": {
   "display_name": "Python 3 (ipykernel)",
   "language": "python",
   "name": "python3"
  },
  "language_info": {
   "codemirror_mode": {
    "name": "ipython",
    "version": 3
   },
   "file_extension": ".py",
   "mimetype": "text/x-python",
   "name": "python",
   "nbconvert_exporter": "python",
   "pygments_lexer": "ipython3",
   "version": "3.8.10"
  }
 },
 "nbformat": 4,
 "nbformat_minor": 5
}
