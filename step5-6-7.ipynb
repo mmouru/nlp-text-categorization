{
 "cells": [
  {
   "cell_type": "code",
   "execution_count": 1,
   "id": "7c92d03f",
   "metadata": {},
   "outputs": [],
   "source": [
    "import fasttext.util\n",
    "from sklearn import decomposition\n",
    "import numpy as np\n",
    "import pandas as pd\n",
    "import matplotlib.pyplot as plt\n",
    "from scipy import spatial"
   ]
  },
  {
   "cell_type": "code",
   "execution_count": 6,
   "id": "67a53ac0",
   "metadata": {},
   "outputs": [
    {
     "name": "stdout",
     "output_type": "stream",
     "text": [
      "Downloading https://dl.fbaipublicfiles.com/fasttext/vectors-crawl/cc.en.300.bin.gz\n",
      " (0.54%) [>                                                  ]>                                                  ]>                                                  ]>                                                  ]>                                                  ]>                                                  ]>                                                  ]>                                                  ]>                                                  ]>                                                  ]>                                                  ]>                                                  ]>                                                  ]>                                                  ]>                                                  ]>                                                  ]>                                                  ]>                                                  ]>                                                  ]>                                                  ]>                                                  ]>                                                  ]>                                                  ]>                                                  ]>                                                  ]>                                                  ]>                                                  ]>                                                  ]>                                                  ]>                                                  ]>                                                  ]>                                                  ]>                                                  ]>                                                  ]>                                                  ]>                                                  ]>                                                  ]>                                                  ]>                                                  ]>                                                  ]>                                                  ]>                                                  ]\r"
     ]
    },
    {
     "name": "stderr",
     "output_type": "stream",
     "text": [
      "IOPub message rate exceeded.\n",
      "The notebook server will temporarily stop sending output\n",
      "to the client in order to avoid crashing it.\n",
      "To change this limit, set the config variable\n",
      "`--NotebookApp.iopub_msg_rate_limit`.\n",
      "\n",
      "Current values:\n",
      "NotebookApp.iopub_msg_rate_limit=1000.0 (msgs/sec)\n",
      "NotebookApp.rate_limit_window=3.0 (secs)\n",
      "\n"
     ]
    },
    {
     "name": "stdout",
     "output_type": "stream",
     "text": [
      " (1.40%) [>                                                  ]>                                                  ]>                                                  ]>                                                  ]>                                                  ]>                                                  ]>                                                  ]>                                                  ]>                                                  ]>                                                  ]>                                                  ]>                                                  ]>                                                  ]>                                                  ]>                                                  ]>                                                  ]>                                                  ]>                                                  ]>                                                  ]>                                                  ]>                                                  ]>                                                  ]>                                                  ]>                                                  ]>                                                  ]>                                                  ]>                                                  ]>                                                  ]\r"
     ]
    },
    {
     "name": "stderr",
     "output_type": "stream",
     "text": [
      "IOPub message rate exceeded.\n",
      "The notebook server will temporarily stop sending output\n",
      "to the client in order to avoid crashing it.\n",
      "To change this limit, set the config variable\n",
      "`--NotebookApp.iopub_msg_rate_limit`.\n",
      "\n",
      "Current values:\n",
      "NotebookApp.iopub_msg_rate_limit=1000.0 (msgs/sec)\n",
      "NotebookApp.rate_limit_window=3.0 (secs)\n",
      "\n"
     ]
    },
    {
     "name": "stdout",
     "output_type": "stream",
     "text": [
      " (2.26%) [=>                                                 ]>                                                  ]>                                                  ]>                                                  ]>                                                  ]>                                                  ]>                                                  ]>                                                  ]>                                                  ]>                                                  ]>                                                  ]>                                                  ]>                                                  ]>                                                  ]>                                                  ]>                                                  ]=>                                                 ]=>                                                 ]=>                                                 ]=>                                                 ]=>                                                 ]=>                                                 ]=>                                                 ]=>                                                 ]=>                                                 ]=>                                                 ]=>                                                 ]=>                                                 ]=>                                                 ]=>                                                 ]=>                                                 ]=>                                                 ]=>                                                 ]=>                                                 ]=>                                                 ]=>                                                 ]=>                                                 ]\r"
     ]
    },
    {
     "name": "stderr",
     "output_type": "stream",
     "text": [
      "IOPub message rate exceeded.\n",
      "The notebook server will temporarily stop sending output\n",
      "to the client in order to avoid crashing it.\n",
      "To change this limit, set the config variable\n",
      "`--NotebookApp.iopub_msg_rate_limit`.\n",
      "\n",
      "Current values:\n",
      "NotebookApp.iopub_msg_rate_limit=1000.0 (msgs/sec)\n",
      "NotebookApp.rate_limit_window=3.0 (secs)\n",
      "\n"
     ]
    },
    {
     "name": "stdout",
     "output_type": "stream",
     "text": [
      " (3.09%) [=>                                                 ]=>                                                 ]=>                                                 ]=>                                                 ]=>                                                 ]=>                                                 ]=>                                                 ]=>                                                 ]=>                                                 ]=>                                                 ]=>                                                 ]=>                                                 ]=>                                                 ]=>                                                 ]=>                                                 ]=>                                                 ]=>                                                 ]=>                                                 ]=>                                                 ]=>                                                 ]=>                                                 ]=>                                                 ]=>                                                 ]=>                                                 ]=>                                                 ]=>                                                 ]=>                                                 ]=>                                                 ]=>                                                 ]=>                                                 ]=>                                                 ]=>                                                 ]=>                                                 ]=>                                                 ]=>                                                 ]\r"
     ]
    },
    {
     "name": "stderr",
     "output_type": "stream",
     "text": [
      "IOPub message rate exceeded.\n",
      "The notebook server will temporarily stop sending output\n",
      "to the client in order to avoid crashing it.\n",
      "To change this limit, set the config variable\n",
      "`--NotebookApp.iopub_msg_rate_limit`.\n",
      "\n",
      "Current values:\n",
      "NotebookApp.iopub_msg_rate_limit=1000.0 (msgs/sec)\n",
      "NotebookApp.rate_limit_window=3.0 (secs)\n",
      "\n"
     ]
    },
    {
     "name": "stdout",
     "output_type": "stream",
     "text": [
      " (3.96%) [=>                                                 ]=>                                                 ]=>                                                 ]=>                                                 ]=>                                                 ]=>                                                 ]=>                                                 ]=>                                                 ]=>                                                 ]=>                                                 ]=>                                                 ]=>                                                 ]=>                                                 ]=>                                                 ]=>                                                 ]=>                                                 ]=>                                                 ]=>                                                 ]=>                                                 ]=>                                                 ]=>                                                 ]=>                                                 ]=>                                                 ]=>                                                 ]=>                                                 ]=>                                                 ]=>                                                 ]=>                                                 ]=>                                                 ]=>                                                 ]=>                                                 ]=>                                                 ]=>                                                 ]=>                                                 ]=>                                                 ]=>                                                 ]=>                                                 ]=>                                                 ]=>                                                 ]=>                                                 ]=>                                                 ]=>                                                 ]=>                                                 ]=>                                                 ]=>                                                 ]=>                                                 ]=>                                                 ]=>                                                 ]=>                                                 ]=>                                                 ]\r"
     ]
    },
    {
     "name": "stderr",
     "output_type": "stream",
     "text": [
      "IOPub message rate exceeded.\n",
      "The notebook server will temporarily stop sending output\n",
      "to the client in order to avoid crashing it.\n",
      "To change this limit, set the config variable\n",
      "`--NotebookApp.iopub_msg_rate_limit`.\n",
      "\n",
      "Current values:\n",
      "NotebookApp.iopub_msg_rate_limit=1000.0 (msgs/sec)\n",
      "NotebookApp.rate_limit_window=3.0 (secs)\n",
      "\n"
     ]
    },
    {
     "name": "stdout",
     "output_type": "stream",
     "text": [
      " (4.84%) [==>                                                ]==>                                                ]==>                                                ]==>                                                ]==>                                                ]==>                                                ]==>                                                ]==>                                                ]==>                                                ]==>                                                ]==>                                                ]==>                                                ]==>                                                ]==>                                                ]==>                                                ]==>                                                ]==>                                                ]==>                                                ]==>                                                ]==>                                                ]==>                                                ]==>                                                ]==>                                                ]==>                                                ]==>                                                ]==>                                                ]==>                                                ]==>                                                ]==>                                                ]==>                                                ]==>                                                ]==>                                                ]==>                                                ]==>                                                ]==>                                                ]==>                                                ]==>                                                ]==>                                                ]==>                                                ]==>                                                ]\r"
     ]
    },
    {
     "name": "stderr",
     "output_type": "stream",
     "text": [
      "IOPub message rate exceeded.\n",
      "The notebook server will temporarily stop sending output\n",
      "to the client in order to avoid crashing it.\n",
      "To change this limit, set the config variable\n",
      "`--NotebookApp.iopub_msg_rate_limit`.\n",
      "\n",
      "Current values:\n",
      "NotebookApp.iopub_msg_rate_limit=1000.0 (msgs/sec)\n",
      "NotebookApp.rate_limit_window=3.0 (secs)\n",
      "\n"
     ]
    },
    {
     "name": "stdout",
     "output_type": "stream",
     "text": [
      " (5.67%) [==>                                                ]==>                                                ]==>                                                ]==>                                                ]==>                                                ]==>                                                ]==>                                                ]==>                                                ]==>                                                ]==>                                                ]==>                                                ]==>                                                ]==>                                                ]==>                                                ]==>                                                ]==>                                                ]==>                                                ]==>                                                ]==>                                                ]==>                                                ]==>                                                ]==>                                                ]==>                                                ]==>                                                ]==>                                                ]==>                                                ]==>                                                ]==>                                                ]==>                                                ]==>                                                ]==>                                                ]==>                                                ]==>                                                ]==>                                                ]==>                                                ]==>                                                ]==>                                                ]==>                                                ]==>                                                ]==>                                                ]\r"
     ]
    },
    {
     "name": "stderr",
     "output_type": "stream",
     "text": [
      "IOPub message rate exceeded.\n",
      "The notebook server will temporarily stop sending output\n",
      "to the client in order to avoid crashing it.\n",
      "To change this limit, set the config variable\n",
      "`--NotebookApp.iopub_msg_rate_limit`.\n",
      "\n",
      "Current values:\n",
      "NotebookApp.iopub_msg_rate_limit=1000.0 (msgs/sec)\n",
      "NotebookApp.rate_limit_window=3.0 (secs)\n",
      "\n"
     ]
    },
    {
     "name": "stdout",
     "output_type": "stream",
     "text": [
      " (6.54%) [===>                                               ]===>                                               ]===>                                               ]===>                                               ]===>                                               ]===>                                               ]===>                                               ]===>                                               ]===>                                               ]===>                                               ]===>                                               ]===>                                               ]===>                                               ]===>                                               ]===>                                               ]===>                                               ]===>                                               ]===>                                               ]===>                                               ]===>                                               ]===>                                               ]===>                                               ]===>                                               ]===>                                               ]===>                                               ]===>                                               ]===>                                               ]===>                                               ]===>                                               ]===>                                               ]===>                                               ]===>                                               ]===>                                               ]===>                                               ]\r"
     ]
    },
    {
     "name": "stderr",
     "output_type": "stream",
     "text": [
      "IOPub message rate exceeded.\n",
      "The notebook server will temporarily stop sending output\n",
      "to the client in order to avoid crashing it.\n",
      "To change this limit, set the config variable\n",
      "`--NotebookApp.iopub_msg_rate_limit`.\n",
      "\n",
      "Current values:\n",
      "NotebookApp.iopub_msg_rate_limit=1000.0 (msgs/sec)\n",
      "NotebookApp.rate_limit_window=3.0 (secs)\n",
      "\n"
     ]
    },
    {
     "name": "stdout",
     "output_type": "stream",
     "text": [
      " (7.42%) [===>                                               ]===>                                               ]===>                                               ]===>                                               ]===>                                               ]===>                                               ]===>                                               ]===>                                               ]===>                                               ]===>                                               ]===>                                               ]===>                                               ]===>                                               ]===>                                               ]===>                                               ]===>                                               ]===>                                               ]===>                                               ]===>                                               ]===>                                               ]===>                                               ]===>                                               ]===>                                               ]===>                                               ]===>                                               ]===>                                               ]===>                                               ]===>                                               ]===>                                               ]\r"
     ]
    },
    {
     "name": "stderr",
     "output_type": "stream",
     "text": [
      "IOPub message rate exceeded.\n",
      "The notebook server will temporarily stop sending output\n",
      "to the client in order to avoid crashing it.\n",
      "To change this limit, set the config variable\n",
      "`--NotebookApp.iopub_msg_rate_limit`.\n",
      "\n",
      "Current values:\n",
      "NotebookApp.iopub_msg_rate_limit=1000.0 (msgs/sec)\n",
      "NotebookApp.rate_limit_window=3.0 (secs)\n",
      "\n"
     ]
    },
    {
     "name": "stdout",
     "output_type": "stream",
     "text": [
      " (8.31%) [====>                                              ]===>                                               ]===>                                               ]===>                                               ]===>                                               ]===>                                               ]===>                                               ]===>                                               ]===>                                               ]===>                                               ]===>                                               ]===>                                               ]===>                                               ]===>                                               ]===>                                               ]===>                                               ]====>                                              ]====>                                              ]====>                                              ]====>                                              ]====>                                              ]====>                                              ]====>                                              ]====>                                              ]====>                                              ]====>                                              ]====>                                              ]====>                                              ]====>                                              ]====>                                              ]====>                                              ]====>                                              ]====>                                              ]====>                                              ]\r"
     ]
    },
    {
     "name": "stderr",
     "output_type": "stream",
     "text": [
      "IOPub message rate exceeded.\n",
      "The notebook server will temporarily stop sending output\n",
      "to the client in order to avoid crashing it.\n",
      "To change this limit, set the config variable\n",
      "`--NotebookApp.iopub_msg_rate_limit`.\n",
      "\n",
      "Current values:\n",
      "NotebookApp.iopub_msg_rate_limit=1000.0 (msgs/sec)\n",
      "NotebookApp.rate_limit_window=3.0 (secs)\n",
      "\n"
     ]
    },
    {
     "name": "stdout",
     "output_type": "stream",
     "text": [
      " (9.20%) [====>                                              ]====>                                              ]====>                                              ]====>                                              ]====>                                              ]====>                                              ]====>                                              ]====>                                              ]====>                                              ]====>                                              ]====>                                              ]====>                                              ]====>                                              ]====>                                              ]====>                                              ]====>                                              ]====>                                              ]====>                                              ]====>                                              ]====>                                              ]====>                                              ]====>                                              ]====>                                              ]====>                                              ]====>                                              ]====>                                              ]====>                                              ]====>                                              ]====>                                              ]====>                                              ]====>                                              ]====>                                              ]====>                                              ]====>                                              ]\r"
     ]
    },
    {
     "name": "stderr",
     "output_type": "stream",
     "text": [
      "IOPub message rate exceeded.\n",
      "The notebook server will temporarily stop sending output\n",
      "to the client in order to avoid crashing it.\n",
      "To change this limit, set the config variable\n",
      "`--NotebookApp.iopub_msg_rate_limit`.\n",
      "\n",
      "Current values:\n",
      "NotebookApp.iopub_msg_rate_limit=1000.0 (msgs/sec)\n",
      "NotebookApp.rate_limit_window=3.0 (secs)\n",
      "\n"
     ]
    },
    {
     "name": "stdout",
     "output_type": "stream",
     "text": [
      " (10.09%) [=====>                                             ]===>                                              ]====>                                              ]====>                                              ]====>                                              ]====>                                              ]====>                                              ]====>                                              ]====>                                              ]====>                                              ]====>                                              ]====>                                              ]====>                                              ]====>                                              ]====>                                              ]====>                                              ]====>                                              ]====>                                              ]====>                                              ]====>                                              ]====>                                              ]====>                                              ]====>                                              ]====>                                              ]====>                                              ]====>                                              ]====>                                              ]====>                                              ]=====>                                             ]=====>                                             ]=====>                                             ]=====>                                             ]=====>                                             ]=====>                                             ]=====>                                             ]\r"
     ]
    },
    {
     "name": "stderr",
     "output_type": "stream",
     "text": [
      "IOPub message rate exceeded.\n",
      "The notebook server will temporarily stop sending output\n",
      "to the client in order to avoid crashing it.\n",
      "To change this limit, set the config variable\n",
      "`--NotebookApp.iopub_msg_rate_limit`.\n",
      "\n",
      "Current values:\n",
      "NotebookApp.iopub_msg_rate_limit=1000.0 (msgs/sec)\n",
      "NotebookApp.rate_limit_window=3.0 (secs)\n",
      "\n"
     ]
    },
    {
     "name": "stdout",
     "output_type": "stream",
     "text": [
      " (10.97%) [=====>                                             ]=====>                                             ]=====>                                             ]=====>                                             ]=====>                                             ]=====>                                             ]=====>                                             ]=====>                                             ]=====>                                             ]=====>                                             ]=====>                                             ]=====>                                             ]=====>                                             ]=====>                                             ]=====>                                             ]=====>                                             ]=====>                                             ]=====>                                             ]=====>                                             ]=====>                                             ]=====>                                             ]=====>                                             ]=====>                                             ]=====>                                             ]=====>                                             ]=====>                                             ]=====>                                             ]=====>                                             ]=====>                                             ]=====>                                             ]=====>                                             ]=====>                                             ]=====>                                             ]=====>                                             ]=====>                                             ]\r"
     ]
    },
    {
     "name": "stderr",
     "output_type": "stream",
     "text": [
      "IOPub message rate exceeded.\n",
      "The notebook server will temporarily stop sending output\n",
      "to the client in order to avoid crashing it.\n",
      "To change this limit, set the config variable\n",
      "`--NotebookApp.iopub_msg_rate_limit`.\n",
      "\n",
      "Current values:\n",
      "NotebookApp.iopub_msg_rate_limit=1000.0 (msgs/sec)\n",
      "NotebookApp.rate_limit_window=3.0 (secs)\n",
      "\n"
     ]
    },
    {
     "name": "stdout",
     "output_type": "stream",
     "text": [
      " (11.86%) [=====>                                             ]=====>                                             ]=====>                                             ]=====>                                             ]=====>                                             ]=====>                                             ]=====>                                             ]=====>                                             ]=====>                                             ]=====>                                             ]=====>                                             ]=====>                                             ]=====>                                             ]=====>                                             ]=====>                                             ]=====>                                             ]=====>                                             ]=====>                                             ]=====>                                             ]=====>                                             ]=====>                                             ]=====>                                             ]=====>                                             ]=====>                                             ]=====>                                             ]=====>                                             ]=====>                                             ]=====>                                             ]=====>                                             ]=====>                                             ]=====>                                             ]=====>                                             ]=====>                                             ]=====>                                             ]\r"
     ]
    },
    {
     "name": "stderr",
     "output_type": "stream",
     "text": [
      "IOPub message rate exceeded.\n",
      "The notebook server will temporarily stop sending output\n",
      "to the client in order to avoid crashing it.\n",
      "To change this limit, set the config variable\n",
      "`--NotebookApp.iopub_msg_rate_limit`.\n",
      "\n",
      "Current values:\n",
      "NotebookApp.iopub_msg_rate_limit=1000.0 (msgs/sec)\n",
      "NotebookApp.rate_limit_window=3.0 (secs)\n",
      "\n"
     ]
    },
    {
     "name": "stdout",
     "output_type": "stream",
     "text": [
      " (12.56%) [======>                                            ]======>                                            ]======>                                            ]======>                                            ]======>                                            ]======>                                            ]======>                                            ]======>                                            ]======>                                            ]======>                                            ]======>                                            ]======>                                            ]======>                                            ]======>                                            ]======>                                            ]======>                                            ]======>                                            ]======>                                            ]======>                                            ]======>                                            ]======>                                            ]======>                                            ]======>                                            ]======>                                            ]======>                                            ]======>                                            ]======>                                            ]======>                                            ]======>                                            ]======>                                            ]======>                                            ]======>                                            ]======>                                            ]======>                                            ]======>                                            ]======>                                            ]======>                                            ]======>                                            ]======>                                            ]======>                                            ]\r"
     ]
    },
    {
     "name": "stderr",
     "output_type": "stream",
     "text": [
      "IOPub message rate exceeded.\n",
      "The notebook server will temporarily stop sending output\n",
      "to the client in order to avoid crashing it.\n",
      "To change this limit, set the config variable\n",
      "`--NotebookApp.iopub_msg_rate_limit`.\n",
      "\n",
      "Current values:\n",
      "NotebookApp.iopub_msg_rate_limit=1000.0 (msgs/sec)\n",
      "NotebookApp.rate_limit_window=3.0 (secs)\n",
      "\n"
     ]
    },
    {
     "name": "stdout",
     "output_type": "stream",
     "text": [
      " (13.33%) [======>                                            ]======>                                            ]======>                                            ]======>                                            ]======>                                            ]======>                                            ]======>                                            ]======>                                            ]======>                                            ]======>                                            ]======>                                            ]======>                                            ]======>                                            ]======>                                            ]======>                                            ]======>                                            ]======>                                            ]======>                                            ]======>                                            ]======>                                            ]======>                                            ]======>                                            ]======>                                            ]======>                                            ]======>                                            ]======>                                            ]======>                                            ]======>                                            ]======>                                            ]======>                                            ]======>                                            ]======>                                            ]======>                                            ]======>                                            ]\r"
     ]
    },
    {
     "name": "stderr",
     "output_type": "stream",
     "text": [
      "IOPub message rate exceeded.\n",
      "The notebook server will temporarily stop sending output\n",
      "to the client in order to avoid crashing it.\n",
      "To change this limit, set the config variable\n",
      "`--NotebookApp.iopub_msg_rate_limit`.\n",
      "\n",
      "Current values:\n",
      "NotebookApp.iopub_msg_rate_limit=1000.0 (msgs/sec)\n",
      "NotebookApp.rate_limit_window=3.0 (secs)\n",
      "\n"
     ]
    },
    {
     "name": "stdout",
     "output_type": "stream",
     "text": [
      " (14.22%) [=======>                                           ]======>                                            ]======>                                            ]======>                                            ]======>                                            ]======>                                            ]======>                                            ]======>                                            ]======>                                            ]======>                                            ]======>                                            ]======>                                            ]======>                                            ]======>                                            ]======>                                            ]======>                                            ]======>                                            ]======>                                            ]======>                                            ]======>                                            ]======>                                            ]======>                                            ]======>                                            ]=======>                                           ]=======>                                           ]=======>                                           ]=======>                                           ]=======>                                           ]=======>                                           ]=======>                                           ]=======>                                           ]=======>                                           ]=======>                                           ]=======>                                           ]=======>                                           ]=======>                                           ]=======>                                           ]=======>                                           ]=======>                                           ]=======>                                           ]=======>                                           ]=======>                                           ]\r"
     ]
    },
    {
     "name": "stderr",
     "output_type": "stream",
     "text": [
      "IOPub message rate exceeded.\n",
      "The notebook server will temporarily stop sending output\n",
      "to the client in order to avoid crashing it.\n",
      "To change this limit, set the config variable\n",
      "`--NotebookApp.iopub_msg_rate_limit`.\n",
      "\n",
      "Current values:\n",
      "NotebookApp.iopub_msg_rate_limit=1000.0 (msgs/sec)\n",
      "NotebookApp.rate_limit_window=3.0 (secs)\n",
      "\n"
     ]
    },
    {
     "name": "stdout",
     "output_type": "stream",
     "text": [
      " (15.12%) [=======>                                           ]=======>                                           ]=======>                                           ]=======>                                           ]=======>                                           ]=======>                                           ]=======>                                           ]=======>                                           ]=======>                                           ]=======>                                           ]=======>                                           ]=======>                                           ]=======>                                           ]=======>                                           ]=======>                                           ]=======>                                           ]=======>                                           ]=======>                                           ]=======>                                           ]=======>                                           ]=======>                                           ]=======>                                           ]=======>                                           ]=======>                                           ]=======>                                           ]=======>                                           ]=======>                                           ]=======>                                           ]=======>                                           ]=======>                                           ]=======>                                           ]=======>                                           ]=======>                                           ]=======>                                           ]\r"
     ]
    },
    {
     "name": "stderr",
     "output_type": "stream",
     "text": [
      "IOPub message rate exceeded.\n",
      "The notebook server will temporarily stop sending output\n",
      "to the client in order to avoid crashing it.\n",
      "To change this limit, set the config variable\n",
      "`--NotebookApp.iopub_msg_rate_limit`.\n",
      "\n",
      "Current values:\n",
      "NotebookApp.iopub_msg_rate_limit=1000.0 (msgs/sec)\n",
      "NotebookApp.rate_limit_window=3.0 (secs)\n",
      "\n"
     ]
    },
    {
     "name": "stdout",
     "output_type": "stream",
     "text": [
      " (16.06%) [========>                                          ]=======>                                           ]=======>                                           ]=======>                                           ]=======>                                           ]=======>                                           ]=======>                                           ]=======>                                           ]=======>                                           ]=======>                                           ]=======>                                           ]=======>                                           ]=======>                                           ]=======>                                           ]=======>                                           ]=======>                                           ]=======>                                           ]=======>                                           ]=======>                                           ]=======>                                           ]=======>                                           ]=======>                                           ]=======>                                           ]=======>                                           ]=======>                                           ]=======>                                           ]========>                                          ]========>                                          ]========>                                          ]========>                                          ]========>                                          ]\r"
     ]
    },
    {
     "name": "stderr",
     "output_type": "stream",
     "text": [
      "IOPub message rate exceeded.\n",
      "The notebook server will temporarily stop sending output\n",
      "to the client in order to avoid crashing it.\n",
      "To change this limit, set the config variable\n",
      "`--NotebookApp.iopub_msg_rate_limit`.\n",
      "\n",
      "Current values:\n",
      "NotebookApp.iopub_msg_rate_limit=1000.0 (msgs/sec)\n",
      "NotebookApp.rate_limit_window=3.0 (secs)\n",
      "\n"
     ]
    },
    {
     "name": "stdout",
     "output_type": "stream",
     "text": [
      " (16.93%) [========>                                          ]========>                                          ]========>                                          ]========>                                          ]========>                                          ]========>                                          ]========>                                          ]========>                                          ]========>                                          ]========>                                          ]========>                                          ]========>                                          ]========>                                          ]========>                                          ]========>                                          ]========>                                          ]========>                                          ]========>                                          ]========>                                          ]========>                                          ]========>                                          ]========>                                          ]========>                                          ]========>                                          ]========>                                          ]========>                                          ]========>                                          ]========>                                          ]========>                                          ]========>                                          ]========>                                          ]========>                                          ]========>                                          ]========>                                          ]========>                                          ]========>                                          ]\r"
     ]
    },
    {
     "name": "stderr",
     "output_type": "stream",
     "text": [
      "IOPub message rate exceeded.\n",
      "The notebook server will temporarily stop sending output\n",
      "to the client in order to avoid crashing it.\n",
      "To change this limit, set the config variable\n",
      "`--NotebookApp.iopub_msg_rate_limit`.\n",
      "\n",
      "Current values:\n",
      "NotebookApp.iopub_msg_rate_limit=1000.0 (msgs/sec)\n",
      "NotebookApp.rate_limit_window=3.0 (secs)\n",
      "\n"
     ]
    },
    {
     "name": "stdout",
     "output_type": "stream",
     "text": [
      " (17.78%) [========>                                          ]========>                                          ]========>                                          ]========>                                          ]========>                                          ]========>                                          ]========>                                          ]========>                                          ]========>                                          ]========>                                          ]========>                                          ]========>                                          ]========>                                          ]========>                                          ]========>                                          ]========>                                          ]========>                                          ]========>                                          ]========>                                          ]========>                                          ]========>                                          ]========>                                          ]========>                                          ]========>                                          ]========>                                          ]========>                                          ]========>                                          ]========>                                          ]\r"
     ]
    },
    {
     "name": "stderr",
     "output_type": "stream",
     "text": [
      "IOPub message rate exceeded.\n",
      "The notebook server will temporarily stop sending output\n",
      "to the client in order to avoid crashing it.\n",
      "To change this limit, set the config variable\n",
      "`--NotebookApp.iopub_msg_rate_limit`.\n",
      "\n",
      "Current values:\n",
      "NotebookApp.iopub_msg_rate_limit=1000.0 (msgs/sec)\n",
      "NotebookApp.rate_limit_window=3.0 (secs)\n",
      "\n"
     ]
    },
    {
     "name": "stdout",
     "output_type": "stream",
     "text": [
      " (18.69%) [=========>                                         ]=========>                                         ]=========>                                         ]=========>                                         ]=========>                                         ]=========>                                         ]=========>                                         ]=========>                                         ]=========>                                         ]=========>                                         ]=========>                                         ]=========>                                         ]=========>                                         ]=========>                                         ]=========>                                         ]=========>                                         ]=========>                                         ]=========>                                         ]=========>                                         ]=========>                                         ]=========>                                         ]=========>                                         ]=========>                                         ]=========>                                         ]=========>                                         ]=========>                                         ]=========>                                         ]=========>                                         ]=========>                                         ]=========>                                         ]=========>                                         ]=========>                                         ]=========>                                         ]=========>                                         ]=========>                                         ]=========>                                         ]=========>                                         ]\r"
     ]
    },
    {
     "name": "stderr",
     "output_type": "stream",
     "text": [
      "IOPub message rate exceeded.\n",
      "The notebook server will temporarily stop sending output\n",
      "to the client in order to avoid crashing it.\n",
      "To change this limit, set the config variable\n",
      "`--NotebookApp.iopub_msg_rate_limit`.\n",
      "\n",
      "Current values:\n",
      "NotebookApp.iopub_msg_rate_limit=1000.0 (msgs/sec)\n",
      "NotebookApp.rate_limit_window=3.0 (secs)\n",
      "\n"
     ]
    },
    {
     "name": "stdout",
     "output_type": "stream",
     "text": [
      " (19.57%) [=========>                                         ]=========>                                         ]=========>                                         ]=========>                                         ]=========>                                         ]=========>                                         ]=========>                                         ]=========>                                         ]=========>                                         ]=========>                                         ]=========>                                         ]=========>                                         ]=========>                                         ]=========>                                         ]=========>                                         ]=========>                                         ]=========>                                         ]=========>                                         ]=========>                                         ]=========>                                         ]=========>                                         ]=========>                                         ]=========>                                         ]=========>                                         ]=========>                                         ]=========>                                         ]=========>                                         ]=========>                                         ]=========>                                         ]=========>                                         ]=========>                                         ]\r"
     ]
    },
    {
     "name": "stderr",
     "output_type": "stream",
     "text": [
      "IOPub message rate exceeded.\n",
      "The notebook server will temporarily stop sending output\n",
      "to the client in order to avoid crashing it.\n",
      "To change this limit, set the config variable\n",
      "`--NotebookApp.iopub_msg_rate_limit`.\n",
      "\n",
      "Current values:\n",
      "NotebookApp.iopub_msg_rate_limit=1000.0 (msgs/sec)\n",
      "NotebookApp.rate_limit_window=3.0 (secs)\n",
      "\n"
     ]
    },
    {
     "name": "stdout",
     "output_type": "stream",
     "text": [
      " (20.43%) [==========>                                        ]=========>                                         ]=========>                                         ]=========>                                         ]=========>                                         ]=========>                                         ]=========>                                         ]=========>                                         ]==========>                                        ]==========>                                        ]==========>                                        ]==========>                                        ]==========>                                        ]==========>                                        ]==========>                                        ]==========>                                        ]==========>                                        ]==========>                                        ]==========>                                        ]==========>                                        ]==========>                                        ]==========>                                        ]==========>                                        ]==========>                                        ]==========>                                        ]==========>                                        ]==========>                                        ]==========>                                        ]==========>                                        ]==========>                                        ]==========>                                        ]==========>                                        ]==========>                                        ]==========>                                        ]==========>                                        ]==========>                                        ]==========>                                        ]\r"
     ]
    },
    {
     "name": "stderr",
     "output_type": "stream",
     "text": [
      "IOPub message rate exceeded.\n",
      "The notebook server will temporarily stop sending output\n",
      "to the client in order to avoid crashing it.\n",
      "To change this limit, set the config variable\n",
      "`--NotebookApp.iopub_msg_rate_limit`.\n",
      "\n",
      "Current values:\n",
      "NotebookApp.iopub_msg_rate_limit=1000.0 (msgs/sec)\n",
      "NotebookApp.rate_limit_window=3.0 (secs)\n",
      "\n"
     ]
    },
    {
     "name": "stdout",
     "output_type": "stream",
     "text": [
      " (21.29%) [==========>                                        ]==========>                                        ]==========>                                        ]==========>                                        ]==========>                                        ]==========>                                        ]==========>                                        ]==========>                                        ]==========>                                        ]==========>                                        ]==========>                                        ]==========>                                        ]==========>                                        ]==========>                                        ]==========>                                        ]==========>                                        ]==========>                                        ]==========>                                        ]==========>                                        ]==========>                                        ]==========>                                        ]==========>                                        ]==========>                                        ]==========>                                        ]==========>                                        ]==========>                                        ]==========>                                        ]==========>                                        ]==========>                                        ]==========>                                        ]==========>                                        ]==========>                                        ]==========>                                        ]==========>                                        ]==========>                                        ]==========>                                        ]\r"
     ]
    },
    {
     "name": "stderr",
     "output_type": "stream",
     "text": [
      "IOPub message rate exceeded.\n",
      "The notebook server will temporarily stop sending output\n",
      "to the client in order to avoid crashing it.\n",
      "To change this limit, set the config variable\n",
      "`--NotebookApp.iopub_msg_rate_limit`.\n",
      "\n",
      "Current values:\n",
      "NotebookApp.iopub_msg_rate_limit=1000.0 (msgs/sec)\n",
      "NotebookApp.rate_limit_window=3.0 (secs)\n",
      "\n"
     ]
    },
    {
     "name": "stdout",
     "output_type": "stream",
     "text": [
      " (22.14%) [===========>                                       ]==========>                                        ]==========>                                        ]==========>                                        ]==========>                                        ]==========>                                        ]==========>                                        ]==========>                                        ]==========>                                        ]==========>                                        ]==========>                                        ]==========>                                        ]==========>                                        ]==========>                                        ]==========>                                        ]==========>                                        ]==========>                                        ]==========>                                        ]==========>                                        ]==========>                                        ]==========>                                        ]==========>                                        ]==========>                                        ]==========>                                        ]==========>                                        ]==========>                                        ]==========>                                        ]==========>                                        ]==========>                                        ]==========>                                        ]===========>                                       ]===========>                                       ]===========>                                       ]===========>                                       ]\r"
     ]
    },
    {
     "name": "stderr",
     "output_type": "stream",
     "text": [
      "IOPub message rate exceeded.\n",
      "The notebook server will temporarily stop sending output\n",
      "to the client in order to avoid crashing it.\n",
      "To change this limit, set the config variable\n",
      "`--NotebookApp.iopub_msg_rate_limit`.\n",
      "\n",
      "Current values:\n",
      "NotebookApp.iopub_msg_rate_limit=1000.0 (msgs/sec)\n",
      "NotebookApp.rate_limit_window=3.0 (secs)\n",
      "\n"
     ]
    },
    {
     "name": "stdout",
     "output_type": "stream",
     "text": [
      " (22.80%) [===========>                                       ]===========>                                       ]===========>                                       ]===========>                                       ]===========>                                       ]===========>                                       ]===========>                                       ]===========>                                       ]===========>                                       ]===========>                                       ]===========>                                       ]===========>                                       ]===========>                                       ]===========>                                       ]===========>                                       ]===========>                                       ]===========>                                       ]===========>                                       ]===========>                                       ]===========>                                       ]===========>                                       ]===========>                                       ]===========>                                       ]===========>                                       ]===========>                                       ]===========>                                       ]===========>                                       ]===========>                                       ]===========>                                       ]===========>                                       ]===========>                                       ]===========>                                       ]===========>                                       ]===========>                                       ]===========>                                       ]\r"
     ]
    },
    {
     "name": "stderr",
     "output_type": "stream",
     "text": [
      "IOPub message rate exceeded.\n",
      "The notebook server will temporarily stop sending output\n",
      "to the client in order to avoid crashing it.\n",
      "To change this limit, set the config variable\n",
      "`--NotebookApp.iopub_msg_rate_limit`.\n",
      "\n",
      "Current values:\n",
      "NotebookApp.iopub_msg_rate_limit=1000.0 (msgs/sec)\n",
      "NotebookApp.rate_limit_window=3.0 (secs)\n",
      "\n"
     ]
    },
    {
     "name": "stdout",
     "output_type": "stream",
     "text": [
      " (23.09%) [===========>                                       ]===========>                                       ]===========>                                       ]===========>                                       ]===========>                                       ]===========>                                       ]===========>                                       ]===========>                                       ]===========>                                       ]===========>                                       ]===========>                                       ]\r"
     ]
    },
    {
     "name": "stderr",
     "output_type": "stream",
     "text": [
      "IOPub message rate exceeded.\n",
      "The notebook server will temporarily stop sending output\n",
      "to the client in order to avoid crashing it.\n",
      "To change this limit, set the config variable\n",
      "`--NotebookApp.iopub_msg_rate_limit`.\n",
      "\n",
      "Current values:\n",
      "NotebookApp.iopub_msg_rate_limit=1000.0 (msgs/sec)\n",
      "NotebookApp.rate_limit_window=3.0 (secs)\n",
      "\n"
     ]
    },
    {
     "name": "stdout",
     "output_type": "stream",
     "text": [
      " (23.85%) [===========>                                       ]===========>                                       ]===========>                                       ]===========>                                       ]===========>                                       ]===========>                                       ]===========>                                       ]===========>                                       ]===========>                                       ]===========>                                       ]===========>                                       ]===========>                                       ]===========>                                       ]===========>                                       ]===========>                                       ]===========>                                       ]===========>                                       ]===========>                                       ]===========>                                       ]===========>                                       ]===========>                                       ]===========>                                       ]===========>                                       ]===========>                                       ]===========>                                       ]===========>                                       ]===========>                                       ]\r"
     ]
    },
    {
     "name": "stderr",
     "output_type": "stream",
     "text": [
      "IOPub message rate exceeded.\n",
      "The notebook server will temporarily stop sending output\n",
      "to the client in order to avoid crashing it.\n",
      "To change this limit, set the config variable\n",
      "`--NotebookApp.iopub_msg_rate_limit`.\n",
      "\n",
      "Current values:\n",
      "NotebookApp.iopub_msg_rate_limit=1000.0 (msgs/sec)\n",
      "NotebookApp.rate_limit_window=3.0 (secs)\n",
      "\n"
     ]
    },
    {
     "name": "stdout",
     "output_type": "stream",
     "text": [
      " (24.57%) [============>                                      ]============>                                      ]============>                                      ]============>                                      ]============>                                      ]============>                                      ]============>                                      ]============>                                      ]============>                                      ]============>                                      ]============>                                      ]============>                                      ]============>                                      ]============>                                      ]============>                                      ]============>                                      ]============>                                      ]============>                                      ]============>                                      ]\r"
     ]
    },
    {
     "name": "stderr",
     "output_type": "stream",
     "text": [
      "IOPub message rate exceeded.\n",
      "The notebook server will temporarily stop sending output\n",
      "to the client in order to avoid crashing it.\n",
      "To change this limit, set the config variable\n",
      "`--NotebookApp.iopub_msg_rate_limit`.\n",
      "\n",
      "Current values:\n",
      "NotebookApp.iopub_msg_rate_limit=1000.0 (msgs/sec)\n",
      "NotebookApp.rate_limit_window=3.0 (secs)\n",
      "\n"
     ]
    },
    {
     "name": "stdout",
     "output_type": "stream",
     "text": [
      " (25.30%) [============>                                      ]============>                                      ]============>                                      ]============>                                      ]============>                                      ]============>                                      ]============>                                      ]============>                                      ]============>                                      ]============>                                      ]============>                                      ]============>                                      ]============>                                      ]============>                                      ]============>                                      ]============>                                      ]============>                                      ]============>                                      ]============>                                      ]============>                                      ]============>                                      ]============>                                      ]============>                                      ]============>                                      ]============>                                      ]============>                                      ]============>                                      ]============>                                      ]============>                                      ]============>                                      ]============>                                      ]============>                                      ]============>                                      ]============>                                      ]============>                                      ]\r"
     ]
    },
    {
     "name": "stderr",
     "output_type": "stream",
     "text": [
      "IOPub message rate exceeded.\n",
      "The notebook server will temporarily stop sending output\n",
      "to the client in order to avoid crashing it.\n",
      "To change this limit, set the config variable\n",
      "`--NotebookApp.iopub_msg_rate_limit`.\n",
      "\n",
      "Current values:\n",
      "NotebookApp.iopub_msg_rate_limit=1000.0 (msgs/sec)\n",
      "NotebookApp.rate_limit_window=3.0 (secs)\n",
      "\n"
     ]
    },
    {
     "name": "stdout",
     "output_type": "stream",
     "text": [
      " (26.04%) [=============>                                     ]============>                                      ]============>                                      ]============>                                      ]============>                                      ]============>                                      ]============>                                      ]============>                                      ]============>                                      ]============>                                      ]============>                                      ]============>                                      ]============>                                      ]============>                                      ]============>                                      ]============>                                      ]============>                                      ]============>                                      ]============>                                      ]============>                                      ]============>                                      ]============>                                      ]============>                                      ]============>                                      ]============>                                      ]=============>                                     ]\r"
     ]
    },
    {
     "name": "stderr",
     "output_type": "stream",
     "text": [
      "IOPub message rate exceeded.\n",
      "The notebook server will temporarily stop sending output\n",
      "to the client in order to avoid crashing it.\n",
      "To change this limit, set the config variable\n",
      "`--NotebookApp.iopub_msg_rate_limit`.\n",
      "\n",
      "Current values:\n",
      "NotebookApp.iopub_msg_rate_limit=1000.0 (msgs/sec)\n",
      "NotebookApp.rate_limit_window=3.0 (secs)\n",
      "\n"
     ]
    },
    {
     "name": "stdout",
     "output_type": "stream",
     "text": [
      " (26.76%) [=============>                                     ]=============>                                     ]=============>                                     ]=============>                                     ]=============>                                     ]=============>                                     ]=============>                                     ]=============>                                     ]=============>                                     ]=============>                                     ]=============>                                     ]=============>                                     ]=============>                                     ]=============>                                     ]=============>                                     ]=============>                                     ]=============>                                     ]=============>                                     ]=============>                                     ]=============>                                     ]=============>                                     ]=============>                                     ]=============>                                     ]=============>                                     ]=============>                                     ]=============>                                     ]=============>                                     ]=============>                                     ]=============>                                     ]\r"
     ]
    },
    {
     "name": "stderr",
     "output_type": "stream",
     "text": [
      "IOPub message rate exceeded.\n",
      "The notebook server will temporarily stop sending output\n",
      "to the client in order to avoid crashing it.\n",
      "To change this limit, set the config variable\n",
      "`--NotebookApp.iopub_msg_rate_limit`.\n",
      "\n",
      "Current values:\n",
      "NotebookApp.iopub_msg_rate_limit=1000.0 (msgs/sec)\n",
      "NotebookApp.rate_limit_window=3.0 (secs)\n",
      "\n"
     ]
    },
    {
     "name": "stdout",
     "output_type": "stream",
     "text": [
      " (27.55%) [=============>                                     ]=============>                                     ]=============>                                     ]=============>                                     ]=============>                                     ]=============>                                     ]=============>                                     ]=============>                                     ]=============>                                     ]=============>                                     ]=============>                                     ]=============>                                     ]=============>                                     ]=============>                                     ]=============>                                     ]=============>                                     ]=============>                                     ]=============>                                     ]=============>                                     ]=============>                                     ]=============>                                     ]=============>                                     ]=============>                                     ]=============>                                     ]=============>                                     ]=============>                                     ]=============>                                     ]\r"
     ]
    },
    {
     "name": "stderr",
     "output_type": "stream",
     "text": [
      "IOPub message rate exceeded.\n",
      "The notebook server will temporarily stop sending output\n",
      "to the client in order to avoid crashing it.\n",
      "To change this limit, set the config variable\n",
      "`--NotebookApp.iopub_msg_rate_limit`.\n",
      "\n",
      "Current values:\n",
      "NotebookApp.iopub_msg_rate_limit=1000.0 (msgs/sec)\n",
      "NotebookApp.rate_limit_window=3.0 (secs)\n",
      "\n"
     ]
    },
    {
     "name": "stdout",
     "output_type": "stream",
     "text": [
      " (28.34%) [==============>                                    ]=============>                                     ]=============>                                     ]=============>                                     ]=============>                                     ]=============>                                     ]=============>                                     ]==============>                                    ]==============>                                    ]==============>                                    ]==============>                                    ]==============>                                    ]==============>                                    ]==============>                                    ]==============>                                    ]==============>                                    ]==============>                                    ]==============>                                    ]==============>                                    ]==============>                                    ]==============>                                    ]==============>                                    ]==============>                                    ]==============>                                    ]\r"
     ]
    },
    {
     "name": "stderr",
     "output_type": "stream",
     "text": [
      "IOPub message rate exceeded.\n",
      "The notebook server will temporarily stop sending output\n",
      "to the client in order to avoid crashing it.\n",
      "To change this limit, set the config variable\n",
      "`--NotebookApp.iopub_msg_rate_limit`.\n",
      "\n",
      "Current values:\n",
      "NotebookApp.iopub_msg_rate_limit=1000.0 (msgs/sec)\n",
      "NotebookApp.rate_limit_window=3.0 (secs)\n",
      "\n"
     ]
    },
    {
     "name": "stdout",
     "output_type": "stream",
     "text": [
      " (29.10%) [==============>                                    ]==============>                                    ]==============>                                    ]==============>                                    ]==============>                                    ]==============>                                    ]==============>                                    ]==============>                                    ]==============>                                    ]==============>                                    ]==============>                                    ]==============>                                    ]==============>                                    ]==============>                                    ]==============>                                    ]==============>                                    ]==============>                                    ]==============>                                    ]==============>                                    ]==============>                                    ]==============>                                    ]==============>                                    ]==============>                                    ]==============>                                    ]==============>                                    ]==============>                                    ]==============>                                    ]==============>                                    ]==============>                                    ]==============>                                    ]==============>                                    ]==============>                                    ]\r"
     ]
    },
    {
     "name": "stderr",
     "output_type": "stream",
     "text": [
      "IOPub message rate exceeded.\n",
      "The notebook server will temporarily stop sending output\n",
      "to the client in order to avoid crashing it.\n",
      "To change this limit, set the config variable\n",
      "`--NotebookApp.iopub_msg_rate_limit`.\n",
      "\n",
      "Current values:\n",
      "NotebookApp.iopub_msg_rate_limit=1000.0 (msgs/sec)\n",
      "NotebookApp.rate_limit_window=3.0 (secs)\n",
      "\n"
     ]
    },
    {
     "name": "stdout",
     "output_type": "stream",
     "text": [
      " (29.92%) [==============>                                    ]==============>                                    ]==============>                                    ]==============>                                    ]==============>                                    ]==============>                                    ]==============>                                    ]==============>                                    ]==============>                                    ]==============>                                    ]==============>                                    ]==============>                                    ]==============>                                    ]==============>                                    ]==============>                                    ]==============>                                    ]==============>                                    ]==============>                                    ]==============>                                    ]==============>                                    ]==============>                                    ]==============>                                    ]==============>                                    ]==============>                                    ]==============>                                    ]==============>                                    ]==============>                                    ]==============>                                    ]==============>                                    ]==============>                                    ]==============>                                    ]==============>                                    ]==============>                                    ]==============>                                    ]==============>                                    ]==============>                                    ]==============>                                    ]==============>                                    ]==============>                                    ]==============>                                    ]==============>                                    ]==============>                                    ]==============>                                    ]==============>                                    ]==============>                                    ]==============>                                    ]==============>                                    ]\r"
     ]
    },
    {
     "name": "stderr",
     "output_type": "stream",
     "text": [
      "IOPub message rate exceeded.\n",
      "The notebook server will temporarily stop sending output\n",
      "to the client in order to avoid crashing it.\n",
      "To change this limit, set the config variable\n",
      "`--NotebookApp.iopub_msg_rate_limit`.\n",
      "\n",
      "Current values:\n",
      "NotebookApp.iopub_msg_rate_limit=1000.0 (msgs/sec)\n",
      "NotebookApp.rate_limit_window=3.0 (secs)\n",
      "\n"
     ]
    },
    {
     "name": "stdout",
     "output_type": "stream",
     "text": [
      " (30.71%) [===============>                                   ]===============>                                   ]===============>                                   ]===============>                                   ]===============>                                   ]===============>                                   ]===============>                                   ]===============>                                   ]===============>                                   ]===============>                                   ]===============>                                   ]===============>                                   ]===============>                                   ]===============>                                   ]===============>                                   ]===============>                                   ]===============>                                   ]===============>                                   ]===============>                                   ]===============>                                   ]===============>                                   ]===============>                                   ]===============>                                   ]===============>                                   ]===============>                                   ]===============>                                   ]\r"
     ]
    },
    {
     "name": "stderr",
     "output_type": "stream",
     "text": [
      "IOPub message rate exceeded.\n",
      "The notebook server will temporarily stop sending output\n",
      "to the client in order to avoid crashing it.\n",
      "To change this limit, set the config variable\n",
      "`--NotebookApp.iopub_msg_rate_limit`.\n",
      "\n",
      "Current values:\n",
      "NotebookApp.iopub_msg_rate_limit=1000.0 (msgs/sec)\n",
      "NotebookApp.rate_limit_window=3.0 (secs)\n",
      "\n"
     ]
    },
    {
     "name": "stdout",
     "output_type": "stream",
     "text": [
      " (31.45%) [===============>                                   ]===============>                                   ]===============>                                   ]===============>                                   ]===============>                                   ]===============>                                   ]===============>                                   ]===============>                                   ]===============>                                   ]===============>                                   ]===============>                                   ]===============>                                   ]===============>                                   ]===============>                                   ]===============>                                   ]===============>                                   ]===============>                                   ]===============>                                   ]===============>                                   ]===============>                                   ]===============>                                   ]===============>                                   ]===============>                                   ]\r"
     ]
    },
    {
     "name": "stderr",
     "output_type": "stream",
     "text": [
      "IOPub message rate exceeded.\n",
      "The notebook server will temporarily stop sending output\n",
      "to the client in order to avoid crashing it.\n",
      "To change this limit, set the config variable\n",
      "`--NotebookApp.iopub_msg_rate_limit`.\n",
      "\n",
      "Current values:\n",
      "NotebookApp.iopub_msg_rate_limit=1000.0 (msgs/sec)\n",
      "NotebookApp.rate_limit_window=3.0 (secs)\n",
      "\n"
     ]
    },
    {
     "name": "stdout",
     "output_type": "stream",
     "text": [
      " (32.25%) [================>                                  ]===============>                                   ]===============>                                   ]===============>                                   ]===============>                                   ]===============>                                   ]===============>                                   ]===============>                                   ]===============>                                   ]===============>                                   ]===============>                                   ]===============>                                   ]===============>                                   ]===============>                                   ]===============>                                   ]===============>                                   ]================>                                  ]================>                                  ]================>                                  ]================>                                  ]================>                                  ]================>                                  ]================>                                  ]================>                                  ]\r"
     ]
    },
    {
     "name": "stderr",
     "output_type": "stream",
     "text": [
      "IOPub message rate exceeded.\n",
      "The notebook server will temporarily stop sending output\n",
      "to the client in order to avoid crashing it.\n",
      "To change this limit, set the config variable\n",
      "`--NotebookApp.iopub_msg_rate_limit`.\n",
      "\n",
      "Current values:\n",
      "NotebookApp.iopub_msg_rate_limit=1000.0 (msgs/sec)\n",
      "NotebookApp.rate_limit_window=3.0 (secs)\n",
      "\n"
     ]
    },
    {
     "name": "stdout",
     "output_type": "stream",
     "text": [
      " (33.03%) [================>                                  ]================>                                  ]================>                                  ]================>                                  ]================>                                  ]================>                                  ]================>                                  ]================>                                  ]================>                                  ]================>                                  ]================>                                  ]================>                                  ]================>                                  ]================>                                  ]================>                                  ]================>                                  ]================>                                  ]================>                                  ]================>                                  ]================>                                  ]================>                                  ]================>                                  ]================>                                  ]================>                                  ]================>                                  ]================>                                  ]\r"
     ]
    },
    {
     "name": "stderr",
     "output_type": "stream",
     "text": [
      "IOPub message rate exceeded.\n",
      "The notebook server will temporarily stop sending output\n",
      "to the client in order to avoid crashing it.\n",
      "To change this limit, set the config variable\n",
      "`--NotebookApp.iopub_msg_rate_limit`.\n",
      "\n",
      "Current values:\n",
      "NotebookApp.iopub_msg_rate_limit=1000.0 (msgs/sec)\n",
      "NotebookApp.rate_limit_window=3.0 (secs)\n",
      "\n"
     ]
    },
    {
     "name": "stdout",
     "output_type": "stream",
     "text": [
      " (33.78%) [================>                                  ]================>                                  ]================>                                  ]================>                                  ]================>                                  ]================>                                  ]================>                                  ]================>                                  ]================>                                  ]================>                                  ]================>                                  ]================>                                  ]================>                                  ]================>                                  ]================>                                  ]================>                                  ]================>                                  ]\r"
     ]
    },
    {
     "name": "stderr",
     "output_type": "stream",
     "text": [
      "IOPub message rate exceeded.\n",
      "The notebook server will temporarily stop sending output\n",
      "to the client in order to avoid crashing it.\n",
      "To change this limit, set the config variable\n",
      "`--NotebookApp.iopub_msg_rate_limit`.\n",
      "\n",
      "Current values:\n",
      "NotebookApp.iopub_msg_rate_limit=1000.0 (msgs/sec)\n",
      "NotebookApp.rate_limit_window=3.0 (secs)\n",
      "\n"
     ]
    },
    {
     "name": "stdout",
     "output_type": "stream",
     "text": [
      " (34.57%) [=================>                                 ]=================>                                 ]=================>                                 ]=================>                                 ]=================>                                 ]=================>                                 ]=================>                                 ]=================>                                 ]=================>                                 ]=================>                                 ]=================>                                 ]=================>                                 ]=================>                                 ]=================>                                 ]=================>                                 ]=================>                                 ]=================>                                 ]=================>                                 ]=================>                                 ]=================>                                 ]=================>                                 ]=================>                                 ]=================>                                 ]=================>                                 ]=================>                                 ]=================>                                 ]=================>                                 ]=================>                                 ]=================>                                 ]\r"
     ]
    },
    {
     "name": "stderr",
     "output_type": "stream",
     "text": [
      "IOPub message rate exceeded.\n",
      "The notebook server will temporarily stop sending output\n",
      "to the client in order to avoid crashing it.\n",
      "To change this limit, set the config variable\n",
      "`--NotebookApp.iopub_msg_rate_limit`.\n",
      "\n",
      "Current values:\n",
      "NotebookApp.iopub_msg_rate_limit=1000.0 (msgs/sec)\n",
      "NotebookApp.rate_limit_window=3.0 (secs)\n",
      "\n"
     ]
    },
    {
     "name": "stdout",
     "output_type": "stream",
     "text": [
      " (35.33%) [=================>                                 ]=================>                                 ]=================>                                 ]=================>                                 ]=================>                                 ]=================>                                 ]=================>                                 ]=================>                                 ]=================>                                 ]=================>                                 ]=================>                                 ]=================>                                 ]=================>                                 ]=================>                                 ]=================>                                 ]=================>                                 ]=================>                                 ]=================>                                 ]=================>                                 ]=================>                                 ]=================>                                 ]=================>                                 ]=================>                                 ]=================>                                 ]=================>                                 ]=================>                                 ]=================>                                 ]=================>                                 ]=================>                                 ]\r"
     ]
    },
    {
     "name": "stderr",
     "output_type": "stream",
     "text": [
      "IOPub message rate exceeded.\n",
      "The notebook server will temporarily stop sending output\n",
      "to the client in order to avoid crashing it.\n",
      "To change this limit, set the config variable\n",
      "`--NotebookApp.iopub_msg_rate_limit`.\n",
      "\n",
      "Current values:\n",
      "NotebookApp.iopub_msg_rate_limit=1000.0 (msgs/sec)\n",
      "NotebookApp.rate_limit_window=3.0 (secs)\n",
      "\n"
     ]
    },
    {
     "name": "stdout",
     "output_type": "stream",
     "text": [
      " (36.11%) [==================>                                ]=================>                                 ]=================>                                 ]=================>                                 ]=================>                                 ]=================>                                 ]=================>                                 ]=================>                                 ]=================>                                 ]=================>                                 ]=================>                                 ]=================>                                 ]=================>                                 ]=================>                                 ]=================>                                 ]=================>                                 ]=================>                                 ]=================>                                 ]=================>                                 ]=================>                                 ]=================>                                 ]=================>                                 ]==================>                                ]==================>                                ]==================>                                ]==================>                                ]\r"
     ]
    },
    {
     "name": "stderr",
     "output_type": "stream",
     "text": [
      "IOPub message rate exceeded.\n",
      "The notebook server will temporarily stop sending output\n",
      "to the client in order to avoid crashing it.\n",
      "To change this limit, set the config variable\n",
      "`--NotebookApp.iopub_msg_rate_limit`.\n",
      "\n",
      "Current values:\n",
      "NotebookApp.iopub_msg_rate_limit=1000.0 (msgs/sec)\n",
      "NotebookApp.rate_limit_window=3.0 (secs)\n",
      "\n"
     ]
    },
    {
     "name": "stdout",
     "output_type": "stream",
     "text": [
      " (36.90%) [==================>                                ]==================>                                ]==================>                                ]==================>                                ]==================>                                ]==================>                                ]==================>                                ]==================>                                ]==================>                                ]==================>                                ]==================>                                ]==================>                                ]==================>                                ]==================>                                ]==================>                                ]==================>                                ]==================>                                ]==================>                                ]==================>                                ]\r"
     ]
    },
    {
     "name": "stderr",
     "output_type": "stream",
     "text": [
      "IOPub message rate exceeded.\n",
      "The notebook server will temporarily stop sending output\n",
      "to the client in order to avoid crashing it.\n",
      "To change this limit, set the config variable\n",
      "`--NotebookApp.iopub_msg_rate_limit`.\n",
      "\n",
      "Current values:\n",
      "NotebookApp.iopub_msg_rate_limit=1000.0 (msgs/sec)\n",
      "NotebookApp.rate_limit_window=3.0 (secs)\n",
      "\n"
     ]
    },
    {
     "name": "stdout",
     "output_type": "stream",
     "text": [
      " (37.64%) [==================>                                ]==================>                                ]==================>                                ]==================>                                ]==================>                                ]==================>                                ]==================>                                ]==================>                                ]==================>                                ]==================>                                ]==================>                                ]==================>                                ]==================>                                ]==================>                                ]==================>                                ]==================>                                ]==================>                                ]==================>                                ]==================>                                ]==================>                                ]==================>                                ]==================>                                ]==================>                                ]==================>                                ]==================>                                ]==================>                                ]==================>                                ]==================>                                ]==================>                                ]==================>                                ]==================>                                ]\r"
     ]
    },
    {
     "name": "stderr",
     "output_type": "stream",
     "text": [
      "IOPub message rate exceeded.\n",
      "The notebook server will temporarily stop sending output\n",
      "to the client in order to avoid crashing it.\n",
      "To change this limit, set the config variable\n",
      "`--NotebookApp.iopub_msg_rate_limit`.\n",
      "\n",
      "Current values:\n",
      "NotebookApp.iopub_msg_rate_limit=1000.0 (msgs/sec)\n",
      "NotebookApp.rate_limit_window=3.0 (secs)\n",
      "\n"
     ]
    },
    {
     "name": "stdout",
     "output_type": "stream",
     "text": [
      " (38.38%) [===================>                               ]==================>                                ]==================>                                ]==================>                                ]==================>                                ]==================>                                ]==================>                                ]==================>                                ]==================>                                ]===================>                               ]===================>                               ]===================>                               ]===================>                               ]===================>                               ]===================>                               ]===================>                               ]===================>                               ]===================>                               ]===================>                               ]===================>                               ]\r"
     ]
    },
    {
     "name": "stderr",
     "output_type": "stream",
     "text": [
      "IOPub message rate exceeded.\n",
      "The notebook server will temporarily stop sending output\n",
      "to the client in order to avoid crashing it.\n",
      "To change this limit, set the config variable\n",
      "`--NotebookApp.iopub_msg_rate_limit`.\n",
      "\n",
      "Current values:\n",
      "NotebookApp.iopub_msg_rate_limit=1000.0 (msgs/sec)\n",
      "NotebookApp.rate_limit_window=3.0 (secs)\n",
      "\n"
     ]
    },
    {
     "name": "stdout",
     "output_type": "stream",
     "text": [
      " (39.15%) [===================>                               ]===================>                               ]===================>                               ]===================>                               ]===================>                               ]===================>                               ]===================>                               ]===================>                               ]===================>                               ]===================>                               ]===================>                               ]===================>                               ]===================>                               ]===================>                               ]===================>                               ]===================>                               ]===================>                               ]===================>                               ]===================>                               ]===================>                               ]===================>                               ]===================>                               ]===================>                               ]===================>                               ]===================>                               ]===================>                               ]===================>                               ]===================>                               ]===================>                               ]\r"
     ]
    },
    {
     "name": "stderr",
     "output_type": "stream",
     "text": [
      "IOPub message rate exceeded.\n",
      "The notebook server will temporarily stop sending output\n",
      "to the client in order to avoid crashing it.\n",
      "To change this limit, set the config variable\n",
      "`--NotebookApp.iopub_msg_rate_limit`.\n",
      "\n",
      "Current values:\n",
      "NotebookApp.iopub_msg_rate_limit=1000.0 (msgs/sec)\n",
      "NotebookApp.rate_limit_window=3.0 (secs)\n",
      "\n"
     ]
    },
    {
     "name": "stdout",
     "output_type": "stream",
     "text": [
      " (40.09%) [====================>                              ]===================>                               ]===================>                               ]===================>                               ]===================>                               ]===================>                               ]===================>                               ]===================>                               ]===================>                               ]===================>                               ]===================>                               ]===================>                               ]===================>                               ]===================>                               ]===================>                               ]===================>                               ]===================>                               ]===================>                               ]===================>                               ]===================>                               ]===================>                               ]====================>                              ]\r"
     ]
    },
    {
     "name": "stderr",
     "output_type": "stream",
     "text": [
      "IOPub message rate exceeded.\n",
      "The notebook server will temporarily stop sending output\n",
      "to the client in order to avoid crashing it.\n",
      "To change this limit, set the config variable\n",
      "`--NotebookApp.iopub_msg_rate_limit`.\n",
      "\n",
      "Current values:\n",
      "NotebookApp.iopub_msg_rate_limit=1000.0 (msgs/sec)\n",
      "NotebookApp.rate_limit_window=3.0 (secs)\n",
      "\n"
     ]
    },
    {
     "name": "stdout",
     "output_type": "stream",
     "text": [
      " (40.85%) [====================>                              ]====================>                              ]====================>                              ]====================>                              ]====================>                              ]====================>                              ]====================>                              ]====================>                              ]====================>                              ]====================>                              ]====================>                              ]====================>                              ]====================>                              ]====================>                              ]====================>                              ]====================>                              ]====================>                              ]====================>                              ]====================>                              ]====================>                              ]====================>                              ]====================>                              ]====================>                              ]====================>                              ]====================>                              ]====================>                              ]====================>                              ]====================>                              ]====================>                              ]====================>                              ]====================>                              ]\r"
     ]
    },
    {
     "name": "stderr",
     "output_type": "stream",
     "text": [
      "IOPub message rate exceeded.\n",
      "The notebook server will temporarily stop sending output\n",
      "to the client in order to avoid crashing it.\n",
      "To change this limit, set the config variable\n",
      "`--NotebookApp.iopub_msg_rate_limit`.\n",
      "\n",
      "Current values:\n",
      "NotebookApp.iopub_msg_rate_limit=1000.0 (msgs/sec)\n",
      "NotebookApp.rate_limit_window=3.0 (secs)\n",
      "\n"
     ]
    },
    {
     "name": "stdout",
     "output_type": "stream",
     "text": [
      " (41.84%) [====================>                              ]====================>                              ]====================>                              ]====================>                              ]====================>                              ]====================>                              ]====================>                              ]====================>                              ]====================>                              ]====================>                              ]====================>                              ]====================>                              ]====================>                              ]====================>                              ]====================>                              ]====================>                              ]====================>                              ]====================>                              ]====================>                              ]====================>                              ]====================>                              ]====================>                              ]====================>                              ]====================>                              ]====================>                              ]====================>                              ]====================>                              ]====================>                              ]====================>                              ]====================>                              ]====================>                              ]====================>                              ]====================>                              ]\r"
     ]
    },
    {
     "name": "stderr",
     "output_type": "stream",
     "text": [
      "IOPub message rate exceeded.\n",
      "The notebook server will temporarily stop sending output\n",
      "to the client in order to avoid crashing it.\n",
      "To change this limit, set the config variable\n",
      "`--NotebookApp.iopub_msg_rate_limit`.\n",
      "\n",
      "Current values:\n",
      "NotebookApp.iopub_msg_rate_limit=1000.0 (msgs/sec)\n",
      "NotebookApp.rate_limit_window=3.0 (secs)\n",
      "\n"
     ]
    },
    {
     "name": "stdout",
     "output_type": "stream",
     "text": [
      " (42.78%) [=====================>                             ]=====================>                             ]=====================>                             ]=====================>                             ]=====================>                             ]=====================>                             ]=====================>                             ]=====================>                             ]=====================>                             ]=====================>                             ]=====================>                             ]=====================>                             ]=====================>                             ]=====================>                             ]=====================>                             ]=====================>                             ]=====================>                             ]=====================>                             ]=====================>                             ]=====================>                             ]=====================>                             ]=====================>                             ]=====================>                             ]=====================>                             ]=====================>                             ]=====================>                             ]=====================>                             ]=====================>                             ]=====================>                             ]=====================>                             ]=====================>                             ]=====================>                             ]=====================>                             ]=====================>                             ]=====================>                             ]=====================>                             ]=====================>                             ]\r"
     ]
    },
    {
     "name": "stderr",
     "output_type": "stream",
     "text": [
      "IOPub message rate exceeded.\n",
      "The notebook server will temporarily stop sending output\n",
      "to the client in order to avoid crashing it.\n",
      "To change this limit, set the config variable\n",
      "`--NotebookApp.iopub_msg_rate_limit`.\n",
      "\n",
      "Current values:\n",
      "NotebookApp.iopub_msg_rate_limit=1000.0 (msgs/sec)\n",
      "NotebookApp.rate_limit_window=3.0 (secs)\n",
      "\n"
     ]
    },
    {
     "name": "stdout",
     "output_type": "stream",
     "text": [
      " (43.69%) [=====================>                             ]=====================>                             ]=====================>                             ]=====================>                             ]=====================>                             ]=====================>                             ]=====================>                             ]=====================>                             ]=====================>                             ]=====================>                             ]=====================>                             ]=====================>                             ]=====================>                             ]=====================>                             ]=====================>                             ]=====================>                             ]=====================>                             ]=====================>                             ]=====================>                             ]=====================>                             ]=====================>                             ]=====================>                             ]=====================>                             ]=====================>                             ]=====================>                             ]=====================>                             ]=====================>                             ]=====================>                             ]\r"
     ]
    },
    {
     "name": "stderr",
     "output_type": "stream",
     "text": [
      "IOPub message rate exceeded.\n",
      "The notebook server will temporarily stop sending output\n",
      "to the client in order to avoid crashing it.\n",
      "To change this limit, set the config variable\n",
      "`--NotebookApp.iopub_msg_rate_limit`.\n",
      "\n",
      "Current values:\n",
      "NotebookApp.iopub_msg_rate_limit=1000.0 (msgs/sec)\n",
      "NotebookApp.rate_limit_window=3.0 (secs)\n",
      "\n"
     ]
    },
    {
     "name": "stdout",
     "output_type": "stream",
     "text": [
      " (44.49%) [======================>                            ]=====================>                             ]=====================>                             ]======================>                            ]======================>                            ]======================>                            ]======================>                            ]======================>                            ]======================>                            ]======================>                            ]======================>                            ]======================>                            ]======================>                            ]======================>                            ]======================>                            ]======================>                            ]======================>                            ]======================>                            ]======================>                            ]======================>                            ]======================>                            ]======================>                            ]======================>                            ]======================>                            ]======================>                            ]======================>                            ]======================>                            ]======================>                            ]======================>                            ]\r"
     ]
    },
    {
     "name": "stderr",
     "output_type": "stream",
     "text": [
      "IOPub message rate exceeded.\n",
      "The notebook server will temporarily stop sending output\n",
      "to the client in order to avoid crashing it.\n",
      "To change this limit, set the config variable\n",
      "`--NotebookApp.iopub_msg_rate_limit`.\n",
      "\n",
      "Current values:\n",
      "NotebookApp.iopub_msg_rate_limit=1000.0 (msgs/sec)\n",
      "NotebookApp.rate_limit_window=3.0 (secs)\n",
      "\n"
     ]
    },
    {
     "name": "stdout",
     "output_type": "stream",
     "text": [
      " (45.24%) [======================>                            ]======================>                            ]======================>                            ]======================>                            ]======================>                            ]======================>                            ]======================>                            ]======================>                            ]======================>                            ]======================>                            ]======================>                            ]======================>                            ]======================>                            ]======================>                            ]======================>                            ]======================>                            ]======================>                            ]======================>                            ]======================>                            ]======================>                            ]======================>                            ]======================>                            ]======================>                            ]======================>                            ]======================>                            ]======================>                            ]======================>                            ]======================>                            ]\r"
     ]
    },
    {
     "name": "stderr",
     "output_type": "stream",
     "text": [
      "IOPub message rate exceeded.\n",
      "The notebook server will temporarily stop sending output\n",
      "to the client in order to avoid crashing it.\n",
      "To change this limit, set the config variable\n",
      "`--NotebookApp.iopub_msg_rate_limit`.\n",
      "\n",
      "Current values:\n",
      "NotebookApp.iopub_msg_rate_limit=1000.0 (msgs/sec)\n",
      "NotebookApp.rate_limit_window=3.0 (secs)\n",
      "\n"
     ]
    },
    {
     "name": "stdout",
     "output_type": "stream",
     "text": [
      " (46.07%) [=======================>                           ]======================>                            ]======================>                            ]======================>                            ]======================>                            ]======================>                            ]======================>                            ]======================>                            ]======================>                            ]======================>                            ]======================>                            ]======================>                            ]======================>                            ]======================>                            ]======================>                            ]======================>                            ]======================>                            ]======================>                            ]======================>                            ]======================>                            ]======================>                            ]======================>                            ]======================>                            ]======================>                            ]======================>                            ]=======================>                           ]=======================>                           ]=======================>                           ]=======================>                           ]=======================>                           ]\r"
     ]
    },
    {
     "name": "stderr",
     "output_type": "stream",
     "text": [
      "IOPub message rate exceeded.\n",
      "The notebook server will temporarily stop sending output\n",
      "to the client in order to avoid crashing it.\n",
      "To change this limit, set the config variable\n",
      "`--NotebookApp.iopub_msg_rate_limit`.\n",
      "\n",
      "Current values:\n",
      "NotebookApp.iopub_msg_rate_limit=1000.0 (msgs/sec)\n",
      "NotebookApp.rate_limit_window=3.0 (secs)\n",
      "\n"
     ]
    },
    {
     "name": "stdout",
     "output_type": "stream",
     "text": [
      " (46.86%) [=======================>                           ]=======================>                           ]=======================>                           ]=======================>                           ]=======================>                           ]=======================>                           ]=======================>                           ]=======================>                           ]=======================>                           ]=======================>                           ]=======================>                           ]=======================>                           ]=======================>                           ]=======================>                           ]=======================>                           ]=======================>                           ]=======================>                           ]=======================>                           ]=======================>                           ]=======================>                           ]=======================>                           ]=======================>                           ]=======================>                           ]=======================>                           ]=======================>                           ]=======================>                           ]=======================>                           ]=======================>                           ]=======================>                           ]=======================>                           ]=======================>                           ]=======================>                           ]=======================>                           ]\r"
     ]
    },
    {
     "name": "stderr",
     "output_type": "stream",
     "text": [
      "IOPub message rate exceeded.\n",
      "The notebook server will temporarily stop sending output\n",
      "to the client in order to avoid crashing it.\n",
      "To change this limit, set the config variable\n",
      "`--NotebookApp.iopub_msg_rate_limit`.\n",
      "\n",
      "Current values:\n",
      "NotebookApp.iopub_msg_rate_limit=1000.0 (msgs/sec)\n",
      "NotebookApp.rate_limit_window=3.0 (secs)\n",
      "\n"
     ]
    },
    {
     "name": "stdout",
     "output_type": "stream",
     "text": [
      " (47.83%) [=======================>                           ]=======================>                           ]=======================>                           ]=======================>                           ]=======================>                           ]=======================>                           ]=======================>                           ]=======================>                           ]=======================>                           ]=======================>                           ]=======================>                           ]=======================>                           ]=======================>                           ]=======================>                           ]=======================>                           ]=======================>                           ]=======================>                           ]=======================>                           ]=======================>                           ]=======================>                           ]=======================>                           ]=======================>                           ]=======================>                           ]=======================>                           ]=======================>                           ]=======================>                           ]=======================>                           ]=======================>                           ]=======================>                           ]=======================>                           ]=======================>                           ]=======================>                           ]=======================>                           ]=======================>                           ]\r"
     ]
    },
    {
     "name": "stderr",
     "output_type": "stream",
     "text": [
      "IOPub message rate exceeded.\n",
      "The notebook server will temporarily stop sending output\n",
      "to the client in order to avoid crashing it.\n",
      "To change this limit, set the config variable\n",
      "`--NotebookApp.iopub_msg_rate_limit`.\n",
      "\n",
      "Current values:\n",
      "NotebookApp.iopub_msg_rate_limit=1000.0 (msgs/sec)\n",
      "NotebookApp.rate_limit_window=3.0 (secs)\n",
      "\n"
     ]
    },
    {
     "name": "stdout",
     "output_type": "stream",
     "text": [
      " (48.62%) [========================>                          ]========================>                          ]========================>                          ]========================>                          ]========================>                          ]========================>                          ]========================>                          ]========================>                          ]========================>                          ]========================>                          ]========================>                          ]========================>                          ]========================>                          ]========================>                          ]========================>                          ]========================>                          ]========================>                          ]========================>                          ]========================>                          ]========================>                          ]========================>                          ]========================>                          ]========================>                          ]========================>                          ]========================>                          ]========================>                          ]========================>                          ]========================>                          ]========================>                          ]========================>                          ]========================>                          ]========================>                          ]========================>                          ]========================>                          ]========================>                          ]========================>                          ]========================>                          ]\r"
     ]
    },
    {
     "name": "stderr",
     "output_type": "stream",
     "text": [
      "IOPub message rate exceeded.\n",
      "The notebook server will temporarily stop sending output\n",
      "to the client in order to avoid crashing it.\n",
      "To change this limit, set the config variable\n",
      "`--NotebookApp.iopub_msg_rate_limit`.\n",
      "\n",
      "Current values:\n",
      "NotebookApp.iopub_msg_rate_limit=1000.0 (msgs/sec)\n",
      "NotebookApp.rate_limit_window=3.0 (secs)\n",
      "\n"
     ]
    },
    {
     "name": "stdout",
     "output_type": "stream",
     "text": [
      " (49.59%) [========================>                          ]========================>                          ]========================>                          ]========================>                          ]========================>                          ]========================>                          ]========================>                          ]========================>                          ]========================>                          ]========================>                          ]========================>                          ]========================>                          ]========================>                          ]========================>                          ]========================>                          ]========================>                          ]========================>                          ]========================>                          ]========================>                          ]========================>                          ]========================>                          ]========================>                          ]========================>                          ]========================>                          ]========================>                          ]========================>                          ]\r"
     ]
    },
    {
     "name": "stderr",
     "output_type": "stream",
     "text": [
      "IOPub message rate exceeded.\n",
      "The notebook server will temporarily stop sending output\n",
      "to the client in order to avoid crashing it.\n",
      "To change this limit, set the config variable\n",
      "`--NotebookApp.iopub_msg_rate_limit`.\n",
      "\n",
      "Current values:\n",
      "NotebookApp.iopub_msg_rate_limit=1000.0 (msgs/sec)\n",
      "NotebookApp.rate_limit_window=3.0 (secs)\n",
      "\n"
     ]
    },
    {
     "name": "stdout",
     "output_type": "stream",
     "text": [
      " (50.46%) [=========================>                         ]========================>                          ]========================>                          ]========================>                          ]========================>                          ]=========================>                         ]=========================>                         ]=========================>                         ]=========================>                         ]=========================>                         ]=========================>                         ]=========================>                         ]=========================>                         ]=========================>                         ]=========================>                         ]=========================>                         ]=========================>                         ]=========================>                         ]=========================>                         ]=========================>                         ]=========================>                         ]=========================>                         ]=========================>                         ]\r"
     ]
    },
    {
     "name": "stderr",
     "output_type": "stream",
     "text": [
      "IOPub message rate exceeded.\n",
      "The notebook server will temporarily stop sending output\n",
      "to the client in order to avoid crashing it.\n",
      "To change this limit, set the config variable\n",
      "`--NotebookApp.iopub_msg_rate_limit`.\n",
      "\n",
      "Current values:\n",
      "NotebookApp.iopub_msg_rate_limit=1000.0 (msgs/sec)\n",
      "NotebookApp.rate_limit_window=3.0 (secs)\n",
      "\n"
     ]
    },
    {
     "name": "stdout",
     "output_type": "stream",
     "text": [
      " (51.34%) [=========================>                         ]=========================>                         ]=========================>                         ]=========================>                         ]=========================>                         ]=========================>                         ]=========================>                         ]=========================>                         ]=========================>                         ]=========================>                         ]=========================>                         ]=========================>                         ]=========================>                         ]=========================>                         ]=========================>                         ]=========================>                         ]=========================>                         ]=========================>                         ]=========================>                         ]=========================>                         ]=========================>                         ]=========================>                         ]=========================>                         ]=========================>                         ]=========================>                         ]=========================>                         ]=========================>                         ]\r"
     ]
    },
    {
     "name": "stderr",
     "output_type": "stream",
     "text": [
      "IOPub message rate exceeded.\n",
      "The notebook server will temporarily stop sending output\n",
      "to the client in order to avoid crashing it.\n",
      "To change this limit, set the config variable\n",
      "`--NotebookApp.iopub_msg_rate_limit`.\n",
      "\n",
      "Current values:\n",
      "NotebookApp.iopub_msg_rate_limit=1000.0 (msgs/sec)\n",
      "NotebookApp.rate_limit_window=3.0 (secs)\n",
      "\n"
     ]
    },
    {
     "name": "stdout",
     "output_type": "stream",
     "text": [
      " (52.21%) [==========================>                        ]=========================>                         ]=========================>                         ]=========================>                         ]=========================>                         ]=========================>                         ]=========================>                         ]=========================>                         ]=========================>                         ]=========================>                         ]=========================>                         ]=========================>                         ]=========================>                         ]=========================>                         ]=========================>                         ]=========================>                         ]=========================>                         ]=========================>                         ]==========================>                        ]==========================>                        ]==========================>                        ]==========================>                        ]==========================>                        ]==========================>                        ]==========================>                        ]==========================>                        ]==========================>                        ]==========================>                        ]==========================>                        ]\r"
     ]
    },
    {
     "name": "stderr",
     "output_type": "stream",
     "text": [
      "IOPub message rate exceeded.\n",
      "The notebook server will temporarily stop sending output\n",
      "to the client in order to avoid crashing it.\n",
      "To change this limit, set the config variable\n",
      "`--NotebookApp.iopub_msg_rate_limit`.\n",
      "\n",
      "Current values:\n",
      "NotebookApp.iopub_msg_rate_limit=1000.0 (msgs/sec)\n",
      "NotebookApp.rate_limit_window=3.0 (secs)\n",
      "\n"
     ]
    },
    {
     "name": "stdout",
     "output_type": "stream",
     "text": [
      " (53.04%) [==========================>                        ]==========================>                        ]==========================>                        ]==========================>                        ]==========================>                        ]==========================>                        ]==========================>                        ]==========================>                        ]==========================>                        ]==========================>                        ]==========================>                        ]==========================>                        ]==========================>                        ]==========================>                        ]==========================>                        ]==========================>                        ]==========================>                        ]==========================>                        ]==========================>                        ]==========================>                        ]==========================>                        ]==========================>                        ]\r"
     ]
    },
    {
     "name": "stderr",
     "output_type": "stream",
     "text": [
      "IOPub message rate exceeded.\n",
      "The notebook server will temporarily stop sending output\n",
      "to the client in order to avoid crashing it.\n",
      "To change this limit, set the config variable\n",
      "`--NotebookApp.iopub_msg_rate_limit`.\n",
      "\n",
      "Current values:\n",
      "NotebookApp.iopub_msg_rate_limit=1000.0 (msgs/sec)\n",
      "NotebookApp.rate_limit_window=3.0 (secs)\n",
      "\n"
     ]
    },
    {
     "name": "stdout",
     "output_type": "stream",
     "text": [
      " (54.04%) [===========================>                       ]==========================>                        ]==========================>                        ]==========================>                        ]==========================>                        ]==========================>                        ]==========================>                        ]==========================>                        ]==========================>                        ]==========================>                        ]==========================>                        ]==========================>                        ]==========================>                        ]==========================>                        ]==========================>                        ]==========================>                        ]==========================>                        ]==========================>                        ]==========================>                        ]==========================>                        ]==========================>                        ]==========================>                        ]==========================>                        ]==========================>                        ]==========================>                        ]==========================>                        ]==========================>                        ]==========================>                        ]===========================>                       ]===========================>                       ]\r"
     ]
    },
    {
     "name": "stderr",
     "output_type": "stream",
     "text": [
      "IOPub message rate exceeded.\n",
      "The notebook server will temporarily stop sending output\n",
      "to the client in order to avoid crashing it.\n",
      "To change this limit, set the config variable\n",
      "`--NotebookApp.iopub_msg_rate_limit`.\n",
      "\n",
      "Current values:\n",
      "NotebookApp.iopub_msg_rate_limit=1000.0 (msgs/sec)\n",
      "NotebookApp.rate_limit_window=3.0 (secs)\n",
      "\n"
     ]
    },
    {
     "name": "stdout",
     "output_type": "stream",
     "text": [
      " (54.83%) [===========================>                       ]===========================>                       ]===========================>                       ]===========================>                       ]===========================>                       ]===========================>                       ]===========================>                       ]===========================>                       ]===========================>                       ]===========================>                       ]===========================>                       ]===========================>                       ]===========================>                       ]===========================>                       ]===========================>                       ]===========================>                       ]===========================>                       ]===========================>                       ]===========================>                       ]===========================>                       ]===========================>                       ]===========================>                       ]===========================>                       ]===========================>                       ]===========================>                       ]===========================>                       ]===========================>                       ]===========================>                       ]===========================>                       ]===========================>                       ]===========================>                       ]===========================>                       ]===========================>                       ]===========================>                       ]===========================>                       ]===========================>                       ]===========================>                       ]===========================>                       ]\r"
     ]
    },
    {
     "name": "stderr",
     "output_type": "stream",
     "text": [
      "IOPub message rate exceeded.\n",
      "The notebook server will temporarily stop sending output\n",
      "to the client in order to avoid crashing it.\n",
      "To change this limit, set the config variable\n",
      "`--NotebookApp.iopub_msg_rate_limit`.\n",
      "\n",
      "Current values:\n",
      "NotebookApp.iopub_msg_rate_limit=1000.0 (msgs/sec)\n",
      "NotebookApp.rate_limit_window=3.0 (secs)\n",
      "\n"
     ]
    },
    {
     "name": "stdout",
     "output_type": "stream",
     "text": [
      " (55.80%) [===========================>                       ]===========================>                       ]===========================>                       ]===========================>                       ]===========================>                       ]===========================>                       ]===========================>                       ]===========================>                       ]===========================>                       ]===========================>                       ]===========================>                       ]===========================>                       ]===========================>                       ]===========================>                       ]===========================>                       ]===========================>                       ]===========================>                       ]===========================>                       ]===========================>                       ]===========================>                       ]===========================>                       ]===========================>                       ]===========================>                       ]===========================>                       ]===========================>                       ]===========================>                       ]===========================>                       ]===========================>                       ]===========================>                       ]===========================>                       ]===========================>                       ]===========================>                       ]===========================>                       ]\r"
     ]
    },
    {
     "name": "stderr",
     "output_type": "stream",
     "text": [
      "IOPub message rate exceeded.\n",
      "The notebook server will temporarily stop sending output\n",
      "to the client in order to avoid crashing it.\n",
      "To change this limit, set the config variable\n",
      "`--NotebookApp.iopub_msg_rate_limit`.\n",
      "\n",
      "Current values:\n",
      "NotebookApp.iopub_msg_rate_limit=1000.0 (msgs/sec)\n",
      "NotebookApp.rate_limit_window=3.0 (secs)\n",
      "\n"
     ]
    },
    {
     "name": "stdout",
     "output_type": "stream",
     "text": [
      " (56.73%) [============================>                      ]============================>                      ]============================>                      ]============================>                      ]============================>                      ]============================>                      ]============================>                      ]============================>                      ]============================>                      ]============================>                      ]============================>                      ]============================>                      ]============================>                      ]============================>                      ]============================>                      ]============================>                      ]============================>                      ]============================>                      ]============================>                      ]============================>                      ]============================>                      ]============================>                      ]============================>                      ]============================>                      ]============================>                      ]============================>                      ]============================>                      ]============================>                      ]============================>                      ]============================>                      ]============================>                      ]\r"
     ]
    },
    {
     "name": "stderr",
     "output_type": "stream",
     "text": [
      "IOPub message rate exceeded.\n",
      "The notebook server will temporarily stop sending output\n",
      "to the client in order to avoid crashing it.\n",
      "To change this limit, set the config variable\n",
      "`--NotebookApp.iopub_msg_rate_limit`.\n",
      "\n",
      "Current values:\n",
      "NotebookApp.iopub_msg_rate_limit=1000.0 (msgs/sec)\n",
      "NotebookApp.rate_limit_window=3.0 (secs)\n",
      "\n"
     ]
    },
    {
     "name": "stdout",
     "output_type": "stream",
     "text": [
      " (57.59%) [============================>                      ]============================>                      ]============================>                      ]============================>                      ]============================>                      ]============================>                      ]============================>                      ]============================>                      ]============================>                      ]============================>                      ]============================>                      ]============================>                      ]============================>                      ]============================>                      ]============================>                      ]============================>                      ]============================>                      ]============================>                      ]============================>                      ]============================>                      ]============================>                      ]============================>                      ]============================>                      ]============================>                      ]============================>                      ]============================>                      ]============================>                      ]============================>                      ]============================>                      ]\r"
     ]
    },
    {
     "name": "stderr",
     "output_type": "stream",
     "text": [
      "IOPub message rate exceeded.\n",
      "The notebook server will temporarily stop sending output\n",
      "to the client in order to avoid crashing it.\n",
      "To change this limit, set the config variable\n",
      "`--NotebookApp.iopub_msg_rate_limit`.\n",
      "\n",
      "Current values:\n",
      "NotebookApp.iopub_msg_rate_limit=1000.0 (msgs/sec)\n",
      "NotebookApp.rate_limit_window=3.0 (secs)\n",
      "\n"
     ]
    },
    {
     "name": "stdout",
     "output_type": "stream",
     "text": [
      " (58.52%) [=============================>                     ]============================>                      ]============================>                      ]============================>                      ]============================>                      ]=============================>                     ]=============================>                     ]=============================>                     ]=============================>                     ]=============================>                     ]=============================>                     ]=============================>                     ]=============================>                     ]=============================>                     ]=============================>                     ]=============================>                     ]=============================>                     ]=============================>                     ]=============================>                     ]=============================>                     ]=============================>                     ]=============================>                     ]=============================>                     ]=============================>                     ]=============================>                     ]=============================>                     ]=============================>                     ]=============================>                     ]\r"
     ]
    },
    {
     "name": "stderr",
     "output_type": "stream",
     "text": [
      "IOPub message rate exceeded.\n",
      "The notebook server will temporarily stop sending output\n",
      "to the client in order to avoid crashing it.\n",
      "To change this limit, set the config variable\n",
      "`--NotebookApp.iopub_msg_rate_limit`.\n",
      "\n",
      "Current values:\n",
      "NotebookApp.iopub_msg_rate_limit=1000.0 (msgs/sec)\n",
      "NotebookApp.rate_limit_window=3.0 (secs)\n",
      "\n"
     ]
    },
    {
     "name": "stdout",
     "output_type": "stream",
     "text": [
      " (59.40%) [=============================>                     ]=============================>                     ]=============================>                     ]=============================>                     ]=============================>                     ]=============================>                     ]=============================>                     ]=============================>                     ]=============================>                     ]=============================>                     ]=============================>                     ]=============================>                     ]=============================>                     ]=============================>                     ]=============================>                     ]=============================>                     ]=============================>                     ]=============================>                     ]=============================>                     ]=============================>                     ]=============================>                     ]=============================>                     ]=============================>                     ]=============================>                     ]=============================>                     ]=============================>                     ]=============================>                     ]\r"
     ]
    },
    {
     "name": "stderr",
     "output_type": "stream",
     "text": [
      "IOPub message rate exceeded.\n",
      "The notebook server will temporarily stop sending output\n",
      "to the client in order to avoid crashing it.\n",
      "To change this limit, set the config variable\n",
      "`--NotebookApp.iopub_msg_rate_limit`.\n",
      "\n",
      "Current values:\n",
      "NotebookApp.iopub_msg_rate_limit=1000.0 (msgs/sec)\n",
      "NotebookApp.rate_limit_window=3.0 (secs)\n",
      "\n"
     ]
    },
    {
     "name": "stdout",
     "output_type": "stream",
     "text": [
      " (60.29%) [==============================>                    ]=============================>                     ]=============================>                     ]=============================>                     ]=============================>                     ]=============================>                     ]=============================>                     ]=============================>                     ]=============================>                     ]=============================>                     ]=============================>                     ]=============================>                     ]=============================>                     ]=============================>                     ]=============================>                     ]==============================>                    ]==============================>                    ]==============================>                    ]==============================>                    ]==============================>                    ]==============================>                    ]==============================>                    ]==============================>                    ]==============================>                    ]==============================>                    ]==============================>                    ]==============================>                    ]==============================>                    ]==============================>                    ]==============================>                    ]\r"
     ]
    },
    {
     "name": "stderr",
     "output_type": "stream",
     "text": [
      "IOPub message rate exceeded.\n",
      "The notebook server will temporarily stop sending output\n",
      "to the client in order to avoid crashing it.\n",
      "To change this limit, set the config variable\n",
      "`--NotebookApp.iopub_msg_rate_limit`.\n",
      "\n",
      "Current values:\n",
      "NotebookApp.iopub_msg_rate_limit=1000.0 (msgs/sec)\n",
      "NotebookApp.rate_limit_window=3.0 (secs)\n",
      "\n"
     ]
    },
    {
     "name": "stdout",
     "output_type": "stream",
     "text": [
      " (61.08%) [==============================>                    ]==============================>                    ]==============================>                    ]==============================>                    ]==============================>                    ]==============================>                    ]==============================>                    ]==============================>                    ]==============================>                    ]==============================>                    ]==============================>                    ]==============================>                    ]==============================>                    ]==============================>                    ]==============================>                    ]==============================>                    ]==============================>                    ]==============================>                    ]==============================>                    ]==============================>                    ]==============================>                    ]==============================>                    ]==============================>                    ]==============================>                    ]\r"
     ]
    },
    {
     "name": "stderr",
     "output_type": "stream",
     "text": [
      "IOPub message rate exceeded.\n",
      "The notebook server will temporarily stop sending output\n",
      "to the client in order to avoid crashing it.\n",
      "To change this limit, set the config variable\n",
      "`--NotebookApp.iopub_msg_rate_limit`.\n",
      "\n",
      "Current values:\n",
      "NotebookApp.iopub_msg_rate_limit=1000.0 (msgs/sec)\n",
      "NotebookApp.rate_limit_window=3.0 (secs)\n",
      "\n"
     ]
    },
    {
     "name": "stdout",
     "output_type": "stream",
     "text": [
      " (62.07%) [===============================>                   ]==============================>                    ]==============================>                    ]==============================>                    ]==============================>                    ]==============================>                    ]==============================>                    ]==============================>                    ]==============================>                    ]==============================>                    ]==============================>                    ]==============================>                    ]==============================>                    ]==============================>                    ]==============================>                    ]==============================>                    ]==============================>                    ]==============================>                    ]==============================>                    ]==============================>                    ]==============================>                    ]==============================>                    ]==============================>                    ]==============================>                    ]==============================>                    ]==============================>                    ]==============================>                    ]==============================>                    ]==============================>                    ]==============================>                    ]==============================>                    ]==============================>                    ]==============================>                    ]==============================>                    ]\r"
     ]
    },
    {
     "name": "stderr",
     "output_type": "stream",
     "text": [
      "IOPub message rate exceeded.\n",
      "The notebook server will temporarily stop sending output\n",
      "to the client in order to avoid crashing it.\n",
      "To change this limit, set the config variable\n",
      "`--NotebookApp.iopub_msg_rate_limit`.\n",
      "\n",
      "Current values:\n",
      "NotebookApp.iopub_msg_rate_limit=1000.0 (msgs/sec)\n",
      "NotebookApp.rate_limit_window=3.0 (secs)\n",
      "\n"
     ]
    },
    {
     "name": "stdout",
     "output_type": "stream",
     "text": [
      " (62.93%) [===============================>                   ]===============================>                   ]===============================>                   ]===============================>                   ]===============================>                   ]===============================>                   ]===============================>                   ]===============================>                   ]===============================>                   ]===============================>                   ]===============================>                   ]===============================>                   ]===============================>                   ]===============================>                   ]===============================>                   ]===============================>                   ]===============================>                   ]===============================>                   ]===============================>                   ]===============================>                   ]===============================>                   ]===============================>                   ]===============================>                   ]===============================>                   ]===============================>                   ]===============================>                   ]===============================>                   ]===============================>                   ]===============================>                   ]===============================>                   ]\r"
     ]
    },
    {
     "name": "stderr",
     "output_type": "stream",
     "text": [
      "IOPub message rate exceeded.\n",
      "The notebook server will temporarily stop sending output\n",
      "to the client in order to avoid crashing it.\n",
      "To change this limit, set the config variable\n",
      "`--NotebookApp.iopub_msg_rate_limit`.\n",
      "\n",
      "Current values:\n",
      "NotebookApp.iopub_msg_rate_limit=1000.0 (msgs/sec)\n",
      "NotebookApp.rate_limit_window=3.0 (secs)\n",
      "\n"
     ]
    },
    {
     "name": "stdout",
     "output_type": "stream",
     "text": [
      " (63.99%) [===============================>                   ]===============================>                   ]===============================>                   ]===============================>                   ]===============================>                   ]===============================>                   ]===============================>                   ]===============================>                   ]===============================>                   ]===============================>                   ]===============================>                   ]===============================>                   ]===============================>                   ]===============================>                   ]===============================>                   ]===============================>                   ]===============================>                   ]===============================>                   ]===============================>                   ]===============================>                   ]===============================>                   ]===============================>                   ]===============================>                   ]===============================>                   ]===============================>                   ]===============================>                   ]===============================>                   ]===============================>                   ]===============================>                   ]\r"
     ]
    },
    {
     "name": "stderr",
     "output_type": "stream",
     "text": [
      "IOPub message rate exceeded.\n",
      "The notebook server will temporarily stop sending output\n",
      "to the client in order to avoid crashing it.\n",
      "To change this limit, set the config variable\n",
      "`--NotebookApp.iopub_msg_rate_limit`.\n",
      "\n",
      "Current values:\n",
      "NotebookApp.iopub_msg_rate_limit=1000.0 (msgs/sec)\n",
      "NotebookApp.rate_limit_window=3.0 (secs)\n",
      "\n"
     ]
    },
    {
     "name": "stdout",
     "output_type": "stream",
     "text": [
      " (64.83%) [================================>                  ]================================>                  ]================================>                  ]================================>                  ]================================>                  ]================================>                  ]================================>                  ]================================>                  ]================================>                  ]================================>                  ]================================>                  ]================================>                  ]================================>                  ]================================>                  ]================================>                  ]================================>                  ]================================>                  ]================================>                  ]================================>                  ]================================>                  ]================================>                  ]\r"
     ]
    },
    {
     "name": "stderr",
     "output_type": "stream",
     "text": [
      "IOPub message rate exceeded.\n",
      "The notebook server will temporarily stop sending output\n",
      "to the client in order to avoid crashing it.\n",
      "To change this limit, set the config variable\n",
      "`--NotebookApp.iopub_msg_rate_limit`.\n",
      "\n",
      "Current values:\n",
      "NotebookApp.iopub_msg_rate_limit=1000.0 (msgs/sec)\n",
      "NotebookApp.rate_limit_window=3.0 (secs)\n",
      "\n"
     ]
    },
    {
     "name": "stdout",
     "output_type": "stream",
     "text": [
      " (65.73%) [================================>                  ]================================>                  ]================================>                  ]================================>                  ]================================>                  ]================================>                  ]================================>                  ]================================>                  ]================================>                  ]================================>                  ]================================>                  ]================================>                  ]================================>                  ]================================>                  ]================================>                  ]================================>                  ]================================>                  ]================================>                  ]================================>                  ]================================>                  ]================================>                  ]================================>                  ]================================>                  ]================================>                  ]================================>                  ]================================>                  ]================================>                  ]================================>                  ]================================>                  ]================================>                  ]\r"
     ]
    },
    {
     "name": "stderr",
     "output_type": "stream",
     "text": [
      "IOPub message rate exceeded.\n",
      "The notebook server will temporarily stop sending output\n",
      "to the client in order to avoid crashing it.\n",
      "To change this limit, set the config variable\n",
      "`--NotebookApp.iopub_msg_rate_limit`.\n",
      "\n",
      "Current values:\n",
      "NotebookApp.iopub_msg_rate_limit=1000.0 (msgs/sec)\n",
      "NotebookApp.rate_limit_window=3.0 (secs)\n",
      "\n"
     ]
    },
    {
     "name": "stdout",
     "output_type": "stream",
     "text": [
      " (66.67%) [=================================>                 ]================================>                  ]=================================>                 ]=================================>                 ]=================================>                 ]=================================>                 ]=================================>                 ]=================================>                 ]=================================>                 ]=================================>                 ]=================================>                 ]=================================>                 ]=================================>                 ]=================================>                 ]=================================>                 ]=================================>                 ]=================================>                 ]=================================>                 ]=================================>                 ]=================================>                 ]=================================>                 ]=================================>                 ]=================================>                 ]=================================>                 ]=================================>                 ]=================================>                 ]=================================>                 ]=================================>                 ]=================================>                 ]=================================>                 ]=================================>                 ]=================================>                 ]=================================>                 ]=================================>                 ]=================================>                 ]=================================>                 ]=================================>                 ]=================================>                 ]=================================>                 ]\r"
     ]
    },
    {
     "name": "stderr",
     "output_type": "stream",
     "text": [
      "IOPub message rate exceeded.\n",
      "The notebook server will temporarily stop sending output\n",
      "to the client in order to avoid crashing it.\n",
      "To change this limit, set the config variable\n",
      "`--NotebookApp.iopub_msg_rate_limit`.\n",
      "\n",
      "Current values:\n",
      "NotebookApp.iopub_msg_rate_limit=1000.0 (msgs/sec)\n",
      "NotebookApp.rate_limit_window=3.0 (secs)\n",
      "\n"
     ]
    },
    {
     "name": "stdout",
     "output_type": "stream",
     "text": [
      " (67.48%) [=================================>                 ]=================================>                 ]=================================>                 ]=================================>                 ]=================================>                 ]=================================>                 ]=================================>                 ]=================================>                 ]=================================>                 ]=================================>                 ]=================================>                 ]=================================>                 ]=================================>                 ]=================================>                 ]=================================>                 ]=================================>                 ]=================================>                 ]=================================>                 ]=================================>                 ]=================================>                 ]=================================>                 ]=================================>                 ]=================================>                 ]=================================>                 ]=================================>                 ]\r"
     ]
    },
    {
     "name": "stderr",
     "output_type": "stream",
     "text": [
      "IOPub message rate exceeded.\n",
      "The notebook server will temporarily stop sending output\n",
      "to the client in order to avoid crashing it.\n",
      "To change this limit, set the config variable\n",
      "`--NotebookApp.iopub_msg_rate_limit`.\n",
      "\n",
      "Current values:\n",
      "NotebookApp.iopub_msg_rate_limit=1000.0 (msgs/sec)\n",
      "NotebookApp.rate_limit_window=3.0 (secs)\n",
      "\n"
     ]
    },
    {
     "name": "stdout",
     "output_type": "stream",
     "text": [
      " (68.41%) [==================================>                ]=================================>                 ]=================================>                 ]=================================>                 ]=================================>                 ]=================================>                 ]=================================>                 ]=================================>                 ]=================================>                 ]=================================>                 ]=================================>                 ]=================================>                 ]=================================>                 ]=================================>                 ]=================================>                 ]==================================>                ]==================================>                ]==================================>                ]==================================>                ]==================================>                ]==================================>                ]==================================>                ]==================================>                ]==================================>                ]==================================>                ]==================================>                ]==================================>                ]==================================>                ]==================================>                ]==================================>                ]\r"
     ]
    },
    {
     "name": "stderr",
     "output_type": "stream",
     "text": [
      "IOPub message rate exceeded.\n",
      "The notebook server will temporarily stop sending output\n",
      "to the client in order to avoid crashing it.\n",
      "To change this limit, set the config variable\n",
      "`--NotebookApp.iopub_msg_rate_limit`.\n",
      "\n",
      "Current values:\n",
      "NotebookApp.iopub_msg_rate_limit=1000.0 (msgs/sec)\n",
      "NotebookApp.rate_limit_window=3.0 (secs)\n",
      "\n"
     ]
    },
    {
     "name": "stdout",
     "output_type": "stream",
     "text": [
      " (69.21%) [==================================>                ]==================================>                ]==================================>                ]==================================>                ]==================================>                ]==================================>                ]==================================>                ]==================================>                ]==================================>                ]==================================>                ]==================================>                ]==================================>                ]==================================>                ]==================================>                ]==================================>                ]==================================>                ]==================================>                ]==================================>                ]==================================>                ]==================================>                ]==================================>                ]==================================>                ]==================================>                ]\r"
     ]
    },
    {
     "name": "stderr",
     "output_type": "stream",
     "text": [
      "IOPub message rate exceeded.\n",
      "The notebook server will temporarily stop sending output\n",
      "to the client in order to avoid crashing it.\n",
      "To change this limit, set the config variable\n",
      "`--NotebookApp.iopub_msg_rate_limit`.\n",
      "\n",
      "Current values:\n",
      "NotebookApp.iopub_msg_rate_limit=1000.0 (msgs/sec)\n",
      "NotebookApp.rate_limit_window=3.0 (secs)\n",
      "\n"
     ]
    },
    {
     "name": "stdout",
     "output_type": "stream",
     "text": [
      " (70.14%) [===================================>               ]==================================>                ]==================================>                ]==================================>                ]==================================>                ]==================================>                ]==================================>                ]==================================>                ]==================================>                ]==================================>                ]==================================>                ]==================================>                ]==================================>                ]==================================>                ]==================================>                ]==================================>                ]==================================>                ]==================================>                ]==================================>                ]==================================>                ]==================================>                ]==================================>                ]===================================>               ]===================================>               ]===================================>               ]===================================>               ]===================================>               ]\r"
     ]
    },
    {
     "name": "stderr",
     "output_type": "stream",
     "text": [
      "IOPub message rate exceeded.\n",
      "The notebook server will temporarily stop sending output\n",
      "to the client in order to avoid crashing it.\n",
      "To change this limit, set the config variable\n",
      "`--NotebookApp.iopub_msg_rate_limit`.\n",
      "\n",
      "Current values:\n",
      "NotebookApp.iopub_msg_rate_limit=1000.0 (msgs/sec)\n",
      "NotebookApp.rate_limit_window=3.0 (secs)\n",
      "\n"
     ]
    },
    {
     "name": "stdout",
     "output_type": "stream",
     "text": [
      " (70.93%) [===================================>               ]===================================>               ]===================================>               ]===================================>               ]===================================>               ]===================================>               ]===================================>               ]===================================>               ]===================================>               ]===================================>               ]===================================>               ]===================================>               ]===================================>               ]===================================>               ]===================================>               ]===================================>               ]===================================>               ]===================================>               ]===================================>               ]===================================>               ]===================================>               ]===================================>               ]===================================>               ]===================================>               ]===================================>               ]===================================>               ]===================================>               ]===================================>               ]===================================>               ]===================================>               ]===================================>               ]\r"
     ]
    },
    {
     "name": "stderr",
     "output_type": "stream",
     "text": [
      "IOPub message rate exceeded.\n",
      "The notebook server will temporarily stop sending output\n",
      "to the client in order to avoid crashing it.\n",
      "To change this limit, set the config variable\n",
      "`--NotebookApp.iopub_msg_rate_limit`.\n",
      "\n",
      "Current values:\n",
      "NotebookApp.iopub_msg_rate_limit=1000.0 (msgs/sec)\n",
      "NotebookApp.rate_limit_window=3.0 (secs)\n",
      "\n"
     ]
    },
    {
     "name": "stdout",
     "output_type": "stream",
     "text": [
      " (71.96%) [===================================>               ]===================================>               ]===================================>               ]===================================>               ]===================================>               ]===================================>               ]===================================>               ]===================================>               ]===================================>               ]===================================>               ]===================================>               ]===================================>               ]===================================>               ]===================================>               ]===================================>               ]===================================>               ]===================================>               ]===================================>               ]===================================>               ]===================================>               ]===================================>               ]===================================>               ]===================================>               ]===================================>               ]===================================>               ]===================================>               ]===================================>               ]===================================>               ]===================================>               ]===================================>               ]===================================>               ]===================================>               ]===================================>               ]===================================>               ]===================================>               ]===================================>               ]===================================>               ]\r"
     ]
    },
    {
     "name": "stderr",
     "output_type": "stream",
     "text": [
      "IOPub message rate exceeded.\n",
      "The notebook server will temporarily stop sending output\n",
      "to the client in order to avoid crashing it.\n",
      "To change this limit, set the config variable\n",
      "`--NotebookApp.iopub_msg_rate_limit`.\n",
      "\n",
      "Current values:\n",
      "NotebookApp.iopub_msg_rate_limit=1000.0 (msgs/sec)\n",
      "NotebookApp.rate_limit_window=3.0 (secs)\n",
      "\n"
     ]
    },
    {
     "name": "stdout",
     "output_type": "stream",
     "text": [
      " (72.89%) [====================================>              ]====================================>              ]====================================>              ]====================================>              ]====================================>              ]====================================>              ]====================================>              ]====================================>              ]====================================>              ]====================================>              ]====================================>              ]====================================>              ]====================================>              ]====================================>              ]====================================>              ]====================================>              ]====================================>              ]====================================>              ]====================================>              ]====================================>              ]====================================>              ]====================================>              ]====================================>              ]====================================>              ]====================================>              ]====================================>              ]====================================>              ]====================================>              ]====================================>              ]====================================>              ]\r"
     ]
    },
    {
     "name": "stderr",
     "output_type": "stream",
     "text": [
      "IOPub message rate exceeded.\n",
      "The notebook server will temporarily stop sending output\n",
      "to the client in order to avoid crashing it.\n",
      "To change this limit, set the config variable\n",
      "`--NotebookApp.iopub_msg_rate_limit`.\n",
      "\n",
      "Current values:\n",
      "NotebookApp.iopub_msg_rate_limit=1000.0 (msgs/sec)\n",
      "NotebookApp.rate_limit_window=3.0 (secs)\n",
      "\n"
     ]
    },
    {
     "name": "stdout",
     "output_type": "stream",
     "text": [
      " (73.92%) [====================================>              ]====================================>              ]====================================>              ]====================================>              ]====================================>              ]====================================>              ]====================================>              ]====================================>              ]====================================>              ]====================================>              ]====================================>              ]====================================>              ]====================================>              ]====================================>              ]====================================>              ]====================================>              ]====================================>              ]====================================>              ]====================================>              ]====================================>              ]====================================>              ]====================================>              ]\r"
     ]
    },
    {
     "name": "stderr",
     "output_type": "stream",
     "text": [
      "IOPub message rate exceeded.\n",
      "The notebook server will temporarily stop sending output\n",
      "to the client in order to avoid crashing it.\n",
      "To change this limit, set the config variable\n",
      "`--NotebookApp.iopub_msg_rate_limit`.\n",
      "\n",
      "Current values:\n",
      "NotebookApp.iopub_msg_rate_limit=1000.0 (msgs/sec)\n",
      "NotebookApp.rate_limit_window=3.0 (secs)\n",
      "\n"
     ]
    },
    {
     "name": "stdout",
     "output_type": "stream",
     "text": [
      " (74.89%) [=====================================>             ]=====================================>             ]=====================================>             ]=====================================>             ]=====================================>             ]=====================================>             ]=====================================>             ]=====================================>             ]=====================================>             ]=====================================>             ]=====================================>             ]=====================================>             ]=====================================>             ]=====================================>             ]=====================================>             ]=====================================>             ]=====================================>             ]=====================================>             ]=====================================>             ]=====================================>             ]=====================================>             ]=====================================>             ]=====================================>             ]=====================================>             ]=====================================>             ]=====================================>             ]=====================================>             ]=====================================>             ]=====================================>             ]=====================================>             ]=====================================>             ]=====================================>             ]=====================================>             ]=====================================>             ]=====================================>             ]=====================================>             ]\r"
     ]
    },
    {
     "name": "stderr",
     "output_type": "stream",
     "text": [
      "IOPub message rate exceeded.\n",
      "The notebook server will temporarily stop sending output\n",
      "to the client in order to avoid crashing it.\n",
      "To change this limit, set the config variable\n",
      "`--NotebookApp.iopub_msg_rate_limit`.\n",
      "\n",
      "Current values:\n",
      "NotebookApp.iopub_msg_rate_limit=1000.0 (msgs/sec)\n",
      "NotebookApp.rate_limit_window=3.0 (secs)\n",
      "\n"
     ]
    },
    {
     "name": "stdout",
     "output_type": "stream",
     "text": [
      " (75.75%) [=====================================>             ]=====================================>             ]=====================================>             ]=====================================>             ]=====================================>             ]=====================================>             ]=====================================>             ]=====================================>             ]=====================================>             ]=====================================>             ]=====================================>             ]=====================================>             ]=====================================>             ]=====================================>             ]=====================================>             ]=====================================>             ]=====================================>             ]=====================================>             ]=====================================>             ]=====================================>             ]=====================================>             ]=====================================>             ]=====================================>             ]=====================================>             ]=====================================>             ]=====================================>             ]=====================================>             ]=====================================>             ]=====================================>             ]=====================================>             ]=====================================>             ]=====================================>             ]=====================================>             ]=====================================>             ]=====================================>             ]\r"
     ]
    },
    {
     "name": "stderr",
     "output_type": "stream",
     "text": [
      "IOPub message rate exceeded.\n",
      "The notebook server will temporarily stop sending output\n",
      "to the client in order to avoid crashing it.\n",
      "To change this limit, set the config variable\n",
      "`--NotebookApp.iopub_msg_rate_limit`.\n",
      "\n",
      "Current values:\n",
      "NotebookApp.iopub_msg_rate_limit=1000.0 (msgs/sec)\n",
      "NotebookApp.rate_limit_window=3.0 (secs)\n",
      "\n"
     ]
    },
    {
     "name": "stdout",
     "output_type": "stream",
     "text": [
      " (76.67%) [======================================>            ]======================================>            ]======================================>            ]======================================>            ]======================================>            ]======================================>            ]======================================>            ]======================================>            ]======================================>            ]======================================>            ]======================================>            ]======================================>            ]======================================>            ]======================================>            ]======================================>            ]======================================>            ]======================================>            ]======================================>            ]======================================>            ]======================================>            ]======================================>            ]======================================>            ]======================================>            ]======================================>            ]======================================>            ]======================================>            ]======================================>            ]======================================>            ]======================================>            ]======================================>            ]======================================>            ]======================================>            ]======================================>            ]======================================>            ]======================================>            ]======================================>            ]======================================>            ]======================================>            ]\r"
     ]
    },
    {
     "name": "stderr",
     "output_type": "stream",
     "text": [
      "IOPub message rate exceeded.\n",
      "The notebook server will temporarily stop sending output\n",
      "to the client in order to avoid crashing it.\n",
      "To change this limit, set the config variable\n",
      "`--NotebookApp.iopub_msg_rate_limit`.\n",
      "\n",
      "Current values:\n",
      "NotebookApp.iopub_msg_rate_limit=1000.0 (msgs/sec)\n",
      "NotebookApp.rate_limit_window=3.0 (secs)\n",
      "\n"
     ]
    },
    {
     "name": "stdout",
     "output_type": "stream",
     "text": [
      " (77.52%) [======================================>            ]======================================>            ]======================================>            ]======================================>            ]======================================>            ]======================================>            ]======================================>            ]======================================>            ]======================================>            ]======================================>            ]======================================>            ]======================================>            ]======================================>            ]======================================>            ]======================================>            ]======================================>            ]======================================>            ]======================================>            ]======================================>            ]======================================>            ]======================================>            ]======================================>            ]======================================>            ]======================================>            ]======================================>            ]======================================>            ]======================================>            ]======================================>            ]======================================>            ]======================================>            ]======================================>            ]\r"
     ]
    },
    {
     "name": "stderr",
     "output_type": "stream",
     "text": [
      "IOPub message rate exceeded.\n",
      "The notebook server will temporarily stop sending output\n",
      "to the client in order to avoid crashing it.\n",
      "To change this limit, set the config variable\n",
      "`--NotebookApp.iopub_msg_rate_limit`.\n",
      "\n",
      "Current values:\n",
      "NotebookApp.iopub_msg_rate_limit=1000.0 (msgs/sec)\n",
      "NotebookApp.rate_limit_window=3.0 (secs)\n",
      "\n"
     ]
    },
    {
     "name": "stdout",
     "output_type": "stream",
     "text": [
      " (78.39%) [=======================================>           ]======================================>            ]======================================>            ]======================================>            ]======================================>            ]======================================>            ]======================================>            ]======================================>            ]======================================>            ]=======================================>           ]=======================================>           ]=======================================>           ]=======================================>           ]=======================================>           ]=======================================>           ]=======================================>           ]=======================================>           ]=======================================>           ]=======================================>           ]=======================================>           ]=======================================>           ]=======================================>           ]=======================================>           ]=======================================>           ]=======================================>           ]=======================================>           ]=======================================>           ]=======================================>           ]=======================================>           ]=======================================>           ]\r"
     ]
    },
    {
     "name": "stderr",
     "output_type": "stream",
     "text": [
      "IOPub message rate exceeded.\n",
      "The notebook server will temporarily stop sending output\n",
      "to the client in order to avoid crashing it.\n",
      "To change this limit, set the config variable\n",
      "`--NotebookApp.iopub_msg_rate_limit`.\n",
      "\n",
      "Current values:\n",
      "NotebookApp.iopub_msg_rate_limit=1000.0 (msgs/sec)\n",
      "NotebookApp.rate_limit_window=3.0 (secs)\n",
      "\n"
     ]
    },
    {
     "name": "stdout",
     "output_type": "stream",
     "text": [
      " (79.30%) [=======================================>           ]=======================================>           ]=======================================>           ]=======================================>           ]=======================================>           ]=======================================>           ]=======================================>           ]=======================================>           ]=======================================>           ]=======================================>           ]=======================================>           ]=======================================>           ]=======================================>           ]=======================================>           ]=======================================>           ]=======================================>           ]=======================================>           ]=======================================>           ]=======================================>           ]=======================================>           ]=======================================>           ]=======================================>           ]=======================================>           ]=======================================>           ]=======================================>           ]=======================================>           ]=======================================>           ]=======================================>           ]=======================================>           ]=======================================>           ]=======================================>           ]=======================================>           ]=======================================>           ]\r"
     ]
    },
    {
     "name": "stderr",
     "output_type": "stream",
     "text": [
      "IOPub message rate exceeded.\n",
      "The notebook server will temporarily stop sending output\n",
      "to the client in order to avoid crashing it.\n",
      "To change this limit, set the config variable\n",
      "`--NotebookApp.iopub_msg_rate_limit`.\n",
      "\n",
      "Current values:\n",
      "NotebookApp.iopub_msg_rate_limit=1000.0 (msgs/sec)\n",
      "NotebookApp.rate_limit_window=3.0 (secs)\n",
      "\n"
     ]
    },
    {
     "name": "stdout",
     "output_type": "stream",
     "text": [
      " (80.11%) [========================================>          ]=======================================>           ]=======================================>           ]=======================================>           ]=======================================>           ]=======================================>           ]=======================================>           ]=======================================>           ]=======================================>           ]=======================================>           ]=======================================>           ]=======================================>           ]=======================================>           ]=======================================>           ]=======================================>           ]=======================================>           ]=======================================>           ]=======================================>           ]=======================================>           ]=======================================>           ]=======================================>           ]=======================================>           ]=======================================>           ]=======================================>           ]=======================================>           ]=======================================>           ]=======================================>           ]=======================================>           ]========================================>          ]========================================>          ]========================================>          ]========================================>          ]========================================>          ]========================================>          ]========================================>          ]========================================>          ]\r"
     ]
    },
    {
     "name": "stderr",
     "output_type": "stream",
     "text": [
      "IOPub message rate exceeded.\n",
      "The notebook server will temporarily stop sending output\n",
      "to the client in order to avoid crashing it.\n",
      "To change this limit, set the config variable\n",
      "`--NotebookApp.iopub_msg_rate_limit`.\n",
      "\n",
      "Current values:\n",
      "NotebookApp.iopub_msg_rate_limit=1000.0 (msgs/sec)\n",
      "NotebookApp.rate_limit_window=3.0 (secs)\n",
      "\n"
     ]
    },
    {
     "name": "stdout",
     "output_type": "stream",
     "text": [
      " (81.05%) [========================================>          ]========================================>          ]========================================>          ]========================================>          ]========================================>          ]========================================>          ]========================================>          ]========================================>          ]========================================>          ]========================================>          ]========================================>          ]========================================>          ]========================================>          ]========================================>          ]========================================>          ]========================================>          ]========================================>          ]========================================>          ]========================================>          ]========================================>          ]========================================>          ]========================================>          ]========================================>          ]========================================>          ]========================================>          ]========================================>          ]========================================>          ]========================================>          ]========================================>          ]========================================>          ]\r"
     ]
    },
    {
     "name": "stderr",
     "output_type": "stream",
     "text": [
      "IOPub message rate exceeded.\n",
      "The notebook server will temporarily stop sending output\n",
      "to the client in order to avoid crashing it.\n",
      "To change this limit, set the config variable\n",
      "`--NotebookApp.iopub_msg_rate_limit`.\n",
      "\n",
      "Current values:\n",
      "NotebookApp.iopub_msg_rate_limit=1000.0 (msgs/sec)\n",
      "NotebookApp.rate_limit_window=3.0 (secs)\n",
      "\n"
     ]
    },
    {
     "name": "stdout",
     "output_type": "stream",
     "text": [
      " (81.95%) [========================================>          ]========================================>          ]========================================>          ]========================================>          ]========================================>          ]========================================>          ]========================================>          ]========================================>          ]========================================>          ]========================================>          ]========================================>          ]========================================>          ]========================================>          ]========================================>          ]========================================>          ]========================================>          ]========================================>          ]========================================>          ]========================================>          ]========================================>          ]========================================>          ]========================================>          ]========================================>          ]========================================>          ]========================================>          ]========================================>          ]========================================>          ]========================================>          ]========================================>          ]========================================>          ]\r"
     ]
    },
    {
     "name": "stderr",
     "output_type": "stream",
     "text": [
      "IOPub message rate exceeded.\n",
      "The notebook server will temporarily stop sending output\n",
      "to the client in order to avoid crashing it.\n",
      "To change this limit, set the config variable\n",
      "`--NotebookApp.iopub_msg_rate_limit`.\n",
      "\n",
      "Current values:\n",
      "NotebookApp.iopub_msg_rate_limit=1000.0 (msgs/sec)\n",
      "NotebookApp.rate_limit_window=3.0 (secs)\n",
      "\n"
     ]
    },
    {
     "name": "stdout",
     "output_type": "stream",
     "text": [
      " (82.79%) [=========================================>         ]=========================================>         ]=========================================>         ]=========================================>         ]=========================================>         ]=========================================>         ]=========================================>         ]=========================================>         ]=========================================>         ]=========================================>         ]=========================================>         ]=========================================>         ]=========================================>         ]=========================================>         ]=========================================>         ]=========================================>         ]=========================================>         ]=========================================>         ]=========================================>         ]=========================================>         ]=========================================>         ]=========================================>         ]=========================================>         ]=========================================>         ]=========================================>         ]=========================================>         ]=========================================>         ]=========================================>         ]=========================================>         ]=========================================>         ]=========================================>         ]=========================================>         ]=========================================>         ]=========================================>         ]=========================================>         ]=========================================>         ]=========================================>         ]\r"
     ]
    },
    {
     "name": "stderr",
     "output_type": "stream",
     "text": [
      "IOPub message rate exceeded.\n",
      "The notebook server will temporarily stop sending output\n",
      "to the client in order to avoid crashing it.\n",
      "To change this limit, set the config variable\n",
      "`--NotebookApp.iopub_msg_rate_limit`.\n",
      "\n",
      "Current values:\n",
      "NotebookApp.iopub_msg_rate_limit=1000.0 (msgs/sec)\n",
      "NotebookApp.rate_limit_window=3.0 (secs)\n",
      "\n"
     ]
    },
    {
     "name": "stdout",
     "output_type": "stream",
     "text": [
      " (83.73%) [=========================================>         ]=========================================>         ]=========================================>         ]=========================================>         ]=========================================>         ]=========================================>         ]=========================================>         ]=========================================>         ]=========================================>         ]=========================================>         ]=========================================>         ]=========================================>         ]=========================================>         ]=========================================>         ]=========================================>         ]=========================================>         ]=========================================>         ]=========================================>         ]=========================================>         ]=========================================>         ]=========================================>         ]=========================================>         ]=========================================>         ]=========================================>         ]=========================================>         ]=========================================>         ]=========================================>         ]=========================================>         ]=========================================>         ]=========================================>         ]=========================================>         ]=========================================>         ]=========================================>         ]=========================================>         ]=========================================>         ]=========================================>         ]=========================================>         ]=========================================>         ]=========================================>         ]=========================================>         ]\r"
     ]
    },
    {
     "name": "stderr",
     "output_type": "stream",
     "text": [
      "IOPub message rate exceeded.\n",
      "The notebook server will temporarily stop sending output\n",
      "to the client in order to avoid crashing it.\n",
      "To change this limit, set the config variable\n",
      "`--NotebookApp.iopub_msg_rate_limit`.\n",
      "\n",
      "Current values:\n",
      "NotebookApp.iopub_msg_rate_limit=1000.0 (msgs/sec)\n",
      "NotebookApp.rate_limit_window=3.0 (secs)\n",
      "\n"
     ]
    },
    {
     "name": "stdout",
     "output_type": "stream",
     "text": [
      " (84.57%) [==========================================>        ]==========================================>        ]==========================================>        ]==========================================>        ]==========================================>        ]==========================================>        ]==========================================>        ]==========================================>        ]==========================================>        ]==========================================>        ]==========================================>        ]==========================================>        ]==========================================>        ]==========================================>        ]==========================================>        ]==========================================>        ]==========================================>        ]==========================================>        ]==========================================>        ]==========================================>        ]==========================================>        ]==========================================>        ]==========================================>        ]==========================================>        ]==========================================>        ]==========================================>        ]==========================================>        ]==========================================>        ]==========================================>        ]==========================================>        ]==========================================>        ]==========================================>        ]==========================================>        ]==========================================>        ]==========================================>        ]==========================================>        ]\r"
     ]
    },
    {
     "name": "stderr",
     "output_type": "stream",
     "text": [
      "IOPub message rate exceeded.\n",
      "The notebook server will temporarily stop sending output\n",
      "to the client in order to avoid crashing it.\n",
      "To change this limit, set the config variable\n",
      "`--NotebookApp.iopub_msg_rate_limit`.\n",
      "\n",
      "Current values:\n",
      "NotebookApp.iopub_msg_rate_limit=1000.0 (msgs/sec)\n",
      "NotebookApp.rate_limit_window=3.0 (secs)\n",
      "\n"
     ]
    },
    {
     "name": "stdout",
     "output_type": "stream",
     "text": [
      " (85.43%) [==========================================>        ]==========================================>        ]==========================================>        ]==========================================>        ]==========================================>        ]==========================================>        ]==========================================>        ]==========================================>        ]==========================================>        ]==========================================>        ]==========================================>        ]==========================================>        ]==========================================>        ]==========================================>        ]==========================================>        ]==========================================>        ]==========================================>        ]==========================================>        ]==========================================>        ]==========================================>        ]==========================================>        ]==========================================>        ]==========================================>        ]==========================================>        ]==========================================>        ]==========================================>        ]==========================================>        ]==========================================>        ]==========================================>        ]==========================================>        ]==========================================>        ]==========================================>        ]==========================================>        ]==========================================>        ]==========================================>        ]==========================================>        ]==========================================>        ]==========================================>        ]==========================================>        ]==========================================>        ]==========================================>        ]==========================================>        ]\r"
     ]
    },
    {
     "name": "stderr",
     "output_type": "stream",
     "text": [
      "IOPub message rate exceeded.\n",
      "The notebook server will temporarily stop sending output\n",
      "to the client in order to avoid crashing it.\n",
      "To change this limit, set the config variable\n",
      "`--NotebookApp.iopub_msg_rate_limit`.\n",
      "\n",
      "Current values:\n",
      "NotebookApp.iopub_msg_rate_limit=1000.0 (msgs/sec)\n",
      "NotebookApp.rate_limit_window=3.0 (secs)\n",
      "\n"
     ]
    },
    {
     "name": "stdout",
     "output_type": "stream",
     "text": [
      " (86.25%) [===========================================>       ]==========================================>        ]==========================================>        ]==========================================>        ]==========================================>        ]==========================================>        ]==========================================>        ]==========================================>        ]==========================================>        ]==========================================>        ]==========================================>        ]==========================================>        ]===========================================>       ]===========================================>       ]===========================================>       ]===========================================>       ]===========================================>       ]===========================================>       ]===========================================>       ]===========================================>       ]===========================================>       ]===========================================>       ]===========================================>       ]===========================================>       ]===========================================>       ]===========================================>       ]===========================================>       ]===========================================>       ]===========================================>       ]===========================================>       ]===========================================>       ]\r"
     ]
    },
    {
     "name": "stderr",
     "output_type": "stream",
     "text": [
      "IOPub message rate exceeded.\n",
      "The notebook server will temporarily stop sending output\n",
      "to the client in order to avoid crashing it.\n",
      "To change this limit, set the config variable\n",
      "`--NotebookApp.iopub_msg_rate_limit`.\n",
      "\n",
      "Current values:\n",
      "NotebookApp.iopub_msg_rate_limit=1000.0 (msgs/sec)\n",
      "NotebookApp.rate_limit_window=3.0 (secs)\n",
      "\n"
     ]
    },
    {
     "name": "stdout",
     "output_type": "stream",
     "text": [
      " (87.15%) [===========================================>       ]===========================================>       ]===========================================>       ]===========================================>       ]===========================================>       ]===========================================>       ]===========================================>       ]===========================================>       ]===========================================>       ]===========================================>       ]===========================================>       ]===========================================>       ]===========================================>       ]===========================================>       ]===========================================>       ]===========================================>       ]===========================================>       ]===========================================>       ]===========================================>       ]===========================================>       ]===========================================>       ]===========================================>       ]===========================================>       ]===========================================>       ]===========================================>       ]===========================================>       ]===========================================>       ]===========================================>       ]\r"
     ]
    },
    {
     "name": "stderr",
     "output_type": "stream",
     "text": [
      "IOPub message rate exceeded.\n",
      "The notebook server will temporarily stop sending output\n",
      "to the client in order to avoid crashing it.\n",
      "To change this limit, set the config variable\n",
      "`--NotebookApp.iopub_msg_rate_limit`.\n",
      "\n",
      "Current values:\n",
      "NotebookApp.iopub_msg_rate_limit=1000.0 (msgs/sec)\n",
      "NotebookApp.rate_limit_window=3.0 (secs)\n",
      "\n"
     ]
    },
    {
     "name": "stdout",
     "output_type": "stream",
     "text": [
      " (88.11%) [============================================>      ]===========================================>       ]===========================================>       ]===========================================>       ]===========================================>       ]===========================================>       ]===========================================>       ]===========================================>       ]===========================================>       ]===========================================>       ]===========================================>       ]===========================================>       ]===========================================>       ]===========================================>       ]===========================================>       ]===========================================>       ]===========================================>       ]===========================================>       ]===========================================>       ]===========================================>       ]===========================================>       ]===========================================>       ]===========================================>       ]===========================================>       ]===========================================>       ]===========================================>       ]===========================================>       ]===========================================>       ]===========================================>       ]===========================================>       ]===========================================>       ]============================================>      ]============================================>      ]============================================>      ]\r"
     ]
    },
    {
     "name": "stderr",
     "output_type": "stream",
     "text": [
      "IOPub message rate exceeded.\n",
      "The notebook server will temporarily stop sending output\n",
      "to the client in order to avoid crashing it.\n",
      "To change this limit, set the config variable\n",
      "`--NotebookApp.iopub_msg_rate_limit`.\n",
      "\n",
      "Current values:\n",
      "NotebookApp.iopub_msg_rate_limit=1000.0 (msgs/sec)\n",
      "NotebookApp.rate_limit_window=3.0 (secs)\n",
      "\n"
     ]
    },
    {
     "name": "stdout",
     "output_type": "stream",
     "text": [
      " (88.94%) [============================================>      ]============================================>      ]============================================>      ]============================================>      ]============================================>      ]============================================>      ]============================================>      ]============================================>      ]============================================>      ]============================================>      ]============================================>      ]============================================>      ]============================================>      ]============================================>      ]============================================>      ]============================================>      ]============================================>      ]============================================>      ]============================================>      ]============================================>      ]============================================>      ]============================================>      ]============================================>      ]============================================>      ]============================================>      ]============================================>      ]============================================>      ]============================================>      ]============================================>      ]============================================>      ]============================================>      ]============================================>      ]============================================>      ]============================================>      ]============================================>      ]============================================>      ]============================================>      ]============================================>      ]\r"
     ]
    },
    {
     "name": "stderr",
     "output_type": "stream",
     "text": [
      "IOPub message rate exceeded.\n",
      "The notebook server will temporarily stop sending output\n",
      "to the client in order to avoid crashing it.\n",
      "To change this limit, set the config variable\n",
      "`--NotebookApp.iopub_msg_rate_limit`.\n",
      "\n",
      "Current values:\n",
      "NotebookApp.iopub_msg_rate_limit=1000.0 (msgs/sec)\n",
      "NotebookApp.rate_limit_window=3.0 (secs)\n",
      "\n"
     ]
    },
    {
     "name": "stdout",
     "output_type": "stream",
     "text": [
      " (89.79%) [============================================>      ]============================================>      ]============================================>      ]============================================>      ]============================================>      ]============================================>      ]============================================>      ]============================================>      ]============================================>      ]============================================>      ]============================================>      ]============================================>      ]============================================>      ]============================================>      ]============================================>      ]============================================>      ]============================================>      ]============================================>      ]============================================>      ]============================================>      ]============================================>      ]============================================>      ]============================================>      ]============================================>      ]============================================>      ]============================================>      ]============================================>      ]============================================>      ]============================================>      ]============================================>      ]============================================>      ]============================================>      ]\r"
     ]
    },
    {
     "name": "stderr",
     "output_type": "stream",
     "text": [
      "IOPub message rate exceeded.\n",
      "The notebook server will temporarily stop sending output\n",
      "to the client in order to avoid crashing it.\n",
      "To change this limit, set the config variable\n",
      "`--NotebookApp.iopub_msg_rate_limit`.\n",
      "\n",
      "Current values:\n",
      "NotebookApp.iopub_msg_rate_limit=1000.0 (msgs/sec)\n",
      "NotebookApp.rate_limit_window=3.0 (secs)\n",
      "\n"
     ]
    },
    {
     "name": "stdout",
     "output_type": "stream",
     "text": [
      " (90.77%) [=============================================>     ]=============================================>     ]=============================================>     ]=============================================>     ]=============================================>     ]=============================================>     ]=============================================>     ]=============================================>     ]=============================================>     ]=============================================>     ]=============================================>     ]=============================================>     ]=============================================>     ]=============================================>     ]=============================================>     ]=============================================>     ]=============================================>     ]=============================================>     ]=============================================>     ]=============================================>     ]=============================================>     ]=============================================>     ]=============================================>     ]=============================================>     ]=============================================>     ]=============================================>     ]=============================================>     ]=============================================>     ]=============================================>     ]\r"
     ]
    },
    {
     "name": "stderr",
     "output_type": "stream",
     "text": [
      "IOPub message rate exceeded.\n",
      "The notebook server will temporarily stop sending output\n",
      "to the client in order to avoid crashing it.\n",
      "To change this limit, set the config variable\n",
      "`--NotebookApp.iopub_msg_rate_limit`.\n",
      "\n",
      "Current values:\n",
      "NotebookApp.iopub_msg_rate_limit=1000.0 (msgs/sec)\n",
      "NotebookApp.rate_limit_window=3.0 (secs)\n",
      "\n"
     ]
    },
    {
     "name": "stdout",
     "output_type": "stream",
     "text": [
      " (91.59%) [=============================================>     ]=============================================>     ]=============================================>     ]=============================================>     ]=============================================>     ]=============================================>     ]=============================================>     ]=============================================>     ]=============================================>     ]=============================================>     ]=============================================>     ]=============================================>     ]=============================================>     ]=============================================>     ]=============================================>     ]=============================================>     ]=============================================>     ]=============================================>     ]=============================================>     ]=============================================>     ]=============================================>     ]=============================================>     ]=============================================>     ]=============================================>     ]=============================================>     ]=============================================>     ]=============================================>     ]=============================================>     ]=============================================>     ]=============================================>     ]=============================================>     ]=============================================>     ]=============================================>     ]=============================================>     ]\r"
     ]
    },
    {
     "name": "stderr",
     "output_type": "stream",
     "text": [
      "IOPub message rate exceeded.\n",
      "The notebook server will temporarily stop sending output\n",
      "to the client in order to avoid crashing it.\n",
      "To change this limit, set the config variable\n",
      "`--NotebookApp.iopub_msg_rate_limit`.\n",
      "\n",
      "Current values:\n",
      "NotebookApp.iopub_msg_rate_limit=1000.0 (msgs/sec)\n",
      "NotebookApp.rate_limit_window=3.0 (secs)\n",
      "\n"
     ]
    },
    {
     "name": "stdout",
     "output_type": "stream",
     "text": [
      " (92.45%) [==============================================>    ]=============================================>     ]=============================================>     ]=============================================>     ]=============================================>     ]=============================================>     ]=============================================>     ]=============================================>     ]==============================================>    ]==============================================>    ]==============================================>    ]==============================================>    ]==============================================>    ]==============================================>    ]==============================================>    ]==============================================>    ]==============================================>    ]==============================================>    ]==============================================>    ]==============================================>    ]==============================================>    ]==============================================>    ]==============================================>    ]==============================================>    ]==============================================>    ]==============================================>    ]==============================================>    ]==============================================>    ]==============================================>    ]==============================================>    ]==============================================>    ]==============================================>    ]==============================================>    ]==============================================>    ]==============================================>    ]==============================================>    ]==============================================>    ]\r"
     ]
    },
    {
     "name": "stderr",
     "output_type": "stream",
     "text": [
      "IOPub message rate exceeded.\n",
      "The notebook server will temporarily stop sending output\n",
      "to the client in order to avoid crashing it.\n",
      "To change this limit, set the config variable\n",
      "`--NotebookApp.iopub_msg_rate_limit`.\n",
      "\n",
      "Current values:\n",
      "NotebookApp.iopub_msg_rate_limit=1000.0 (msgs/sec)\n",
      "NotebookApp.rate_limit_window=3.0 (secs)\n",
      "\n"
     ]
    },
    {
     "name": "stdout",
     "output_type": "stream",
     "text": [
      " (93.35%) [==============================================>    ]==============================================>    ]==============================================>    ]==============================================>    ]==============================================>    ]==============================================>    ]==============================================>    ]==============================================>    ]==============================================>    ]==============================================>    ]==============================================>    ]==============================================>    ]==============================================>    ]==============================================>    ]==============================================>    ]==============================================>    ]==============================================>    ]==============================================>    ]==============================================>    ]==============================================>    ]==============================================>    ]==============================================>    ]==============================================>    ]==============================================>    ]==============================================>    ]==============================================>    ]==============================================>    ]==============================================>    ]==============================================>    ]==============================================>    ]==============================================>    ]==============================================>    ]==============================================>    ]==============================================>    ]\r"
     ]
    },
    {
     "name": "stderr",
     "output_type": "stream",
     "text": [
      "IOPub message rate exceeded.\n",
      "The notebook server will temporarily stop sending output\n",
      "to the client in order to avoid crashing it.\n",
      "To change this limit, set the config variable\n",
      "`--NotebookApp.iopub_msg_rate_limit`.\n",
      "\n",
      "Current values:\n",
      "NotebookApp.iopub_msg_rate_limit=1000.0 (msgs/sec)\n",
      "NotebookApp.rate_limit_window=3.0 (secs)\n",
      "\n"
     ]
    },
    {
     "name": "stdout",
     "output_type": "stream",
     "text": [
      " (94.26%) [===============================================>   ]==============================================>    ]==============================================>    ]==============================================>    ]==============================================>    ]==============================================>    ]==============================================>    ]==============================================>    ]==============================================>    ]==============================================>    ]==============================================>    ]==============================================>    ]==============================================>    ]==============================================>    ]===============================================>   ]===============================================>   ]===============================================>   ]===============================================>   ]===============================================>   ]===============================================>   ]===============================================>   ]===============================================>   ]===============================================>   ]===============================================>   ]===============================================>   ]===============================================>   ]===============================================>   ]===============================================>   ]===============================================>   ]===============================================>   ]===============================================>   ]===============================================>   ]\r"
     ]
    },
    {
     "name": "stderr",
     "output_type": "stream",
     "text": [
      "IOPub message rate exceeded.\n",
      "The notebook server will temporarily stop sending output\n",
      "to the client in order to avoid crashing it.\n",
      "To change this limit, set the config variable\n",
      "`--NotebookApp.iopub_msg_rate_limit`.\n",
      "\n",
      "Current values:\n",
      "NotebookApp.iopub_msg_rate_limit=1000.0 (msgs/sec)\n",
      "NotebookApp.rate_limit_window=3.0 (secs)\n",
      "\n"
     ]
    },
    {
     "name": "stdout",
     "output_type": "stream",
     "text": [
      " (95.35%) [===============================================>   ]===============================================>   ]===============================================>   ]===============================================>   ]===============================================>   ]===============================================>   ]===============================================>   ]===============================================>   ]===============================================>   ]===============================================>   ]===============================================>   ]===============================================>   ]===============================================>   ]===============================================>   ]===============================================>   ]===============================================>   ]===============================================>   ]===============================================>   ]===============================================>   ]===============================================>   ]===============================================>   ]===============================================>   ]===============================================>   ]===============================================>   ]===============================================>   ]===============================================>   ]===============================================>   ]===============================================>   ]===============================================>   ]===============================================>   ]===============================================>   ]\r"
     ]
    },
    {
     "name": "stderr",
     "output_type": "stream",
     "text": [
      "IOPub message rate exceeded.\n",
      "The notebook server will temporarily stop sending output\n",
      "to the client in order to avoid crashing it.\n",
      "To change this limit, set the config variable\n",
      "`--NotebookApp.iopub_msg_rate_limit`.\n",
      "\n",
      "Current values:\n",
      "NotebookApp.iopub_msg_rate_limit=1000.0 (msgs/sec)\n",
      "NotebookApp.rate_limit_window=3.0 (secs)\n",
      "\n"
     ]
    },
    {
     "name": "stdout",
     "output_type": "stream",
     "text": [
      " (96.36%) [================================================>  ]===============================================>   ]===============================================>   ]===============================================>   ]===============================================>   ]===============================================>   ]===============================================>   ]===============================================>   ]===============================================>   ]===============================================>   ]===============================================>   ]===============================================>   ]===============================================>   ]===============================================>   ]===============================================>   ]===============================================>   ]===============================================>   ]===============================================>   ]================================================>  ]================================================>  ]================================================>  ]================================================>  ]================================================>  ]================================================>  ]================================================>  ]================================================>  ]================================================>  ]================================================>  ]================================================>  ]================================================>  ]================================================>  ]================================================>  ]================================================>  ]================================================>  ]================================================>  ]\r"
     ]
    },
    {
     "name": "stderr",
     "output_type": "stream",
     "text": [
      "IOPub message rate exceeded.\n",
      "The notebook server will temporarily stop sending output\n",
      "to the client in order to avoid crashing it.\n",
      "To change this limit, set the config variable\n",
      "`--NotebookApp.iopub_msg_rate_limit`.\n",
      "\n",
      "Current values:\n",
      "NotebookApp.iopub_msg_rate_limit=1000.0 (msgs/sec)\n",
      "NotebookApp.rate_limit_window=3.0 (secs)\n",
      "\n"
     ]
    },
    {
     "name": "stdout",
     "output_type": "stream",
     "text": [
      " (97.37%) [================================================>  ]================================================>  ]================================================>  ]================================================>  ]================================================>  ]================================================>  ]================================================>  ]================================================>  ]================================================>  ]================================================>  ]================================================>  ]================================================>  ]================================================>  ]================================================>  ]================================================>  ]================================================>  ]================================================>  ]================================================>  ]================================================>  ]================================================>  ]================================================>  ]================================================>  ]================================================>  ]================================================>  ]================================================>  ]================================================>  ]================================================>  ]\r"
     ]
    },
    {
     "name": "stderr",
     "output_type": "stream",
     "text": [
      "IOPub message rate exceeded.\n",
      "The notebook server will temporarily stop sending output\n",
      "to the client in order to avoid crashing it.\n",
      "To change this limit, set the config variable\n",
      "`--NotebookApp.iopub_msg_rate_limit`.\n",
      "\n",
      "Current values:\n",
      "NotebookApp.iopub_msg_rate_limit=1000.0 (msgs/sec)\n",
      "NotebookApp.rate_limit_window=3.0 (secs)\n",
      "\n"
     ]
    },
    {
     "name": "stdout",
     "output_type": "stream",
     "text": [
      " (98.39%) [=================================================> ]================================================>  ]================================================>  ]================================================>  ]================================================>  ]================================================>  ]================================================>  ]================================================>  ]================================================>  ]================================================>  ]=================================================> ]=================================================> ]=================================================> ]=================================================> ]=================================================> ]=================================================> ]=================================================> ]=================================================> ]=================================================> ]=================================================> ]=================================================> ]=================================================> ]=================================================> ]=================================================> ]=================================================> ]=================================================> ]=================================================> ]=================================================> ]=================================================> ]=================================================> ]=================================================> ]=================================================> ]=================================================> ]=================================================> ]=================================================> ]\r"
     ]
    },
    {
     "name": "stderr",
     "output_type": "stream",
     "text": [
      "IOPub message rate exceeded.\n",
      "The notebook server will temporarily stop sending output\n",
      "to the client in order to avoid crashing it.\n",
      "To change this limit, set the config variable\n",
      "`--NotebookApp.iopub_msg_rate_limit`.\n",
      "\n",
      "Current values:\n",
      "NotebookApp.iopub_msg_rate_limit=1000.0 (msgs/sec)\n",
      "NotebookApp.rate_limit_window=3.0 (secs)\n",
      "\n"
     ]
    },
    {
     "name": "stdout",
     "output_type": "stream",
     "text": [
      " (99.43%) [=================================================> ]=================================================> ]=================================================> ]=================================================> ]=================================================> ]=================================================> ]=================================================> ]=================================================> ]=================================================> ]=================================================> ]=================================================> ]=================================================> ]=================================================> ]=================================================> ]=================================================> ]=================================================> ]=================================================> ]=================================================> ]=================================================> ]=================================================> ]=================================================> ]=================================================> ]=================================================> ]=================================================> ]=================================================> ]=================================================> ]=================================================> ]=================================================> ]=================================================> ]=================================================> ]=================================================> ]=================================================> ]=================================================> ]=================================================> ]=================================================> ]=================================================> ]=================================================> ]\r"
     ]
    },
    {
     "name": "stderr",
     "output_type": "stream",
     "text": [
      "IOPub message rate exceeded.\n",
      "The notebook server will temporarily stop sending output\n",
      "to the client in order to avoid crashing it.\n",
      "To change this limit, set the config variable\n",
      "`--NotebookApp.iopub_msg_rate_limit`.\n",
      "\n",
      "Current values:\n",
      "NotebookApp.iopub_msg_rate_limit=1000.0 (msgs/sec)\n",
      "NotebookApp.rate_limit_window=3.0 (secs)\n",
      "\n"
     ]
    },
    {
     "name": "stdout",
     "output_type": "stream",
     "text": [
      " (100.00%) [==================================================>]================================================> ]=================================================> ]=================================================> ]=================================================> ]=================================================> ]=================================================> ]=================================================> ]\n"
     ]
    }
   ],
   "source": [
    "db_file = './journal-database/database100_preprocessed.xlsx'\n",
    "fasttext.util.download_model('en', if_exists='ignore')  # English\n",
    "ft = fasttext.load_model('cc.en.300.bin')"
   ]
  },
  {
   "cell_type": "code",
   "execution_count": 7,
   "id": "7964adcc",
   "metadata": {},
   "outputs": [
    {
     "data": {
      "text/plain": [
       "<fasttext.FastText._FastText at 0x26ff04ab5e0>"
      ]
     },
     "execution_count": 7,
     "metadata": {},
     "output_type": "execute_result"
    }
   ],
   "source": [
    "fasttext.util.reduce_model(ft, 100)"
   ]
  },
  {
   "cell_type": "code",
   "execution_count": 8,
   "id": "ed710f04",
   "metadata": {},
   "outputs": [],
   "source": [
    "topics = {\n",
    "  \"mk\": \"musculoskeletal radiology\",\n",
    "  \"ct\": \"computed tomography\",\n",
    "  \"br\": \"breast imaging\",\n",
    "  \"gu\": \"geritourinary radiology\",\n",
    "  \"us\": \"ultrasound\",\n",
    "  \"ch\": \"chest Radiology\",\n",
    "  \"ir\": \"interventional radiology\",\n",
    "}"
   ]
  },
  {
   "cell_type": "code",
   "execution_count": 9,
   "id": "e7ccd662",
   "metadata": {},
   "outputs": [],
   "source": [
    "datamk = np.array(pd.read_excel(db_file, sheet_name='mk').abstract)\n",
    "datact = np.array(pd.read_excel(db_file, sheet_name='ct').abstract)\n",
    "databr = np.array(pd.read_excel(db_file, sheet_name='br').abstract)\n",
    "datagu = np.array(pd.read_excel(db_file, sheet_name='gu').abstract)\n",
    "dataus = np.array(pd.read_excel(db_file, sheet_name='us').abstract)\n",
    "datach = np.array(pd.read_excel(db_file, sheet_name='ch').abstract)\n",
    "datair = np.array(pd.read_excel(db_file, sheet_name='ir').abstract)"
   ]
  },
  {
   "cell_type": "code",
   "execution_count": 10,
   "id": "75660c5d",
   "metadata": {},
   "outputs": [],
   "source": [
    "pca = decomposition.PCA(n_components=2, random_state=0)\n",
    "\n"
   ]
  },
  {
   "cell_type": "code",
   "execution_count": 11,
   "id": "998a04eb",
   "metadata": {},
   "outputs": [],
   "source": [
    "def spatial_distance(vector1, vector2):\n",
    "    return spatial.distance.euclidean(vector1, vector2)"
   ]
  },
  {
   "cell_type": "code",
   "execution_count": 12,
   "id": "bbe7f440",
   "metadata": {},
   "outputs": [],
   "source": [
    "# generate embedded vectors for all abstracts\n",
    "def get_embedded_vectors(items):\n",
    "    array = []\n",
    "    for item in items:\n",
    "        item_embedding = ft.get_sentence_vector(item)\n",
    "        array.append(item_embedding)\n",
    "    return array"
   ]
  },
  {
   "cell_type": "code",
   "execution_count": 13,
   "id": "0be57263",
   "metadata": {},
   "outputs": [],
   "source": [
    "# embedded vectors for abstracts\n",
    "\n",
    "vectors_mk = get_embedded_vectors(datamk)\n",
    "vectors_ct = get_embedded_vectors(datact)\n",
    "vectors_br = get_embedded_vectors(databr)\n",
    "vectors_gu = get_embedded_vectors(datagu)\n",
    "vectors_us = get_embedded_vectors(dataus)\n",
    "vectors_ch = get_embedded_vectors(datach)\n",
    "vectors_ir = get_embedded_vectors(datair)\n"
   ]
  },
  {
   "cell_type": "code",
   "execution_count": 14,
   "id": "ae64682b",
   "metadata": {},
   "outputs": [],
   "source": [
    "# embedded vectors for topics\n",
    "arr = []\n",
    "arr.append(ft.get_sentence_vector(topics['mk']))\n",
    "arr.append(ft.get_sentence_vector(topics['ct']))\n",
    "arr.append(ft.get_sentence_vector(topics['br']))\n",
    "arr.append(ft.get_sentence_vector(topics['gu']))\n",
    "arr.append(ft.get_sentence_vector(topics['us']))\n",
    "arr.append(ft.get_sentence_vector(topics['ch']))\n",
    "arr.append(ft.get_sentence_vector(topics['ir']))\n",
    "two_dim = pca.fit_transform(arr)"
   ]
  },
  {
   "cell_type": "code",
   "execution_count": 15,
   "id": "8cf1c374",
   "metadata": {},
   "outputs": [],
   "source": [
    "# to two dimensions\n",
    "\n",
    "two_dim_vectors_mk = pca.fit_transform(vectors_mk)\n",
    "two_dim_vectors_ct = pca.fit_transform(vectors_ct)\n",
    "two_dim_vectors_br = pca.fit_transform(vectors_br)\n",
    "two_dim_vectors_gu = pca.fit_transform(vectors_gu)\n",
    "two_dim_vectors_us = pca.fit_transform(vectors_us)\n",
    "two_dim_vectors_ch = pca.fit_transform(vectors_ch)\n",
    "two_dim_vectors_ir = pca.fit_transform(vectors_ir)"
   ]
  },
  {
   "cell_type": "code",
   "execution_count": 16,
   "id": "3f0717bc",
   "metadata": {},
   "outputs": [
    {
     "name": "stdout",
     "output_type": "stream",
     "text": [
      "0.7137592434883118\n",
      "0.2451786718573742\n"
     ]
    }
   ],
   "source": [
    "print(spatial_distance(arr[0], vectors_mk[0]))\n",
    "print(spatial_distance(two_dim[0], two_dim_vectors_mk[0]))"
   ]
  },
  {
   "cell_type": "code",
   "execution_count": 17,
   "id": "41f6f967",
   "metadata": {},
   "outputs": [],
   "source": [
    "def draw_topics(array_of_points):\n",
    "    colors = [\"blue\", \"green\", \"magenta\", \"purple\", \"orange\", \"black\", \"cyan\"]\n",
    "    for i, topic in enumerate(array_of_points):\n",
    "        plt.scatter(topic[0], topic[1], c=colors[i], s=400)"
   ]
  },
  {
   "cell_type": "code",
   "execution_count": 18,
   "id": "cb00e3b2",
   "metadata": {},
   "outputs": [
    {
     "data": {
      "image/png": "[encoded data removed]",
      "text/plain": [
       "<Figure size 1200x600 with 1 Axes>"
      ]
     },
     "metadata": {},
     "output_type": "display_data"
    }
   ],
   "source": [
    "# visualize abstract-topic\n",
    "plt.figure(figsize=(12, 6))\n",
    "plt.scatter(two_dim_vectors_mk[:, 0], two_dim_vectors_mk[:, 1], c='blue', label=\"Musculoskeletal Radiology\")\n",
    "plt.scatter(two_dim_vectors_ct[:, 0], two_dim_vectors_ct[:, 1], c='green', label=\"Computed Tomography\")\n",
    "plt.scatter(two_dim_vectors_br[:, 0], two_dim_vectors_br[:, 1], c='magenta', label=\"Breast Imaging\")\n",
    "plt.scatter(two_dim_vectors_gu[:, 0], two_dim_vectors_gu[:, 1], c='purple', label=\"Geritourinary Radiology\")\n",
    "plt.scatter(two_dim_vectors_us[:, 0], two_dim_vectors_us[:, 1], c='orange', label=\"Ultrasound\")\n",
    "plt.scatter(two_dim_vectors_ch[:, 0], two_dim_vectors_ch[:, 1], c='black', label=\"Chest Radiology\")\n",
    "plt.scatter(two_dim_vectors_ir[:, 0], two_dim_vectors_ir[:, 1], c='cyan', label=\"Interventional Radiology\")\n",
    "plt.legend()\n",
    "draw_topics(two_dim)"
   ]
  },
  {
   "cell_type": "code",
   "execution_count": 19,
   "id": "5e98d45e",
   "metadata": {},
   "outputs": [],
   "source": [
    "# euclidean distance from one abstract to all topics, figure out what it would be categorized\n",
    "\n",
    "def predict_correct_class(a_pca_vectors, topic_pca_vectors, correct_class):\n",
    "    abstracts = []\n",
    "    for i, vector in enumerate(a_pca_vectors):\n",
    "        distances = []\n",
    "        for topic in topic_pca_vectors:\n",
    "            # euclidean distance between abstract and points\n",
    "            distances.append(spatial_distance(vector,topic))\n",
    "        abstracts.append(distances)\n",
    "    right_wrong = [0,0]\n",
    "    for distance in abstracts:\n",
    "        if np.argmin(distance) == correct_class:\n",
    "            right_wrong[0] += 1\n",
    "        else: right_wrong[1] += 1\n",
    "    return right_wrong"
   ]
  },
  {
   "cell_type": "code",
   "execution_count": 20,
   "id": "f115fad4",
   "metadata": {},
   "outputs": [],
   "source": [
    "# predicted right classes for abstracts\n",
    "mk_right_wrong = predict_correct_class(vectors_mk, arr, 0)\n",
    "ct_right_wrong = predict_correct_class(vectors_ct, arr, 1)\n",
    "br_right_wrong = predict_correct_class(vectors_br, arr, 2)\n",
    "gu_right_wrong = predict_correct_class(vectors_gu, arr, 3)\n",
    "us_right_wrong = predict_correct_class(vectors_us, arr, 4)\n",
    "ch_right_wrong = predict_correct_class(vectors_ch, arr, 5)\n",
    "ir_right_wrong = predict_correct_class(vectors_ir, arr, 6)"
   ]
  },
  {
   "cell_type": "code",
   "execution_count": 21,
   "id": "ec09b814",
   "metadata": {},
   "outputs": [
    {
     "name": "stdout",
     "output_type": "stream",
     "text": [
      "[1, 99]\n",
      "[31, 65]\n",
      "[89, 9]\n",
      "[0, 99]\n",
      "[0, 96]\n",
      "[0, 99]\n",
      "[0, 96]\n"
     ]
    }
   ],
   "source": [
    "print(mk_right_wrong)\n",
    "print(ct_right_wrong)\n",
    "print(br_right_wrong)\n",
    "print(gu_right_wrong)\n",
    "print(us_right_wrong)\n",
    "print(ch_right_wrong)\n",
    "print(ir_right_wrong)\n",
    "#br dominoi täysin, sitten ct\n",
    "# ACCURACY, laskettu printeistä laskimella = 0,1769"
   ]
  },
  {
   "cell_type": "code",
   "execution_count": 22,
   "id": "da9d6367",
   "metadata": {},
   "outputs": [],
   "source": [
    "titlemk = np.array(pd.read_excel(db_file, sheet_name='mk').title)\n",
    "titlect = np.array(pd.read_excel(db_file, sheet_name='ct').title)\n",
    "titlebr = np.array(pd.read_excel(db_file, sheet_name='br').title)\n",
    "titlegu = np.array(pd.read_excel(db_file, sheet_name='gu').title)\n",
    "titleus = np.array(pd.read_excel(db_file, sheet_name='us').title)\n",
    "titlech = np.array(pd.read_excel(db_file, sheet_name='ch').title)\n",
    "titleir = np.array(pd.read_excel(db_file, sheet_name='ir').title)"
   ]
  },
  {
   "cell_type": "code",
   "execution_count": 23,
   "id": "74bd1681",
   "metadata": {},
   "outputs": [],
   "source": [
    "# embedded vectors for title\n",
    "\n",
    "title_vectors_mk = get_embedded_vectors(titlemk)\n",
    "title_vectors_ct = get_embedded_vectors(titlect)\n",
    "title_vectors_br = get_embedded_vectors(titlebr)\n",
    "title_vectors_gu = get_embedded_vectors(titlegu)\n",
    "title_vectors_us = get_embedded_vectors(titleus)\n",
    "title_vectors_ch = get_embedded_vectors(titlech)\n",
    "title_vectors_ir = get_embedded_vectors(titleir)\n",
    "\n",
    "# to two dimensions\n",
    "\n",
    "two_dim_title_mk = pca.fit_transform(title_vectors_mk)\n",
    "two_dim_title_ct = pca.fit_transform(title_vectors_ct)\n",
    "two_dim_title_br = pca.fit_transform(title_vectors_br)\n",
    "two_dim_title_gu = pca.fit_transform(title_vectors_gu)\n",
    "two_dim_title_us = pca.fit_transform(title_vectors_us)\n",
    "two_dim_title_ch = pca.fit_transform(title_vectors_ch)\n",
    "two_dim_title_ir = pca.fit_transform(title_vectors_ir)"
   ]
  },
  {
   "cell_type": "code",
   "execution_count": 25,
   "id": "c222108d",
   "metadata": {},
   "outputs": [
    {
     "data": {
      "image/png": "[encoded data removed]",
      "text/plain": [
       "<Figure size 1200x600 with 1 Axes>"
      ]
     },
     "metadata": {},
     "output_type": "display_data"
    }
   ],
   "source": [
    "# visualize titles-topic\n",
    "plt.figure(figsize=(12, 6))\n",
    "plt.scatter(two_dim_title_mk[:, 0], two_dim_title_mk[:, 1], c='blue', label=\"Musculoskeletal Radiology\")\n",
    "plt.scatter(two_dim_title_ct[:, 0], two_dim_title_ct[:, 1], c='green', label=\"Computed Tomography\")\n",
    "plt.scatter(two_dim_title_br[:, 0], two_dim_title_br[:, 1], c='magenta', label=\"Breast Imaging\")\n",
    "plt.scatter(two_dim_title_gu[:, 0], two_dim_title_gu[:, 1], c='purple', label=\"Geritourinary Radiology\")\n",
    "plt.scatter(two_dim_title_us[:, 0], two_dim_title_us[:, 1], c='orange', label=\"Ultrasound\")\n",
    "plt.scatter(two_dim_title_ch[:, 0], two_dim_title_ch[:, 1], c='black', label=\"Chest Radiology\")\n",
    "plt.scatter(two_dim_title_ir[:, 0], two_dim_title_ir[:, 1], c='cyan', label=\"Interventional Radiology\")\n",
    "plt.legend()\n",
    "draw_topics(two_dim)"
   ]
  },
  {
   "cell_type": "code",
   "execution_count": 26,
   "id": "27cc79a4",
   "metadata": {},
   "outputs": [
    {
     "name": "stdout",
     "output_type": "stream",
     "text": [
      "[1, 99]\n",
      "[14, 82]\n",
      "[98, 0]\n",
      "[0, 99]\n",
      "[0, 96]\n",
      "[0, 99]\n",
      "[4, 92]\n"
     ]
    }
   ],
   "source": [
    "# predicted right classes for titles\n",
    "mk_title_right_wrong = predict_correct_class(title_vectors_mk, arr, 0)\n",
    "ct_title_right_wrong = predict_correct_class(title_vectors_ct, arr, 1)\n",
    "br_title_right_wrong = predict_correct_class(title_vectors_br, arr, 2)\n",
    "gu_title_right_wrong = predict_correct_class(title_vectors_gu, arr, 3)\n",
    "us_title_right_wrong = predict_correct_class(title_vectors_us, arr, 4)\n",
    "ch_title_right_wrong = predict_correct_class(title_vectors_ch, arr, 5)\n",
    "ir_title_right_wrong = predict_correct_class(title_vectors_ir, arr, 6)\n",
    "\n",
    "print(mk_title_right_wrong)\n",
    "print(ct_title_right_wrong)\n",
    "print(br_title_right_wrong)\n",
    "print(gu_title_right_wrong)\n",
    "print(us_title_right_wrong)\n",
    "print(ch_title_right_wrong)\n",
    "print(ir_title_right_wrong)\n",
    "#br dominoi täysin ct tippunut,\n",
    "# ACCURACY, laskettu printeistä laskimella = 0,171"
   ]
  },
  {
   "cell_type": "code",
   "execution_count": 27,
   "id": "0079d80f",
   "metadata": {},
   "outputs": [],
   "source": [
    "def add_title_and_abstract(abstracts, titles):\n",
    "    arr = []\n",
    "    i = 0\n",
    "    while i < len(abstracts):\n",
    "        arr.append(titles[i] + \" \" + abstracts[i])\n",
    "        i += 1\n",
    "    return arr"
   ]
  },
  {
   "cell_type": "code",
   "execution_count": 28,
   "id": "2b5ead90",
   "metadata": {},
   "outputs": [],
   "source": [
    "# add title and abstract to one string\n",
    "title_abstract_mk = add_title_and_abstract(datamk, titlemk)\n",
    "title_abstract_ct = add_title_and_abstract(datact, titlect)\n",
    "title_abstract_br = add_title_and_abstract(databr, titlebr)\n",
    "title_abstract_gu = add_title_and_abstract(datagu, titlegu)\n",
    "title_abstract_us = add_title_and_abstract(dataus, titleus)\n",
    "title_abstract_ch = add_title_and_abstract(datach, titlech)\n",
    "title_abstract_ir = add_title_and_abstract(datair, titleir)"
   ]
  },
  {
   "cell_type": "code",
   "execution_count": 29,
   "id": "eca4c779",
   "metadata": {},
   "outputs": [],
   "source": [
    "# embedded vectors for abstracts\n",
    "\n",
    "ta_vectors_mk = get_embedded_vectors(title_abstract_mk)\n",
    "ta_vectors_ct = get_embedded_vectors(title_abstract_ct)\n",
    "ta_vectors_br = get_embedded_vectors(title_abstract_br)\n",
    "ta_vectors_gu = get_embedded_vectors(title_abstract_gu)\n",
    "ta_vectors_us = get_embedded_vectors(title_abstract_us)\n",
    "ta_vectors_ch = get_embedded_vectors(title_abstract_ch)\n",
    "ta_vectors_ir = get_embedded_vectors(title_abstract_ir)"
   ]
  },
  {
   "cell_type": "code",
   "execution_count": 30,
   "id": "2c5f6054",
   "metadata": {},
   "outputs": [],
   "source": [
    "# PCA for title-abstract\n",
    "two_dim_ta_mk = pca.fit_transform(ta_vectors_mk)\n",
    "two_dim_ta_ct = pca.fit_transform(ta_vectors_ct)\n",
    "two_dim_ta_br = pca.fit_transform(ta_vectors_br)\n",
    "two_dim_ta_gu = pca.fit_transform(ta_vectors_gu)\n",
    "two_dim_ta_us = pca.fit_transform(ta_vectors_us)\n",
    "two_dim_ta_ch = pca.fit_transform(ta_vectors_ch)\n",
    "two_dim_ta_ir = pca.fit_transform(ta_vectors_ir)"
   ]
  },
  {
   "cell_type": "code",
   "execution_count": 31,
   "id": "17de0c9a",
   "metadata": {},
   "outputs": [
    {
     "data": {
      "image/png": "[encoded data removed]",
      "text/plain": [
       "<Figure size 1200x600 with 1 Axes>"
      ]
     },
     "metadata": {},
     "output_type": "display_data"
    }
   ],
   "source": [
    "# visualize abstract-titles-topic\n",
    "plt.figure(figsize=(12, 6))\n",
    "plt.scatter(two_dim_ta_mk[:, 0], two_dim_ta_mk[:, 1], c='blue', label=\"Musculoskeletal Radiology\")\n",
    "plt.scatter(two_dim_ta_ct[:, 0], two_dim_ta_ct[:, 1], c='green', label=\"Computed Tomography\")\n",
    "plt.scatter(two_dim_ta_br[:, 0], two_dim_ta_br[:, 1], c='magenta', label=\"Breast Imaging\")\n",
    "plt.scatter(two_dim_ta_gu[:, 0], two_dim_ta_gu[:, 1], c='purple', label=\"Geritourinary Radiology\")\n",
    "plt.scatter(two_dim_ta_us[:, 0], two_dim_ta_us[:, 1], c='orange', label=\"Ultrasound\")\n",
    "plt.scatter(two_dim_ta_ch[:, 0], two_dim_ta_ch[:, 1], c='black', label=\"Chest Radiology\")\n",
    "plt.scatter(two_dim_ta_ir[:, 0], two_dim_ta_ir[:, 1], c='cyan', label=\"Interventional Radiology\")\n",
    "plt.legend()\n",
    "draw_topics(two_dim)"
   ]
  },
  {
   "cell_type": "code",
   "execution_count": 33,
   "id": "b54fa242",
   "metadata": {},
   "outputs": [
    {
     "name": "stdout",
     "output_type": "stream",
     "text": [
      "[0, 100]\n",
      "[21, 75]\n",
      "[98, 0]\n",
      "[0, 99]\n",
      "[0, 96]\n",
      "[0, 99]\n",
      "[0, 96]\n"
     ]
    }
   ],
   "source": [
    "# predicted right classes for abstract-titles\n",
    "mk_ta_right_wrong = predict_correct_class(ta_vectors_mk, arr, 0)\n",
    "ct_ta_right_wrong = predict_correct_class(ta_vectors_ct, arr, 1)\n",
    "br_ta_right_wrong = predict_correct_class(ta_vectors_br, arr, 2)\n",
    "gu_ta_right_wrong = predict_correct_class(ta_vectors_gu, arr, 3)\n",
    "us_ta_right_wrong = predict_correct_class(ta_vectors_us, arr, 4)\n",
    "ch_ta_right_wrong = predict_correct_class(ta_vectors_ch, arr, 5)\n",
    "ir_ta_right_wrong = predict_correct_class(ta_vectors_ir, arr, 6)\n",
    "\n",
    "print(mk_ta_right_wrong)\n",
    "print(ct_ta_right_wrong)\n",
    "print(br_ta_right_wrong)\n",
    "print(gu_ta_right_wrong)\n",
    "print(us_ta_right_wrong)\n",
    "print(ch_ta_right_wrong)\n",
    "print(ir_ta_right_wrong)\n",
    "#br dominoi täysiä, sitten ct\n",
    "# ACCURACY, laskettu printeistä laskimella = 0,173976"
   ]
  },
  {
   "cell_type": "code",
   "execution_count": null,
   "id": "557d9542",
   "metadata": {},
   "outputs": [],
   "source": []
  }
 ],
 "metadata": {
  "kernelspec": {
   "display_name": "Python 3 (ipykernel)",
   "language": "python",
   "name": "python3"
  },
  "language_info": {
   "codemirror_mode": {
    "name": "ipython",
    "version": 3
   },
   "file_extension": ".py",
   "mimetype": "text/x-python",
   "name": "python",
   "nbconvert_exporter": "python",
   "pygments_lexer": "ipython3",
   "version": "3.9.13"
  },
  "vscode": {
   "interpreter": {
    "hash": "916dbcbb3f70747c44a77c7bcd40155683ae19c65e1c03b4aa3499c5328201f1"
   }
  }
 },
 "nbformat": 4,
 "nbformat_minor": 5
}
