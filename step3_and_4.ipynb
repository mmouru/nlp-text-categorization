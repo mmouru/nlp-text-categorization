{
 "cells": [
  {
   "cell_type": "markdown",
   "metadata": {},
   "source": [
    "Step 3.\tSuggest a script that uses tf-idf vectorizer of genism to calculate the similarity between the topic title and the abstract. Calculate the mean and standard deviation over all abstracts associated to the same topic. Provide the result in a table. "
   ]
  },
  {
   "cell_type": "code",
   "execution_count": 69,
   "metadata": {},
   "outputs": [],
   "source": [
    "from sklearn.feature_extraction.text import TfidfVectorizer\n",
    "from sklearn.metrics.pairwise import cosine_similarity\n",
    "import pandas as pd\n",
    "import numpy as np\n",
    "import xlsxwriter"
   ]
  },
  {
   "cell_type": "code",
   "execution_count": 70,
   "metadata": {},
   "outputs": [],
   "source": [
    "# Initialize database\n",
    "\n",
    "db_name = \"database.xlsx\""
   ]
  },
  {
   "cell_type": "code",
   "execution_count": 71,
   "metadata": {},
   "outputs": [],
   "source": [
    "topics = {\n",
    "  \"mk\": \"Musculoskeletal Radiology\",\n",
    "  \"ct\": \"Computed Tomography\",\n",
    "  \"er\": \"Emergency Radiology\",\n",
    "  \"bq\": \"Biomarkers and Quantative imaging\",\n",
    "  \"sq\": \"Safety and Quality\",\n",
    "  \"pr\": \"Professionalism\",\n",
    "  \"nm\": \"Nuclear Medicine\",\n",
    "  \"ch\": \"Chest Radiology\",\n",
    "  \"br\": \"Breast Imaging\",\n",
    "  \"gu\": \"Geritourinary Radiology\"\n",
    "}"
   ]
  },
  {
   "cell_type": "code",
   "execution_count": 72,
   "metadata": {},
   "outputs": [
    {
     "name": "stdout",
     "output_type": "stream",
     "text": [
      "{'mk (mean, sd)': (0.0, 0.0), 'ct (mean, sd)': (0.0, 0.0), 'er (mean, sd)': (0.017046824991483352, 0.032254770051738206), 'bq (mean, sd)': (0.060033771837737046, 0.06097882980865835), 'sq (mean, sd)': (0.021951241999995357, 0.0423017720018925), 'pr (mean, sd)': (0.0, 0.0), 'nm (mean, sd)': (0.0, 0.0), 'ch (mean, sd)': (0.030733207082175324, 0.04371723153638751), 'br (mean, sd)': (0.12423357333030643, 0.08333330862754358), 'gu (mean, sd)': (0.0, 0.0)}\n"
     ]
    }
   ],
   "source": [
    "vectorizer = TfidfVectorizer(stop_words='english') # initialize vectorizer\n",
    "similarity_values_abst = {}\n",
    "\n",
    "for topic in topics:\n",
    "    sheet = pd.read_excel(db_name, sheet_name=topic) # open correct sheet\n",
    "    similarity_values_abst[topic]=[] # init an empty array within the dictionary\n",
    "    for abstract in sheet.abstract:\n",
    "\n",
    "        content = [topics[topic]]                                   # create the\n",
    "        content.append(abstract)                                    # topic title/abstract pair\n",
    "\n",
    "        vectors = vectorizer.fit_transform(content)                 # learn vocabulary and idf, return document-term matrix\n",
    "\n",
    "        cosine_sim_matrix = cosine_similarity(vectors, vectors)     # calculate cosine similarity\n",
    "\n",
    "        similarity_values_abst[topic].append(cosine_sim_matrix[0][1])    # append calculated similarity value to list\n",
    "\n",
    "mean_and_sd_abst = {}\n",
    "\n",
    "# calculate mean and sd for each topic\n",
    "for topic in similarity_values_abst:\n",
    "    mean = np.mean(similarity_values_abst[topic])\n",
    "    sd = np.std(similarity_values_abst[topic])\n",
    "    mean_and_sd_abst[topic + \" (mean, sd)\"]=tuple((mean, sd))\n",
    "\n",
    "print(mean_and_sd_abst)\n",
    "\n"
   ]
  },
  {
   "cell_type": "markdown",
   "metadata": {},
   "source": [
    "Step 4. Repeat 3) when considering the title of the document instead of the abstract. "
   ]
  },
  {
   "cell_type": "code",
   "execution_count": 73,
   "metadata": {},
   "outputs": [
    {
     "name": "stdout",
     "output_type": "stream",
     "text": [
      "{'mk (mean, sd)': (0.0, 0.0), 'ct (mean, sd)': (0.0, 0.0), 'er (mean, sd)': (0.026898517040603143, 0.05067972102989989), 'bq (mean, sd)': (0.09141002464719149, 0.05445426480717334), 'sq (mean, sd)': (0.019102934954983455, 0.054031259388937346), 'pr (mean, sd)': (0.0, 0.0), 'nm (mean, sd)': (0.0, 0.0), 'ch (mean, sd)': (0.06048006319738659, 0.06830405236574713), 'br (mean, sd)': (0.140790883494103, 0.06943194308788475), 'gu (mean, sd)': (0.0, 0.0)}\n"
     ]
    }
   ],
   "source": [
    "vectorizer = TfidfVectorizer(stop_words='english') # initialize vectorizer\n",
    "similarity_values_title = {}\n",
    "\n",
    "for topic in topics:\n",
    "    sheet = pd.read_excel(db_name, sheet_name=topic) # open correct sheet\n",
    "    similarity_values_title[topic]=[] # init an empty array within the dictionary\n",
    "    for title in sheet.title:\n",
    "\n",
    "        content = [topics[topic]]                                   # create the\n",
    "        content.append(title)                                    # topic title/abstract pair\n",
    "\n",
    "        vectors = vectorizer.fit_transform(content)                 # learn vocabulary and idf, return document-term matrix\n",
    "\n",
    "        cosine_sim_matrix = cosine_similarity(vectors, vectors)     # calculate cosine similarity\n",
    "\n",
    "        similarity_values_title[topic].append(cosine_sim_matrix[0][1])    # append calculated similarity value to list\n",
    "\n",
    "mean_and_sd_title = {}\n",
    "\n",
    "# calculate mean and sd for each topic\n",
    "for topic in similarity_values_title:\n",
    "    mean = np.mean(similarity_values_title[topic])\n",
    "    sd = np.std(similarity_values_title[topic])\n",
    "    mean_and_sd_title[topic + \" (mean, sd)\"]=tuple((mean, sd))\n",
    "\n",
    "print(mean_and_sd_title)"
   ]
  },
  {
   "cell_type": "markdown",
   "metadata": {},
   "source": [
    "Create table of the results from step 3. and step 4."
   ]
  },
  {
   "cell_type": "code",
   "execution_count": 74,
   "metadata": {},
   "outputs": [
    {
     "name": "stdout",
     "output_type": "stream",
     "text": [
      "{'mk (mean, sd)': (0.0, 0.0), 'ct (mean, sd)': (0.0, 0.0), 'er (mean, sd)': (0.017046824991483352, 0.032254770051738206), 'bq (mean, sd)': (0.060033771837737046, 0.06097882980865835), 'sq (mean, sd)': (0.021951241999995357, 0.0423017720018925), 'pr (mean, sd)': (0.0, 0.0), 'nm (mean, sd)': (0.0, 0.0), 'ch (mean, sd)': (0.030733207082175324, 0.04371723153638751), 'br (mean, sd)': (0.12423357333030643, 0.08333330862754358), 'gu (mean, sd)': (0.0, 0.0)}\n"
     ]
    }
   ],
   "source": [
    "# Similarity values of topic title and abstract to Excel table\n",
    "\n",
    "workbook = xlsxwriter.Workbook(\"similarity_table_abst.xlsx\")\n",
    "worksheet = workbook.add_worksheet(\"table\")\n",
    "worksheet.write(0, 1, 'Mean of similarity')\n",
    "worksheet.write(0, 2, 'Standard deviation (SD) of similarity')\n",
    "worksheet.write(0, 3, 'Sample size')\n",
    "\n",
    "for i, topic in enumerate(topics):\n",
    "    str = topics[topic] + \" \" + \"(\" + topic + \")\"\n",
    "    worksheet.write(i+1, 0, str)\n",
    "\n",
    "for j, stat in enumerate(mean_and_sd_abst):\n",
    "    worksheet.write_number(j+1, 1, mean_and_sd_abst[stat][0])\n",
    "    worksheet.write_number(j+1, 2, mean_and_sd_abst[stat][1])\n",
    "    worksheet.write_number(j+1, 3, len(similarity_values_abst[topic]))\n",
    "\n",
    "print(mean_and_sd_abst)\n",
    "\n",
    "workbook.close()"
   ]
  },
  {
   "cell_type": "code",
   "execution_count": 75,
   "metadata": {},
   "outputs": [
    {
     "name": "stdout",
     "output_type": "stream",
     "text": [
      "{'mk (mean, sd)': (0.0, 0.0), 'ct (mean, sd)': (0.0, 0.0), 'er (mean, sd)': (0.026898517040603143, 0.05067972102989989), 'bq (mean, sd)': (0.09141002464719149, 0.05445426480717334), 'sq (mean, sd)': (0.019102934954983455, 0.054031259388937346), 'pr (mean, sd)': (0.0, 0.0), 'nm (mean, sd)': (0.0, 0.0), 'ch (mean, sd)': (0.06048006319738659, 0.06830405236574713), 'br (mean, sd)': (0.140790883494103, 0.06943194308788475), 'gu (mean, sd)': (0.0, 0.0)}\n"
     ]
    }
   ],
   "source": [
    "# Similarity values of topic title and document title to Excel table\n",
    "\n",
    "workbook = xlsxwriter.Workbook(\"similarity_table_title.xlsx\")\n",
    "worksheet = workbook.add_worksheet(\"table\")\n",
    "worksheet.write(0, 1, 'Mean of similarity')\n",
    "worksheet.write(0, 2, 'Standard deviation (SD) of similarity')\n",
    "worksheet.write(0, 3, 'Sample size')\n",
    "\n",
    "for i, topic in enumerate(topics):\n",
    "    str = topics[topic] + \" \" + \"(\" + topic + \")\"\n",
    "    worksheet.write(i+1, 0, str)\n",
    "\n",
    "for j, stat in enumerate(mean_and_sd_title):\n",
    "    worksheet.write_number(j+1, 1, mean_and_sd_title[stat][0])\n",
    "    worksheet.write_number(j+1, 2, mean_and_sd_title[stat][1])\n",
    "    worksheet.write_number(j+1, 3, len(similarity_values_abst[topic]))\n",
    "\n",
    "print(mean_and_sd_title)\n",
    "\n",
    "workbook.close()"
   ]
  }
 ],
 "metadata": {
  "kernelspec": {
   "display_name": "Python 3.10.7 64-bit",
   "language": "python",
   "name": "python3"
  },
  "language_info": {
   "codemirror_mode": {
    "name": "ipython",
    "version": 3
   },
   "file_extension": ".py",
   "mimetype": "text/x-python",
   "name": "python",
   "nbconvert_exporter": "python",
   "pygments_lexer": "ipython3",
   "version": "3.10.7"
  },
  "orig_nbformat": 4,
  "vscode": {
   "interpreter": {
    "hash": "c47e19fa6775d3cdc924788ab6c939d3ea38ea8e1afeead3182c988de8926052"
   }
  }
 },
 "nbformat": 4,
 "nbformat_minor": 2
}
